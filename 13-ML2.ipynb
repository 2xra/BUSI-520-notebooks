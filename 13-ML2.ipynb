{
  "cells": [
    {
      "cell_type": "markdown",
      "metadata": {
        "slideshow": {
          "slide_type": "slide"
        }
      },
      "source": [
        "# More Machine Learning\n",
        "\n",
        "### BUSI 520 - Python for Business Research\n",
        "### Kerry Back, JGSB, Rice University"
      ]
    },
    {
      "cell_type": "code",
      "execution_count": 74,
      "metadata": {
        "id": "vCf6CweMKF_W",
        "slideshow": {
          "slide_type": "slide"
        }
      },
      "outputs": [],
      "source": [
        "import numpy as np\n",
        "import pandas as pd\n",
        "import matplotlib.pyplot as plt"
      ]
    },
    {
      "cell_type": "markdown",
      "metadata": {
        "slideshow": {
          "slide_type": "slide"
        }
      },
      "source": [
        "## Example data"
      ]
    },
    {
      "cell_type": "code",
      "execution_count": 75,
      "metadata": {
        "slideshow": {
          "slide_type": "slide"
        }
      },
      "outputs": [],
      "source": [
        "# Generate 50 features (predictors)\n",
        "np.random.seed(0)\n",
        "X = pd.DataFrame(\n",
        "    np.random.normal(size=(1000, 50))\n",
        ")\n",
        "\n",
        "# Some noise\n",
        "noise = np.random.normal(size=1000)\n",
        "\n",
        "# Regression target\n",
        "yr = X[0] + noise\n",
        "\n",
        "# Binary target\n",
        "yb = 1*(yr > 0)\n",
        "\n",
        "# Multi-class target\n",
        "ym = 1*(yr > -1) + 1*(yr > 1)"
      ]
    },
    {
      "cell_type": "markdown",
      "metadata": {
        "id": "hGB13B-GKF_u",
        "slideshow": {
          "slide_type": "slide"
        }
      },
      "source": [
        "## Logit\n",
        "\n",
        "Choose parameters to maximize fit of \n",
        "$$ \\frac{1}{1+e^{-\\sum \\beta_i x_i}}$$\n",
        "to the dummy variable.\n",
        "\n",
        "* Scikit-learn's logistic regression can accomodate an $\\ell^1$ penalty (lasso) or an $\\ell^2$ penalty (ridge) or both (elastic net). \n",
        "* Specify penalty=\"l1\", penalty=\"l2\", penalty=\"elasticnet\", or penalty=\"none.\"  \n",
        "* The default imposes an $\\ell^2$ penalty.  "
      ]
    },
    {
      "cell_type": "markdown",
      "metadata": {
        "slideshow": {
          "slide_type": "slide"
        }
      },
      "source": [
        "* If penalty = \"l1\", specify solver (e.g., \"saga\").\n",
        "* If penalty=\"elasticnet\", specify l1_ratio and solver=\"saga.\"  \n",
        "* The size of the penalty is inverse to the parameter C.\n",
        "* The score for logistic regression is the fraction of correct predictions.  "
      ]
    },
    {
      "cell_type": "code",
      "execution_count": 76,
      "metadata": {
        "slideshow": {
          "slide_type": "slide"
        }
      },
      "outputs": [],
      "source": [
        "# Split into train and test (cross-validate on train)\n",
        "from sklearn.model_selection import train_test_split\n",
        "X_train, X_test, yb_train, yb_test = train_test_split(\n",
        "    X, yb, \n",
        "    test_size=0.2, \n",
        "    random_state=0\n",
        ")"
      ]
    },
    {
      "cell_type": "code",
      "execution_count": 77,
      "metadata": {
        "id": "dB_H-wMfKF_u",
        "outputId": "5835160e-91bd-4a98-d16e-f5f7a543d3a6",
        "slideshow": {
          "slide_type": "slide"
        }
      },
      "outputs": [
        {
          "name": "stdout",
          "output_type": "stream",
          "text": [
            "fraction of correct predictions on training data is 0.77625\n",
            "fraction of correct predictions on test data is 0.71\n"
          ]
        },
        {
          "data": {
            "text/plain": [
              "array([[ 1.73859559e+00, -8.99671472e-04, -4.31977075e-02,\n",
              "         0.00000000e+00,  0.00000000e+00,  0.00000000e+00,\n",
              "         0.00000000e+00,  0.00000000e+00,  0.00000000e+00,\n",
              "         1.41933031e-01,  0.00000000e+00,  1.39790895e-01,\n",
              "         0.00000000e+00,  0.00000000e+00,  0.00000000e+00,\n",
              "         0.00000000e+00,  0.00000000e+00,  0.00000000e+00,\n",
              "         1.10172386e-02,  0.00000000e+00, -5.61635689e-02,\n",
              "         2.45219827e-02,  0.00000000e+00,  0.00000000e+00,\n",
              "         7.98783289e-02,  0.00000000e+00, -8.65180577e-02,\n",
              "         1.55867372e-01,  0.00000000e+00,  0.00000000e+00,\n",
              "         0.00000000e+00, -7.52358606e-03,  0.00000000e+00,\n",
              "         0.00000000e+00, -8.46462309e-02, -5.74706698e-02,\n",
              "         0.00000000e+00,  2.41749474e-02,  0.00000000e+00,\n",
              "         0.00000000e+00, -1.35431792e-02,  0.00000000e+00,\n",
              "         0.00000000e+00,  0.00000000e+00,  0.00000000e+00,\n",
              "        -2.17087795e-02,  0.00000000e+00,  0.00000000e+00,\n",
              "         0.00000000e+00,  0.00000000e+00]])"
            ]
          },
          "execution_count": 77,
          "metadata": {},
          "output_type": "execute_result"
        }
      ],
      "source": [
        "from sklearn.linear_model import LogisticRegression\n",
        "\n",
        "model1 = LogisticRegression(penalty=\"l1\", C=0.1, solver=\"saga\")\n",
        "model1.fit(X_train, yb_train)\n",
        "score_train = model1.score(X_train, yb_train)\n",
        "score_test = model1.score(X_test, yb_test)\n",
        "print(\"fraction of correct predictions on training data is\", score_train)\n",
        "print(\"fraction of correct predictions on test data is\", score_test)\n",
        "model1.coef_"
      ]
    },
    {
      "cell_type": "code",
      "execution_count": 78,
      "metadata": {
        "slideshow": {
          "slide_type": "slide"
        }
      },
      "outputs": [
        {
          "name": "stdout",
          "output_type": "stream",
          "text": [
            "fraction of correct predictions on training data is 0.78875\n",
            "fraction of correct predictions on test data is 0.705\n"
          ]
        },
        {
          "data": {
            "text/plain": [
              "array([[ 2.07939039e+00, -1.27068160e-01, -1.03178244e-01,\n",
              "        -1.07083319e-01,  5.59516272e-03,  8.54410427e-02,\n",
              "         3.82266719e-02, -3.65650954e-02,  1.57689612e-02,\n",
              "         3.08425763e-01, -9.40833788e-02,  2.25935105e-01,\n",
              "         1.20957912e-02, -9.14226711e-02,  1.50427781e-02,\n",
              "        -3.78116929e-02, -4.36459334e-03, -6.60978681e-02,\n",
              "         1.07393962e-01,  3.81311515e-02, -1.31600868e-01,\n",
              "         1.20535262e-01, -8.87493423e-02,  1.49447196e-03,\n",
              "         2.17827288e-01, -6.29915768e-03, -1.60071959e-01,\n",
              "         2.82957032e-01,  2.07920876e-02, -2.32818421e-02,\n",
              "        -6.17009935e-02, -1.22727719e-01, -5.48546121e-03,\n",
              "        -1.76118195e-02, -1.91506291e-01, -1.69292202e-01,\n",
              "         1.25097790e-02,  1.19281217e-01, -3.07577472e-03,\n",
              "        -3.47747150e-03, -7.81337019e-02, -2.19654589e-02,\n",
              "        -6.46058446e-02, -8.21649004e-02,  4.43894233e-02,\n",
              "        -1.08388588e-01,  6.57828732e-02,  2.46322359e-03,\n",
              "        -4.88500590e-02,  5.88734798e-02]])"
            ]
          },
          "execution_count": 78,
          "metadata": {},
          "output_type": "execute_result"
        }
      ],
      "source": [
        "model2 = LogisticRegression(penalty=\"l1\", C=100, solver=\"saga\")\n",
        "model2.fit(X_train, yb_train)\n",
        "score_train = model2.score(X_train, yb_train)\n",
        "score_test = model2.score(X_test, yb_test)\n",
        "print(\"fraction of correct predictions on training data is\", score_train)\n",
        "print(\"fraction of correct predictions on test data is\", score_test)\n",
        "model2.coef_"
      ]
    },
    {
      "cell_type": "code",
      "execution_count": 79,
      "metadata": {
        "slideshow": {
          "slide_type": "slide"
        }
      },
      "outputs": [
        {
          "data": {
            "text/plain": [
              "array([1, 0, 0, 0, 0, 0, 0, 0, 1, 1, 1, 1, 0, 1, 1, 0, 1, 1, 0, 0, 1, 1,\n",
              "       0, 0, 0, 1, 1, 0, 0, 0, 1, 0, 1, 0, 0, 1, 1, 0, 1, 1, 1, 0, 1, 0,\n",
              "       1, 0, 1, 1, 0, 0, 0, 0, 1, 0, 0, 0, 1, 1, 0, 1, 0, 0, 0, 1, 0, 1,\n",
              "       0, 1, 0, 1, 0, 0, 0, 1, 0, 1, 0, 0, 0, 0, 1, 0, 0, 0, 0, 0, 0, 0,\n",
              "       0, 1, 1, 0, 0, 0, 1, 1, 0, 1, 0, 1, 0, 0, 1, 1, 1, 1, 0, 0, 0, 1,\n",
              "       1, 1, 0, 0, 0, 1, 1, 0, 1, 1, 0, 1, 0, 0, 1, 1, 1, 0, 0, 1, 1, 0,\n",
              "       1, 1, 1, 0, 1, 0, 1, 1, 1, 0, 1, 0, 1, 1, 0, 0, 0, 0, 0, 1, 1, 1,\n",
              "       1, 1, 1, 0, 0, 1, 1, 1, 1, 1, 0, 0, 0, 0, 0, 0, 0, 0, 0, 0, 1, 0,\n",
              "       1, 0, 0, 0, 0, 1, 1, 0, 1, 0, 1, 0, 0, 1, 1, 1, 1, 1, 0, 0, 1, 0,\n",
              "       1, 0])"
            ]
          },
          "execution_count": 79,
          "metadata": {},
          "output_type": "execute_result"
        }
      ],
      "source": [
        "model1.predict(X_test)"
      ]
    },
    {
      "cell_type": "markdown",
      "metadata": {},
      "source": [
        "* predicted probabilities (for y=0 and y=1) \n",
        "* prediction is 0 if predicted prob for y=0 is > 1/2"
      ]
    },
    {
      "cell_type": "code",
      "execution_count": 80,
      "metadata": {
        "slideshow": {
          "slide_type": "slide"
        }
      },
      "outputs": [
        {
          "data": {
            "text/plain": [
              "array([[0.42078057, 0.57921943],\n",
              "       [0.71472459, 0.28527541],\n",
              "       [0.73447825, 0.26552175],\n",
              "       [0.89019094, 0.10980906],\n",
              "       [0.75379542, 0.24620458],\n",
              "       [0.55223312, 0.44776688],\n",
              "       [0.82134974, 0.17865026],\n",
              "       [0.79943129, 0.20056871],\n",
              "       [0.28633232, 0.71366768],\n",
              "       [0.49121064, 0.50878936],\n",
              "       [0.05301771, 0.94698229],\n",
              "       [0.15505116, 0.84494884],\n",
              "       [0.92151082, 0.07848918],\n",
              "       [0.12692082, 0.87307918],\n",
              "       [0.07232575, 0.92767425],\n",
              "       [0.77494671, 0.22505329],\n",
              "       [0.19047891, 0.80952109],\n",
              "       [0.10402037, 0.89597963],\n",
              "       [0.91408138, 0.08591862],\n",
              "       [0.84017193, 0.15982807],\n",
              "       [0.29780843, 0.70219157],\n",
              "       [0.13250638, 0.86749362],\n",
              "       [0.72287863, 0.27712137],\n",
              "       [0.79206844, 0.20793156],\n",
              "       [0.83030724, 0.16969276],\n",
              "       [0.3111865 , 0.6888135 ],\n",
              "       [0.20804034, 0.79195966],\n",
              "       [0.56862647, 0.43137353],\n",
              "       [0.68698105, 0.31301895],\n",
              "       [0.88075267, 0.11924733],\n",
              "       [0.24825551, 0.75174449],\n",
              "       [0.9211776 , 0.0788224 ],\n",
              "       [0.19118116, 0.80881884],\n",
              "       [0.59853061, 0.40146939],\n",
              "       [0.82135663, 0.17864337],\n",
              "       [0.40391837, 0.59608163],\n",
              "       [0.3303751 , 0.6696249 ],\n",
              "       [0.76876996, 0.23123004],\n",
              "       [0.25019086, 0.74980914],\n",
              "       [0.40430876, 0.59569124],\n",
              "       [0.44417982, 0.55582018],\n",
              "       [0.88054221, 0.11945779],\n",
              "       [0.04838798, 0.95161202],\n",
              "       [0.51335711, 0.48664289],\n",
              "       [0.4173929 , 0.5826071 ],\n",
              "       [0.50455874, 0.49544126],\n",
              "       [0.37837526, 0.62162474],\n",
              "       [0.06875195, 0.93124805],\n",
              "       [0.63383149, 0.36616851],\n",
              "       [0.88891207, 0.11108793],\n",
              "       [0.57624223, 0.42375777],\n",
              "       [0.84821355, 0.15178645],\n",
              "       [0.45326878, 0.54673122],\n",
              "       [0.85345309, 0.14654691],\n",
              "       [0.90112451, 0.09887549],\n",
              "       [0.92774154, 0.07225846],\n",
              "       [0.00575872, 0.99424128],\n",
              "       [0.18515185, 0.81484815],\n",
              "       [0.89976687, 0.10023313],\n",
              "       [0.33581609, 0.66418391],\n",
              "       [0.90736801, 0.09263199],\n",
              "       [0.54085614, 0.45914386],\n",
              "       [0.5942841 , 0.4057159 ],\n",
              "       [0.35129065, 0.64870935],\n",
              "       [0.62217533, 0.37782467],\n",
              "       [0.46826047, 0.53173953],\n",
              "       [0.5022471 , 0.4977529 ],\n",
              "       [0.22368114, 0.77631886],\n",
              "       [0.65966742, 0.34033258],\n",
              "       [0.07240744, 0.92759256],\n",
              "       [0.99223089, 0.00776911],\n",
              "       [0.88352664, 0.11647336],\n",
              "       [0.90860374, 0.09139626],\n",
              "       [0.32790193, 0.67209807],\n",
              "       [0.63541192, 0.36458808],\n",
              "       [0.37049445, 0.62950555],\n",
              "       [0.89558143, 0.10441857],\n",
              "       [0.72136329, 0.27863671],\n",
              "       [0.53454965, 0.46545035],\n",
              "       [0.78592863, 0.21407137],\n",
              "       [0.01340143, 0.98659857],\n",
              "       [0.63086223, 0.36913777],\n",
              "       [0.8932212 , 0.1067788 ],\n",
              "       [0.59947137, 0.40052863],\n",
              "       [0.9761231 , 0.0238769 ],\n",
              "       [0.85340192, 0.14659808],\n",
              "       [0.5081181 , 0.4918819 ],\n",
              "       [0.75955671, 0.24044329],\n",
              "       [0.89415209, 0.10584791],\n",
              "       [0.17917725, 0.82082275],\n",
              "       [0.17927279, 0.82072721],\n",
              "       [0.53331722, 0.46668278],\n",
              "       [0.90779868, 0.09220132],\n",
              "       [0.95285765, 0.04714235],\n",
              "       [0.48667871, 0.51332129],\n",
              "       [0.2161027 , 0.7838973 ],\n",
              "       [0.58138161, 0.41861839],\n",
              "       [0.27458378, 0.72541622],\n",
              "       [0.95706043, 0.04293957],\n",
              "       [0.39799016, 0.60200984],\n",
              "       [0.92876054, 0.07123946],\n",
              "       [0.74411559, 0.25588441],\n",
              "       [0.06650042, 0.93349958],\n",
              "       [0.24481291, 0.75518709],\n",
              "       [0.06478743, 0.93521257],\n",
              "       [0.27727077, 0.72272923],\n",
              "       [0.91212915, 0.08787085],\n",
              "       [0.56568854, 0.43431146],\n",
              "       [0.96205383, 0.03794617],\n",
              "       [0.05195701, 0.94804299],\n",
              "       [0.18728539, 0.81271461],\n",
              "       [0.18680402, 0.81319598],\n",
              "       [0.6906125 , 0.3093875 ],\n",
              "       [0.88490402, 0.11509598],\n",
              "       [0.92230556, 0.07769444],\n",
              "       [0.15773255, 0.84226745],\n",
              "       [0.16231441, 0.83768559],\n",
              "       [0.70029738, 0.29970262],\n",
              "       [0.4521719 , 0.5478281 ],\n",
              "       [0.06494222, 0.93505778],\n",
              "       [0.89296226, 0.10703774],\n",
              "       [0.17129134, 0.82870866],\n",
              "       [0.94933139, 0.05066861],\n",
              "       [0.61933049, 0.38066951],\n",
              "       [0.04728124, 0.95271876],\n",
              "       [0.28355886, 0.71644114],\n",
              "       [0.27231252, 0.72768748],\n",
              "       [0.62725067, 0.37274933],\n",
              "       [0.68416999, 0.31583001],\n",
              "       [0.02370983, 0.97629017],\n",
              "       [0.35756492, 0.64243508],\n",
              "       [0.73648827, 0.26351173],\n",
              "       [0.08641501, 0.91358499],\n",
              "       [0.48963839, 0.51036161],\n",
              "       [0.26961356, 0.73038644],\n",
              "       [0.85321065, 0.14678935],\n",
              "       [0.222208  , 0.777792  ],\n",
              "       [0.83332245, 0.16667755],\n",
              "       [0.47792799, 0.52207201],\n",
              "       [0.05308215, 0.94691785],\n",
              "       [0.22558356, 0.77441644],\n",
              "       [0.63344168, 0.36655832],\n",
              "       [0.29431456, 0.70568544],\n",
              "       [0.69895203, 0.30104797],\n",
              "       [0.0497164 , 0.9502836 ],\n",
              "       [0.2619746 , 0.7380254 ],\n",
              "       [0.92528425, 0.07471575],\n",
              "       [0.69173515, 0.30826485],\n",
              "       [0.97861279, 0.02138721],\n",
              "       [0.9515887 , 0.0484113 ],\n",
              "       [0.56510729, 0.43489271],\n",
              "       [0.46494616, 0.53505384],\n",
              "       [0.30537586, 0.69462414],\n",
              "       [0.42622402, 0.57377598],\n",
              "       [0.13273556, 0.86726444],\n",
              "       [0.13912562, 0.86087438],\n",
              "       [0.30471574, 0.69528426],\n",
              "       [0.90754094, 0.09245906],\n",
              "       [0.93252366, 0.06747634],\n",
              "       [0.47529874, 0.52470126],\n",
              "       [0.10595748, 0.89404252],\n",
              "       [0.20240037, 0.79759963],\n",
              "       [0.03682943, 0.96317057],\n",
              "       [0.07788667, 0.92211333],\n",
              "       [0.68080987, 0.31919013],\n",
              "       [0.6727591 , 0.3272409 ],\n",
              "       [0.98036789, 0.01963211],\n",
              "       [0.64541235, 0.35458765],\n",
              "       [0.76057151, 0.23942849],\n",
              "       [0.869147  , 0.130853  ],\n",
              "       [0.65484181, 0.34515819],\n",
              "       [0.86764071, 0.13235929],\n",
              "       [0.84625854, 0.15374146],\n",
              "       [0.69940955, 0.30059045],\n",
              "       [0.2362187 , 0.7637813 ],\n",
              "       [0.92009323, 0.07990677],\n",
              "       [0.15358711, 0.84641289],\n",
              "       [0.97340725, 0.02659275],\n",
              "       [0.72910076, 0.27089924],\n",
              "       [0.53133848, 0.46866152],\n",
              "       [0.67809552, 0.32190448],\n",
              "       [0.3519733 , 0.6480267 ],\n",
              "       [0.08138908, 0.91861092],\n",
              "       [0.84086129, 0.15913871],\n",
              "       [0.47292817, 0.52707183],\n",
              "       [0.52933458, 0.47066542],\n",
              "       [0.30086906, 0.69913094],\n",
              "       [0.59733301, 0.40266699],\n",
              "       [0.76742791, 0.23257209],\n",
              "       [0.09160812, 0.90839188],\n",
              "       [0.05881606, 0.94118394],\n",
              "       [0.38788582, 0.61211418],\n",
              "       [0.41635173, 0.58364827],\n",
              "       [0.35909108, 0.64090892],\n",
              "       [0.93568403, 0.06431597],\n",
              "       [0.71103284, 0.28896716],\n",
              "       [0.40752273, 0.59247727],\n",
              "       [0.89295167, 0.10704833],\n",
              "       [0.04420434, 0.95579566],\n",
              "       [0.57392966, 0.42607034]])"
            ]
          },
          "execution_count": 80,
          "metadata": {},
          "output_type": "execute_result"
        }
      ],
      "source": [
        "model1.predict_proba(X_test)"
      ]
    },
    {
      "cell_type": "markdown",
      "metadata": {
        "slideshow": {
          "slide_type": "slide"
        }
      },
      "source": [
        "## Exercise\n",
        "\n",
        "Run GridSearchCV on the training data to find the best $C$ in (0.001, 0.01, 0.1, 1, 10, 100) for logit with an $\\ell^1$ penalty."
      ]
    },
    {
      "cell_type": "markdown",
      "metadata": {
        "id": "XMUWWmLYKF_v",
        "slideshow": {
          "slide_type": "slide"
        }
      },
      "source": [
        "### Confusion matrix"
      ]
    },
    {
      "cell_type": "code",
      "execution_count": 81,
      "metadata": {
        "id": "VAF-fgh2KF_v",
        "outputId": "1c757e9b-43b0-4e96-f9d0-406e3df4c470",
        "slideshow": {
          "slide_type": "slide"
        }
      },
      "outputs": [
        {
          "data": {
            "text/plain": [
              "<sklearn.metrics._plot.confusion_matrix.ConfusionMatrixDisplay at 0x1a4221f3df0>"
            ]
          },
          "execution_count": 81,
          "metadata": {},
          "output_type": "execute_result"
        },
        {
          "data": {
            "image/png": "[encoded data removed]",
            "text/plain": [
              "<Figure size 640x480 with 2 Axes>"
            ]
          },
          "metadata": {},
          "output_type": "display_data"
        }
      ],
      "source": [
        "from sklearn.metrics import ConfusionMatrixDisplay\n",
        "\n",
        "ConfusionMatrixDisplay.from_estimator(\n",
        "    estimator=model1, \n",
        "    X=X_test, \n",
        "    y=yb_test\n",
        ")"
      ]
    },
    {
      "cell_type": "markdown",
      "metadata": {
        "id": "NxJnvUaxKF_v",
        "slideshow": {
          "slide_type": "slide"
        }
      },
      "source": [
        "### ROC curve\n",
        "\n",
        "* ROC = Receiver Operating Characteristics (not sure why).  \n",
        "* In binary classification, we can vary the threshold to change the frequency of \"positive\" predictions (in our case, positive = return above median).  \n",
        "* Hopefully, we can increase the number of true positives without increasing the number of false positives too much.  \n",
        "* This corresponds to an ROC curve above the 45 degree line.  "
      ]
    },
    {
      "cell_type": "code",
      "execution_count": 82,
      "metadata": {
        "id": "52FzNVeKKF_v",
        "outputId": "6a701596-9770-4053-b1db-e1640fb0a15a",
        "slideshow": {
          "slide_type": "slide"
        }
      },
      "outputs": [
        {
          "data": {
            "image/png": "[encoded data removed]",
            "text/plain": [
              "<Figure size 640x480 with 1 Axes>"
            ]
          },
          "metadata": {},
          "output_type": "display_data"
        }
      ],
      "source": [
        "from sklearn.metrics import RocCurveDisplay\n",
        "\n",
        "RocCurveDisplay.from_estimator(\n",
        "    estimator=model1, \n",
        "    X=X_test, \n",
        "    y=yb_test, \n",
        ")\n",
        "plt.show()"
      ]
    },
    {
      "cell_type": "markdown",
      "metadata": {
        "id": "r0HG_5eSKF_v",
        "slideshow": {
          "slide_type": "slide"
        }
      },
      "source": [
        "### Multi-class classification"
      ]
    },
    {
      "cell_type": "code",
      "execution_count": 83,
      "metadata": {
        "slideshow": {
          "slide_type": "slide"
        }
      },
      "outputs": [],
      "source": [
        "# Split into train and test (cross-validate on train)\n",
        "from sklearn.model_selection import train_test_split\n",
        "X_train, X_test, ym_train, ym_test = train_test_split(\n",
        "    X, ym, \n",
        "    test_size=0.2, \n",
        "    random_state=0\n",
        ")"
      ]
    },
    {
      "cell_type": "code",
      "execution_count": 84,
      "metadata": {
        "id": "cone94ZgKF_w",
        "outputId": "1fa8e32e-d055-4e42-ab16-a4cd98558acf",
        "slideshow": {
          "slide_type": "slide"
        }
      },
      "outputs": [
        {
          "name": "stdout",
          "output_type": "stream",
          "text": [
            "fraction of correct predictions on training data is 0.64\n",
            "fraction of correct predictions on test data is 0.585\n"
          ]
        }
      ],
      "source": [
        "model = LogisticRegression(penalty=\"l1\", C=0.1, solver=\"saga\")\n",
        "model.fit(X_train, ym_train)\n",
        "score_train = model.score(X_train, ym_train)\n",
        "score_test = model.score(X_test, ym_test)\n",
        "print(\"fraction of correct predictions on training data is\", score_train)\n",
        "print(\"fraction of correct predictions on test data is\", score_test)"
      ]
    },
    {
      "cell_type": "code",
      "execution_count": 85,
      "metadata": {
        "id": "QFGJb4-qKF_w",
        "outputId": "0142b500-00ed-47cc-aa19-156053d28ddb",
        "slideshow": {
          "slide_type": "slide"
        }
      },
      "outputs": [
        {
          "data": {
            "text/plain": [
              "<sklearn.metrics._plot.confusion_matrix.ConfusionMatrixDisplay at 0x1a423a93490>"
            ]
          },
          "execution_count": 85,
          "metadata": {},
          "output_type": "execute_result"
        },
        {
          "data": {
            "image/png": "[encoded data removed]",
            "text/plain": [
              "<Figure size 640x480 with 2 Axes>"
            ]
          },
          "metadata": {},
          "output_type": "display_data"
        }
      ],
      "source": [
        "ConfusionMatrixDisplay.from_estimator(estimator=model, X=X_test, y=ym_test)"
      ]
    },
    {
      "cell_type": "markdown",
      "metadata": {
        "slideshow": {
          "slide_type": "slide"
        }
      },
      "source": [
        "## Decision Trees\n",
        "\n",
        "* Split dataset into two parts based on some variable > some value or not (Yes or No).\n",
        "* Split each subset further in the same way\n",
        "* Continue for max_depth.  Final sets are called leaves.\n",
        "* For classification, prediction for each observation is the most common type in its leaf.\n",
        "* For regression, prediction for each observation is the mean value in its leaf.\n",
        "* In regression, each split is chosen to minimize weighted averages of MSEs.  \n",
        "* In classification, each split is chosen to minimize weighted average of impurities."
      ]
    },
    {
      "cell_type": "markdown",
      "metadata": {
        "slideshow": {
          "slide_type": "slide"
        }
      },
      "source": [
        "## Impurity measures\n",
        "\n",
        "* classes $k=1, \\ldots, K$\n",
        "* $p_k = $ frequency of class $k$\n",
        "* Gini index:\n",
        "$$ \\sum_{k=1}^K p_k(1-p_k)$$\n",
        "* Entropy:\n",
        "$$ - \\sum_{k=1}^K p_k\\log(p_k)$$"
      ]
    },
    {
      "cell_type": "code",
      "execution_count": 86,
      "metadata": {
        "slideshow": {
          "slide_type": "slide"
        }
      },
      "outputs": [
        {
          "data": {
            "image/png": "[encoded data removed]",
            "text/plain": [
              "<Figure size 640x480 with 1 Axes>"
            ]
          },
          "metadata": {},
          "output_type": "display_data"
        }
      ],
      "source": [
        "from sklearn.tree import DecisionTreeClassifier\n",
        "from sklearn.tree import plot_tree\n",
        "\n",
        "model = DecisionTreeClassifier(in)\n",
        "\n",
        "plot_tree(model)\n",
        "plt.show()"
      ]
    },
    {
      "cell_type": "markdown",
      "metadata": {
        "slideshow": {
          "slide_type": "slide"
        }
      },
      "source": [
        "## Feature importances"
      ]
    },
    {
      "cell_type": "code",
      "execution_count": 87,
      "metadata": {
        "slideshow": {
          "slide_type": "slide"
        }
      },
      "outputs": [
        {
          "data": {
            "text/plain": [
              "(array([0.9232982 , 0.        , 0.        , 0.        , 0.        ,\n",
              "        0.        , 0.        , 0.        , 0.        , 0.        ,\n",
              "        0.        , 0.        , 0.        , 0.        , 0.        ,\n",
              "        0.        , 0.        , 0.        , 0.        , 0.        ,\n",
              "        0.        , 0.        , 0.        , 0.        , 0.        ,\n",
              "        0.        , 0.        , 0.        , 0.        , 0.01470647,\n",
              "        0.        , 0.        , 0.        , 0.        , 0.        ,\n",
              "        0.03371659, 0.        , 0.        , 0.        , 0.        ,\n",
              "        0.        , 0.        , 0.        , 0.        , 0.02827874,\n",
              "        0.        , 0.        , 0.        , 0.        , 0.        ]),)"
            ]
          },
          "execution_count": 87,
          "metadata": {},
          "output_type": "execute_result"
        }
      ],
      "source": [
        "model.feature_importances_,"
      ]
    },
    {
      "cell_type": "markdown",
      "metadata": {
        "slideshow": {
          "slide_type": "slide"
        }
      },
      "source": [
        "## Exercise\n",
        "\n",
        "Fit the decision tree classifier on the training data for max_depth in (2, 3, 4, 5, 6) and plot the train and test scores as a function of max_depth."
      ]
    },
    {
      "cell_type": "markdown",
      "metadata": {
        "slideshow": {
          "slide_type": "slide"
        }
      },
      "source": [
        "## Decision tree regressor"
      ]
    },
    {
      "cell_type": "code",
      "execution_count": 88,
      "metadata": {
        "slideshow": {
          "slide_type": "slide"
        }
      },
      "outputs": [],
      "source": [
        "# Split into train and test (cross-validate on train)\n",
        "from sklearn.model_selection import train_test_split\n",
        "X_train, X_test, yr_train, yr_test = train_test_split(\n",
        "    X, yr, \n",
        "    test_size=0.2, \n",
        "    random_state=0\n",
        ")"
      ]
    },
    {
      "cell_type": "code",
      "execution_count": 89,
      "metadata": {
        "slideshow": {
          "slide_type": "slide"
        }
      },
      "outputs": [
        {
          "name": "stdout",
          "output_type": "stream",
          "text": [
            "R-squared on training data is 0.578255375089929\n",
            "R-squared on test data is 0.4381758056196261\n"
          ]
        }
      ],
      "source": [
        "from sklearn.tree import DecisionTreeRegressor\n",
        "\n",
        "model = DecisionTreeRegressor(\n",
        "  max_depth=4,\n",
        "  random_state=0\n",
        ")\n",
        "model.fit(X_train, yr_train)\n",
        "score_train = model.score(X_train, yr_train)\n",
        "score_test = model.score(X_test, yr_test)\n",
        "print(\"R-squared on training data is\", score_train)\n",
        "print(\"R-squared on test data is\", score_test)"
      ]
    },
    {
      "cell_type": "markdown",
      "metadata": {
        "slideshow": {
          "slide_type": "slide"
        }
      },
      "source": [
        "## Bagging\n",
        "\n",
        "* Bagging = bootstrap and aggregate\n",
        "* Bootstrap random samples (draw with replacement from original data)\n",
        "* Fit estimator to each random sample\n",
        "* Average estimates\n",
        "* Bagging decision trees = random forest"
      ]
    },
    {
      "cell_type": "markdown",
      "metadata": {
        "slideshow": {
          "slide_type": "slide"
        }
      },
      "source": [
        "## Random forests\n",
        "\n",
        "* For classification or regression\n",
        "* Generate bootstrapped data sets.  Fit a decision tree to each.\n",
        "* For each observation, answer Yes or No questions for each tree to find its leaf and its\n",
        "prediction in each tree.  \n",
        "* Average predictions for regression or use most common prediction for classification.\n"
      ]
    },
    {
      "cell_type": "code",
      "execution_count": 90,
      "metadata": {
        "slideshow": {
          "slide_type": "slide"
        }
      },
      "outputs": [
        {
          "name": "stdout",
          "output_type": "stream",
          "text": [
            "fraction correct on training data is 0.83\n",
            "fraction correct on test data is 0.7\n"
          ]
        }
      ],
      "source": [
        "from sklearn.ensemble import RandomForestClassifier\n",
        "\n",
        "model = RandomForestClassifier(\n",
        "  max_depth=3,\n",
        "  n_estimators=100,\n",
        "  random_state=0\n",
        ")\n",
        "model.fit(X_train, yb_train)\n",
        "score_train = model.score(X_train, yb_train)\n",
        "score_test = model.score(X_test, yb_test)\n",
        "print(\"fraction correct on training data is\", score_train)\n",
        "print(\"fraction correct on test data is\", score_test)"
      ]
    },
    {
      "cell_type": "markdown",
      "metadata": {
        "slideshow": {
          "slide_type": "slide"
        }
      },
      "source": [
        "## Exercise\n",
        "\n",
        "Run GridSearchCV on the training data for RandomForestClassifier to find the best max_depth in (2, 3, 4, 5, 6)."
      ]
    },
    {
      "cell_type": "markdown",
      "metadata": {
        "slideshow": {
          "slide_type": "slide"
        }
      },
      "source": [
        "## Boosting\n",
        "\n",
        "* For regression or classification.\n",
        "* Fit a decision tree\n",
        "* Look at the errors and fit another decision tree\n",
        "* Combine the two trees to form a new model (e.g., average their predictions)\n",
        "* Look at the errors and fit another tree, etc.\n"
      ]
    },
    {
      "cell_type": "markdown",
      "metadata": {
        "slideshow": {
          "slide_type": "slide"
        }
      },
      "source": [
        "* Gradient boosting: fit a tree to the errors and add the error prediction to the original prediction.\n",
        "* Adaptive boosting: increase the weight on the misfit observations, fit another tree, and average them.\n",
        "* XGBoost: optimized version of gradient boosting\n",
        "* Learning rate: what weight to put on new trees.  Low learning rate avoids oscillation and improves convergence.\n"
      ]
    },
    {
      "cell_type": "code",
      "execution_count": 91,
      "metadata": {
        "slideshow": {
          "slide_type": "slide"
        }
      },
      "outputs": [],
      "source": [
        "from sklearn.ensemble import (\n",
        "    GradientBoostingRegressor, \n",
        "    GradientBoostingClassifier, \n",
        "    AdaBoostRegressor, \n",
        "    AdaBoostClassifier\n",
        ")\n",
        "\n",
        "from xgboost import XGBRegressor, XGBClassifier"
      ]
    },
    {
      "cell_type": "code",
      "execution_count": 92,
      "metadata": {
        "slideshow": {
          "slide_type": "slide"
        }
      },
      "outputs": [
        {
          "data": {
            "text/html": [
              "<style>#sk-container-id-4 {color: black;background-color: white;}#sk-container-id-4 pre{padding: 0;}#sk-container-id-4 div.sk-toggleable {background-color: white;}#sk-container-id-4 label.sk-toggleable__label {cursor: pointer;display: block;width: 100%;margin-bottom: 0;padding: 0.3em;box-sizing: border-box;text-align: center;}#sk-container-id-4 label.sk-toggleable__label-arrow:before {content: \"▸\";float: left;margin-right: 0.25em;color: #696969;}#sk-container-id-4 label.sk-toggleable__label-arrow:hover:before {color: black;}#sk-container-id-4 div.sk-estimator:hover label.sk-toggleable__label-arrow:before {color: black;}#sk-container-id-4 div.sk-toggleable__content {max-height: 0;max-width: 0;overflow: hidden;text-align: left;background-color: #f0f8ff;}#sk-container-id-4 div.sk-toggleable__content pre {margin: 0.2em;color: black;border-radius: 0.25em;background-color: #f0f8ff;}#sk-container-id-4 input.sk-toggleable__control:checked~div.sk-toggleable__content {max-height: 200px;max-width: 100%;overflow: auto;}#sk-container-id-4 input.sk-toggleable__control:checked~label.sk-toggleable__label-arrow:before {content: \"▾\";}#sk-container-id-4 div.sk-estimator input.sk-toggleable__control:checked~label.sk-toggleable__label {background-color: #d4ebff;}#sk-container-id-4 div.sk-label input.sk-toggleable__control:checked~label.sk-toggleable__label {background-color: #d4ebff;}#sk-container-id-4 input.sk-hidden--visually {border: 0;clip: rect(1px 1px 1px 1px);clip: rect(1px, 1px, 1px, 1px);height: 1px;margin: -1px;overflow: hidden;padding: 0;position: absolute;width: 1px;}#sk-container-id-4 div.sk-estimator {font-family: monospace;background-color: #f0f8ff;border: 1px dotted black;border-radius: 0.25em;box-sizing: border-box;margin-bottom: 0.5em;}#sk-container-id-4 div.sk-estimator:hover {background-color: #d4ebff;}#sk-container-id-4 div.sk-parallel-item::after {content: \"\";width: 100%;border-bottom: 1px solid gray;flex-grow: 1;}#sk-container-id-4 div.sk-label:hover label.sk-toggleable__label {background-color: #d4ebff;}#sk-container-id-4 div.sk-serial::before {content: \"\";position: absolute;border-left: 1px solid gray;box-sizing: border-box;top: 0;bottom: 0;left: 50%;z-index: 0;}#sk-container-id-4 div.sk-serial {display: flex;flex-direction: column;align-items: center;background-color: white;padding-right: 0.2em;padding-left: 0.2em;position: relative;}#sk-container-id-4 div.sk-item {position: relative;z-index: 1;}#sk-container-id-4 div.sk-parallel {display: flex;align-items: stretch;justify-content: center;background-color: white;position: relative;}#sk-container-id-4 div.sk-item::before, #sk-container-id-4 div.sk-parallel-item::before {content: \"\";position: absolute;border-left: 1px solid gray;box-sizing: border-box;top: 0;bottom: 0;left: 50%;z-index: -1;}#sk-container-id-4 div.sk-parallel-item {display: flex;flex-direction: column;z-index: 1;position: relative;background-color: white;}#sk-container-id-4 div.sk-parallel-item:first-child::after {align-self: flex-end;width: 50%;}#sk-container-id-4 div.sk-parallel-item:last-child::after {align-self: flex-start;width: 50%;}#sk-container-id-4 div.sk-parallel-item:only-child::after {width: 0;}#sk-container-id-4 div.sk-dashed-wrapped {border: 1px dashed gray;margin: 0 0.4em 0.5em 0.4em;box-sizing: border-box;padding-bottom: 0.4em;background-color: white;}#sk-container-id-4 div.sk-label label {font-family: monospace;font-weight: bold;display: inline-block;line-height: 1.2em;}#sk-container-id-4 div.sk-label-container {text-align: center;}#sk-container-id-4 div.sk-container {/* jupyter's `normalize.less` sets `[hidden] { display: none; }` but bootstrap.min.css set `[hidden] { display: none !important; }` so we also need the `!important` here to be able to override the default hidden behavior on the sphinx rendered scikit-learn.org. See: https://github.com/scikit-learn/scikit-learn/issues/21755 */display: inline-block !important;position: relative;}#sk-container-id-4 div.sk-text-repr-fallback {display: none;}</style><div id=\"sk-container-id-4\" class=\"sk-top-container\"><div class=\"sk-text-repr-fallback\"><pre>XGBRegressor(base_score=None, booster=None, callbacks=None,\n",
              "             colsample_bylevel=None, colsample_bynode=None,\n",
              "             colsample_bytree=None, device=None, early_stopping_rounds=None,\n",
              "             enable_categorical=False, eval_metric=None, feature_types=None,\n",
              "             gamma=None, grow_policy=None, importance_type=None,\n",
              "             interaction_constraints=None, learning_rate=0.01, max_bin=None,\n",
              "             max_cat_threshold=None, max_cat_to_onehot=None,\n",
              "             max_delta_step=None, max_depth=4, max_leaves=None,\n",
              "             min_child_weight=None, missing=nan, monotone_constraints=None,\n",
              "             multi_strategy=None, n_estimators=100, n_jobs=None,\n",
              "             num_parallel_tree=None, random_state=None, ...)</pre><b>In a Jupyter environment, please rerun this cell to show the HTML representation or trust the notebook. <br />On GitHub, the HTML representation is unable to render, please try loading this page with nbviewer.org.</b></div><div class=\"sk-container\" hidden><div class=\"sk-item\"><div class=\"sk-estimator sk-toggleable\"><input class=\"sk-toggleable__control sk-hidden--visually\" id=\"sk-estimator-id-4\" type=\"checkbox\" checked><label for=\"sk-estimator-id-4\" class=\"sk-toggleable__label sk-toggleable__label-arrow\">XGBRegressor</label><div class=\"sk-toggleable__content\"><pre>XGBRegressor(base_score=None, booster=None, callbacks=None,\n",
              "             colsample_bylevel=None, colsample_bynode=None,\n",
              "             colsample_bytree=None, device=None, early_stopping_rounds=None,\n",
              "             enable_categorical=False, eval_metric=None, feature_types=None,\n",
              "             gamma=None, grow_policy=None, importance_type=None,\n",
              "             interaction_constraints=None, learning_rate=0.01, max_bin=None,\n",
              "             max_cat_threshold=None, max_cat_to_onehot=None,\n",
              "             max_delta_step=None, max_depth=4, max_leaves=None,\n",
              "             min_child_weight=None, missing=nan, monotone_constraints=None,\n",
              "             multi_strategy=None, n_estimators=100, n_jobs=None,\n",
              "             num_parallel_tree=None, random_state=None, ...)</pre></div></div></div></div></div>"
            ],
            "text/plain": [
              "XGBRegressor(base_score=None, booster=None, callbacks=None,\n",
              "             colsample_bylevel=None, colsample_bynode=None,\n",
              "             colsample_bytree=None, device=None, early_stopping_rounds=None,\n",
              "             enable_categorical=False, eval_metric=None, feature_types=None,\n",
              "             gamma=None, grow_policy=None, importance_type=None,\n",
              "             interaction_constraints=None, learning_rate=0.01, max_bin=None,\n",
              "             max_cat_threshold=None, max_cat_to_onehot=None,\n",
              "             max_delta_step=None, max_depth=4, max_leaves=None,\n",
              "             min_child_weight=None, missing=nan, monotone_constraints=None,\n",
              "             multi_strategy=None, n_estimators=100, n_jobs=None,\n",
              "             num_parallel_tree=None, random_state=None, ...)"
            ]
          },
          "execution_count": 92,
          "metadata": {},
          "output_type": "execute_result"
        }
      ],
      "source": [
        "model = XGBRegressor(\n",
        "    max_depth=4,\n",
        "    learning_rate=0.01,\n",
        "    n_estimators=100\n",
        ")\n",
        "model.fit(X_train, yr_train)"
      ]
    },
    {
      "cell_type": "code",
      "execution_count": 93,
      "metadata": {
        "slideshow": {
          "slide_type": "slide"
        }
      },
      "outputs": [
        {
          "name": "stdout",
          "output_type": "stream",
          "text": [
            "R-squared on training data is 0.5322574220908204\n",
            "R-squared on test data is 0.41011680847293763\n"
          ]
        }
      ],
      "source": [
        "score_train = model.score(X_train, yr_train)\n",
        "score_test = model.score(X_test, yr_test)\n",
        "print(\"R-squared on training data is\", score_train)\n",
        "print(\"R-squared on test data is\", score_test)"
      ]
    },
    {
      "cell_type": "markdown",
      "metadata": {
        "slideshow": {
          "slide_type": "slide"
        }
      },
      "source": [
        "## Scikit-learn toy datasets"
      ]
    },
    {
      "cell_type": "code",
      "execution_count": 94,
      "metadata": {
        "slideshow": {
          "slide_type": "slide"
        }
      },
      "outputs": [
        {
          "name": "stdout",
          "output_type": "stream",
          "text": [
            "(numobs, numfeatures) = (569, 30)\n",
            "target values are [0 1]\n"
          ]
        }
      ],
      "source": [
        "# binary\n",
        "\n",
        "from sklearn.datasets import load_breast_cancer\n",
        "X1, y1 = load_breast_cancer(return_X_y=True)\n",
        "print(f\"(numobs, numfeatures) = {X1.shape}\")\n",
        "print(f\"target values are {np.unique(y1)}\")"
      ]
    },
    {
      "cell_type": "code",
      "execution_count": 95,
      "metadata": {
        "slideshow": {
          "slide_type": "slide"
        }
      },
      "outputs": [
        {
          "name": "stdout",
          "output_type": "stream",
          "text": [
            "(numobs, numfeatures) = (1797, 64)\n",
            "target values are [0 1 2 3 4 5 6 7 8 9]\n"
          ]
        }
      ],
      "source": [
        "# multi-class\n",
        "\n",
        "from sklearn.datasets import load_digits\n",
        "X2, y2 = load_digits(return_X_y=True)\n",
        "print(f\"(numobs, numfeatures) = {X2.shape}\")\n",
        "print(f\"target values are {np.unique(y2)}\")"
      ]
    },
    {
      "cell_type": "code",
      "execution_count": 96,
      "metadata": {
        "slideshow": {
          "slide_type": "slide"
        }
      },
      "outputs": [
        {
          "name": "stdout",
          "output_type": "stream",
          "text": [
            "(numobs, numfeatures) = (442, 10)\n",
            "target values are [ 25.  31.  37.  39.  40.  42.  43.  44.  45.  47.  48.  49.  50.  51.\n",
            "  52.  53.  54.  55.  57.  58.  59.  60.  61.  63.  64.  65.  66.  67.\n",
            "  68.  69.  70.  71.  72.  73.  74.  75.  77.  78.  79.  80.  81.  83.\n",
            "  84.  85.  86.  87.  88.  89.  90.  91.  92.  93.  94.  95.  96.  97.\n",
            "  98.  99. 100. 101. 102. 103. 104. 107. 108. 109. 110. 111. 113. 114.\n",
            " 115. 116. 118. 120. 121. 122. 123. 124. 125. 126. 127. 128. 129. 131.\n",
            " 132. 134. 135. 136. 137. 138. 139. 140. 141. 142. 143. 144. 145. 146.\n",
            " 147. 148. 150. 151. 152. 153. 154. 155. 156. 158. 160. 161. 162. 163.\n",
            " 164. 166. 167. 168. 170. 171. 172. 173. 174. 175. 177. 178. 179. 180.\n",
            " 181. 182. 183. 184. 185. 186. 187. 189. 190. 191. 192. 195. 196. 197.\n",
            " 198. 199. 200. 201. 202. 206. 208. 209. 210. 212. 214. 215. 216. 217.\n",
            " 219. 220. 221. 222. 225. 229. 230. 232. 233. 235. 236. 237. 241. 242.\n",
            " 243. 244. 245. 246. 248. 249. 252. 253. 257. 258. 259. 261. 262. 263.\n",
            " 264. 265. 268. 270. 272. 273. 274. 275. 276. 277. 279. 280. 281. 283.\n",
            " 288. 292. 293. 295. 296. 297. 302. 303. 306. 308. 310. 311. 317. 321.\n",
            " 332. 336. 341. 346.]\n"
          ]
        }
      ],
      "source": [
        "# regression\n",
        "\n",
        "from sklearn.datasets import load_diabetes\n",
        "X3, y3 = load_diabetes(return_X_y=True)\n",
        "print(f\"(numobs, numfeatures) = {X3.shape}\")\n",
        "print(f\"target values are {np.unique(y3)}\")"
      ]
    }
  ],
  "metadata": {
    "colab": {
      "include_colab_link": true,
      "provenance": []
    },
    "kernelspec": {
      "display_name": "Python 3",
      "language": "python",
      "name": "python3"
    },
    "language_info": {
      "codemirror_mode": {
        "name": "ipython",
        "version": 3
      },
      "file_extension": ".py",
      "mimetype": "text/x-python",
      "name": "python",
      "nbconvert_exporter": "python",
      "pygments_lexer": "ipython3",
      "version": "3.10.8"
    },
    "orig_nbformat": 4,
    "vscode": {
      "interpreter": {
        "hash": "a98f34b6005ae2330f135078450db511ef8910ecc790235ef0560aa88aa6ce12"
      }
    }
  },
  "nbformat": 4,
  "nbformat_minor": 0
}
