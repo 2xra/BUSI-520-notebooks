{
 "cells": [
  {
   "cell_type": "markdown",
   "metadata": {
    "id": "fZLzdwKVgY2P",
    "pycharm": {
     "name": "#%% md\n"
    }
   },
   "source": [
    "# Markdown cells\n",
    "\n",
    "* Execute either with run icon or SHFT-ENTER\n",
    "* Can use latex in markdown cells\n",
    "* Can make bulleted lists with *, large font with # or ## or ###, much more\n",
    "* Double click a markdown cell to put it in edit mode and SHFT-ENTER to put it in viewing mode"
   ]
  },
  {
   "cell_type": "markdown",
   "metadata": {},
   "source": [
    "# Code cells\n",
    "\n",
    "* In a code cell, everything on a line after a # is ignored by the python interpreter\n",
    "* Use # to add comments to a file for yourself or others to read\n",
    "* Can also have multi-line comments using triple-quoted strings (later)\n",
    "* If the last expression in a code cell is not assigned to a variable, its value will be printed below the cell."
   ]
  },
  {
   "cell_type": "markdown",
   "metadata": {
    "id": "SvFUnjYWgY2V",
    "pycharm": {
     "name": "#%% md\n"
    }
   },
   "source": [
    "# Assignment statements\n",
    "\n",
    "* a=b means \"evaluate b and assign the result to a variable named a\"\n",
    "* spaces around = are optional, and are optional in most other places as well (with one important exception we will discuss)\n",
    "* can use any name not reserved by python for a variable, must start with letter or underscore, cannot have spaces or some other characters\n",
    "* can have multiple assignments on a single line\n"
   ]
  },
  {
   "cell_type": "code",
   "execution_count": 8,
   "metadata": {
    "colab": {
     "base_uri": "https://localhost:8080/"
    },
    "id": "--UU076qgY2V",
    "outputId": "4b39adee-9e0f-4496-c4c2-0c18a30b28d7",
    "pycharm": {
     "name": "#%%\n"
    }
   },
   "outputs": [
    {
     "data": {
      "text/plain": [
       "4"
      ]
     },
     "execution_count": 8,
     "metadata": {},
     "output_type": "execute_result"
    }
   ],
   "source": [
    "x = 3\n",
    "x = x + 1\n",
    "x"
   ]
  },
  {
   "cell_type": "code",
   "execution_count": 9,
   "metadata": {
    "colab": {
     "base_uri": "https://localhost:8080/"
    },
    "id": "mGVXEfozgY2W",
    "outputId": "e8e373f3-22df-4d4e-ad34-82d49c792c8b",
    "pycharm": {
     "name": "#%%\n"
    }
   },
   "outputs": [
    {
     "data": {
      "text/plain": [
       "5"
      ]
     },
     "execution_count": 9,
     "metadata": {},
     "output_type": "execute_result"
    }
   ],
   "source": [
    "x, y, z = 3, 4, 5\n",
    "z"
   ]
  },
  {
   "cell_type": "markdown",
   "metadata": {
    "id": "ZBzwQhyGgY2W",
    "pycharm": {
     "name": "#%% md\n"
    }
   },
   "source": [
    "# Basic object types"
   ]
  },
  {
   "cell_type": "code",
   "execution_count": 10,
   "metadata": {
    "id": "TvHuqUD1gY2W",
    "pycharm": {
     "name": "#%%\n"
    }
   },
   "outputs": [],
   "source": [
    "# type(3)\n",
    "# type(2.718)\n",
    "# type('some text')\n",
    "# type(['a', 'b', 'c'])\n",
    "# type(('a', 'b', 'c'))\n",
    "# type({'a': 1, 'b': 2})\n",
    "# type(sqrt)\n",
    "# type(True)\n",
    "# type(False)\n",
    "# type(None)"
   ]
  },
  {
   "cell_type": "markdown",
   "metadata": {
    "id": "DHFYzh6DgY2X",
    "pycharm": {
     "name": "#%% md\n"
    }
   },
   "source": [
    "# Some basic functions"
   ]
  },
  {
   "cell_type": "code",
   "execution_count": 11,
   "metadata": {
    "id": "Q748BiZmgY2X",
    "pycharm": {
     "name": "#%%\n"
    }
   },
   "outputs": [],
   "source": [
    "# round(3.14, 1)\n",
    "# int(3.14)\n",
    "# int('3')\n",
    "# str(3)"
   ]
  },
  {
   "cell_type": "markdown",
   "metadata": {
    "id": "g1ENPyPNgY2X",
    "pycharm": {
     "name": "#%% md\n"
    }
   },
   "source": [
    "# Print statements\n"
   ]
  },
  {
   "cell_type": "code",
   "execution_count": 12,
   "metadata": {
    "colab": {
     "base_uri": "https://localhost:8080/"
    },
    "id": "OWIFiks_gY2X",
    "outputId": "28adbe91-b61f-4149-9edd-35c2f3382d10",
    "pycharm": {
     "name": "#%%\n"
    }
   },
   "outputs": [
    {
     "name": "stdout",
     "output_type": "stream",
     "text": [
      "3.14\n",
      "3.14 2.718\n",
      "x is 3.14 and y is 2.718\n",
      "x is 3.14 and y is 2.718\n"
     ]
    }
   ],
   "source": [
    "x = 3.14\n",
    "y = 2.718\n",
    "print(x)\n",
    "print(x, y)\n",
    "print(\"x is\", x, \"and y is\", y)\n",
    "print(f'x is {x} and y is {y}')\n"
   ]
  },
  {
   "cell_type": "code",
   "execution_count": 13,
   "metadata": {
    "id": "CH7CusLHgY2Y",
    "pycharm": {
     "name": "#%%\n"
    }
   },
   "outputs": [],
   "source": [
    "x = ['a', 'b', 'c', 'd']\n",
    "y = ['m', 'n', 'o' 'p', 'q']\n",
    "\n",
    "# len(x)\n",
    "# x[0]\n",
    "# x[1]\n",
    "# x[:2]\n",
    "# x[0:2]\n",
    "# x[1:4]\n",
    "# x[1:4:2]\n",
    "# x[4:1:-1]\n",
    "# x[-1]\n",
    "# x[:-1]\n",
    "# x[-2]\n",
    "# x[-3:]\n",
    "# x[-3:-1]\n",
    "# x[1]='w'\n",
    "# x[1:3] = ['y','z']\n",
    "# x.append('u')\n",
    "# indx = x.index('a')\n",
    "# x.remove('a')\n",
    "# x.insert(indx, 's')\n",
    "# x.reverse()\n",
    "# x + y\n",
    "# 3 * x\n",
    "# 7 * [0]"
   ]
  },
  {
   "cell_type": "markdown",
   "metadata": {
    "id": "5qZ3sd5PgY2Y",
    "pycharm": {
     "name": "#%% md\n"
    }
   },
   "source": [
    "# Working with strings\n",
    "\n",
    "* Can use either single or double quotes\n",
    "* Concatenate with +\n",
    "* Strings are basically lists of characters, and many list operations work on strings"
   ]
  },
  {
   "cell_type": "code",
   "execution_count": 14,
   "metadata": {
    "id": "19sNh2DVgY2Y",
    "pycharm": {
     "name": "#%%\n"
    }
   },
   "outputs": [],
   "source": [
    "string1 = 'This is some text'\n",
    "string2 = \"This is some different text\"\n",
    "\n",
    "# string1[:4]\n",
    "# string1[-4:]\n",
    "# string1 + \". \" + string2 + \".\"\n",
    "# string1.split(\" \")\n",
    "# string1.split(\" \")[0] + \" \" + string1.split(\" \")[3]\n",
    "# string1.title()\n",
    "# string1.upper()\n",
    "\n"
   ]
  },
  {
   "cell_type": "markdown",
   "metadata": {
    "id": "UodcuhgGgY2Y",
    "pycharm": {
     "name": "#%% md\n"
    }
   },
   "source": [
    "# Logical conditions\n",
    "\n",
    "A single = is an assignment, so to test for equality we use =="
   ]
  },
  {
   "cell_type": "code",
   "execution_count": 15,
   "metadata": {
    "id": "CByJS5EhgY2Y",
    "pycharm": {
     "name": "#%%\n"
    }
   },
   "outputs": [],
   "source": [
    "# 3 == 3\n",
    "# 3 == 5\n",
    "# 3 != 5\n",
    "# not(3==5)\n",
    "# 3 > 5\n",
    "# (2<4) and (3>5)\n",
    "# (2<4) & (3>5)\n",
    "# (2<4) or (3>5)\n",
    "# (2<4) | (3>5)\n",
    "# 1 in [3, 4]\n",
    "# 1 not in [3, 4]\n",
    "# 1 * (3>5)\n",
    "# 1 * (2<4)\n"
   ]
  },
  {
   "cell_type": "markdown",
   "metadata": {
    "id": "Gf2Sfc4_gY2Z",
    "pycharm": {
     "name": "#%% md\n"
    }
   },
   "source": [
    "# Ternary operator\n",
    "\n",
    "\n"
   ]
  },
  {
   "cell_type": "code",
   "execution_count": 16,
   "metadata": {
    "id": "9e_mTS3TgY2Z",
    "pycharm": {
     "name": "#%%\n"
    }
   },
   "outputs": [],
   "source": [
    "# \"yes\" if 3>5 else \"no\"\n",
    "# 10 if 3>5 else 100\n",
    "# 10 if (2<4) or (3>5) else 100\n",
    "# 10 if 0 else 100\n",
    "# 10 if None else 100\n",
    "# 10 if 16 else 100"
   ]
  },
  {
   "cell_type": "markdown",
   "metadata": {
    "id": "caCncnuSgY2Z",
    "pycharm": {
     "name": "#%% md\n"
    }
   },
   "source": [
    "# List enumeration"
   ]
  },
  {
   "cell_type": "code",
   "execution_count": 17,
   "metadata": {
    "id": "pgLWf0yhgY2Z",
    "pycharm": {
     "name": "#%%\n"
    }
   },
   "outputs": [],
   "source": [
    "letters = ['a', 'b', 'c', 'd']\n",
    "# [x + '1' for x in letters]\n",
    "# [x + '1' for x in letters if not x=='c']\n"
   ]
  },
  {
   "cell_type": "markdown",
   "metadata": {},
   "source": [
    "# Zipping lists\n",
    "\n",
    "Create a list of tuples by zipping lists together"
   ]
  },
  {
   "cell_type": "code",
   "execution_count": null,
   "metadata": {},
   "outputs": [],
   "source": [
    "lst1 = [1, 3, 5]\n",
    "lst2 = [2, 4, 6]\n",
    "zip(lst1, lst2)"
   ]
  },
  {
   "cell_type": "markdown",
   "metadata": {
    "id": "ASwYtAzIgY2Z",
    "pycharm": {
     "name": "#%% md\n"
    }
   },
   "source": [
    "# Range objects"
   ]
  },
  {
   "cell_type": "code",
   "execution_count": 18,
   "metadata": {
    "id": "pfkxM5ewgY2Z",
    "pycharm": {
     "name": "#%%\n"
    }
   },
   "outputs": [],
   "source": [
    "# [i for i in range(6)]\n",
    "# [i for i in range(1,7)]\n",
    "# [i for i in range(2,8,2)]\n",
    "# [i for i in range(6,2,-1)]"
   ]
  },
  {
   "cell_type": "markdown",
   "metadata": {
    "id": "T1v2_91LgY2a",
    "pycharm": {
     "name": "#%% md\n"
    }
   },
   "source": [
    "# Assign by reference or by value\n",
    "\n",
    "* \"By reference\" means the memory location is passed to a variable.  Changes to the new version will affect the old.\n",
    "* \"By value\" means the value is passed and stored in a new memory location.  Changes to the new version will not affect the original.\n",
    "* Integers and floats are assigned by value.  Lists and other types of arrays are assigned by reference.\n",
    "* To create a new version that will not affect the old, create a copy.\n"
   ]
  },
  {
   "cell_type": "code",
   "execution_count": 19,
   "metadata": {
    "colab": {
     "base_uri": "https://localhost:8080/"
    },
    "id": "xCMib5MPgY2a",
    "outputId": "f5a49964-b47a-4031-9e7e-5cee1b277cb3",
    "pycharm": {
     "name": "#%%\n"
    }
   },
   "outputs": [
    {
     "data": {
      "text/plain": [
       "3"
      ]
     },
     "execution_count": 19,
     "metadata": {},
     "output_type": "execute_result"
    }
   ],
   "source": [
    "# integers are assigned by value\n",
    "\n",
    "x = 3\n",
    "y = x\n",
    "x = x + 1\n",
    "y"
   ]
  },
  {
   "cell_type": "code",
   "execution_count": 20,
   "metadata": {
    "colab": {
     "base_uri": "https://localhost:8080/"
    },
    "id": "xENe_qnhgY2a",
    "outputId": "23b9c56f-aa69-4b5e-8dce-c4998d3bb203",
    "pycharm": {
     "name": "#%%\n"
    }
   },
   "outputs": [
    {
     "data": {
      "text/plain": [
       "['a', 'b', 'c', 'd']"
      ]
     },
     "execution_count": 20,
     "metadata": {},
     "output_type": "execute_result"
    }
   ],
   "source": [
    "# lists are assigned by reference\n",
    "\n",
    "x = ['a', 'b', 'c']\n",
    "y = x\n",
    "x.append('d')\n",
    "y"
   ]
  },
  {
   "cell_type": "code",
   "execution_count": 21,
   "metadata": {
    "colab": {
     "base_uri": "https://localhost:8080/"
    },
    "id": "7nzrVWTZgY2a",
    "outputId": "c6edc1a1-e0fe-487b-b678-39691e566b2e",
    "pycharm": {
     "name": "#%%\n"
    }
   },
   "outputs": [
    {
     "data": {
      "text/plain": [
       "['a', 'b', 'c']"
      ]
     },
     "execution_count": 21,
     "metadata": {},
     "output_type": "execute_result"
    }
   ],
   "source": [
    "# assign a copy of a list to avoid assigning by reference\n",
    "\n",
    "x = ['a', 'b', 'c']\n",
    "y = x.copy()\n",
    "x.append('d')\n",
    "y"
   ]
  },
  {
   "cell_type": "markdown",
   "metadata": {
    "id": "TE5JY_NcgY2d",
    "pycharm": {
     "name": "#%% md\n"
    }
   },
   "source": [
    "# Defining functions\n",
    "\n",
    "Why functions?  Modularized code is easier to test, maintain, and reuse.\n",
    "\n",
    "* The def keyword starts the function definition.\n",
    "* Arguments are enclosed in parentheses and followed by a colon.\n",
    "* The return keyword indicates the value returned by the function.\n",
    "* Functions can return numbers, lists, strings, ...\n",
    "* Indentation is crucial.  All lines within the function definition must be indented the same number of spaces, unless there is a reason the line must be indented further (more later) or it is within parentheses or braces.  A good IDE will prompt you to indent and tell you when you have indentation wrong.\n"
   ]
  },
  {
   "cell_type": "code",
   "execution_count": 22,
   "metadata": {
    "colab": {
     "base_uri": "https://localhost:8080/"
    },
    "id": "QrAn4DnCgY2d",
    "outputId": "d42ea099-1ac1-49db-ccff-48923976daa9",
    "pycharm": {
     "name": "#%%\n"
    }
   },
   "outputs": [
    {
     "data": {
      "text/plain": [
       "6"
      ]
     },
     "execution_count": 22,
     "metadata": {},
     "output_type": "execute_result"
    }
   ],
   "source": [
    "def double(x):\n",
    "    return 2*x\n",
    "\n",
    "double(3)"
   ]
  },
  {
   "cell_type": "markdown",
   "metadata": {
    "id": "CzA9WLAqgY2d",
    "pycharm": {
     "name": "#%% md\n"
    }
   },
   "source": [
    "# Passing arguments by name"
   ]
  },
  {
   "cell_type": "code",
   "execution_count": 23,
   "metadata": {
    "id": "j7a8Xf6BgY2e",
    "pycharm": {
     "name": "#%%\n"
    }
   },
   "outputs": [],
   "source": [
    "def exponentiate(base, exponent):\n",
    "    return base ** exponent\n",
    "\n",
    "# exponentiate(2, 5)\n",
    "# exponentiate(base=2, exponent=5)\n",
    "# exponentiate(exponent=5, base=2)\n",
    "# exponentiate(5, 2)"
   ]
  },
  {
   "cell_type": "markdown",
   "metadata": {
    "id": "LtLOOpV0gY2e",
    "pycharm": {
     "name": "#%% md\n"
    }
   },
   "source": [
    "# Returning tuples\n"
   ]
  },
  {
   "cell_type": "code",
   "execution_count": 24,
   "metadata": {
    "colab": {
     "base_uri": "https://localhost:8080/"
    },
    "id": "zU1FF2g6gY2e",
    "outputId": "334a91bb-816b-4786-c26b-abbafa0fdb2e",
    "pycharm": {
     "name": "#%%\n"
    }
   },
   "outputs": [
    {
     "data": {
      "text/plain": [
       "6"
      ]
     },
     "execution_count": 24,
     "metadata": {},
     "output_type": "execute_result"
    }
   ],
   "source": [
    "def f(x):\n",
    "    return 2*x, 3*x \n",
    "\n",
    "a, b = f(2)\n",
    "b"
   ]
  },
  {
   "cell_type": "markdown",
   "metadata": {
    "id": "_ZnNQzLSgY2g",
    "pycharm": {
     "name": "#%% md\n"
    }
   },
   "source": [
    "# Defining classes\n",
    "\n",
    "* You can create your own classes of objects.\n",
    "* A class definition is initiated with the class keyword\n",
    "* The __init__ method is how an instance of the object is created.  It usually defines the attributes.\n",
    "* Note that the lines following the class keyword must be indented, and method definitions must be further indented.\n",
    "* In general, indentation is sequential.  Each class / function / for or while block / if-else block must be further indented.\n"
   ]
  },
  {
   "cell_type": "code",
   "execution_count": 25,
   "metadata": {
    "id": "AUVOUFcvgY2g",
    "pycharm": {
     "name": "#%%\n"
    }
   },
   "outputs": [],
   "source": [
    "class scaler():\n",
    "    def __init__(self,x) :\n",
    "        self.factor = x\n",
    "    def scale(self, y) :\n",
    "        return y * self.factor\n",
    "\n",
    "x = scaler(3)\n",
    "# x.scale(4)\n",
    "# x.factor"
   ]
  },
  {
   "cell_type": "markdown",
   "metadata": {
    "id": "sh3bu4GZgY2g",
    "pycharm": {
     "name": "#%% md\n"
    }
   },
   "source": [
    "# Sets\n",
    "\n",
    "Sets are unordered collections with no repeated items."
   ]
  },
  {
   "cell_type": "code",
   "execution_count": 26,
   "metadata": {
    "colab": {
     "base_uri": "https://localhost:8080/"
    },
    "id": "QysYvJJ7gY2g",
    "outputId": "6a3d1fc4-bd1a-41bb-dd27-3fc681e9b89c",
    "pycharm": {
     "name": "#%%\n"
    }
   },
   "outputs": [
    {
     "data": {
      "text/plain": [
       "{1, 2, 3}"
      ]
     },
     "execution_count": 26,
     "metadata": {},
     "output_type": "execute_result"
    }
   ],
   "source": [
    "x = set([1, 1, 2, 3])\n",
    "x"
   ]
  },
  {
   "cell_type": "code",
   "execution_count": 27,
   "metadata": {
    "colab": {
     "base_uri": "https://localhost:8080/"
    },
    "id": "Q45CPzrRgY2g",
    "outputId": "86bde8e3-111b-4d98-f040-d628c0285874",
    "pycharm": {
     "name": "#%%\n"
    }
   },
   "outputs": [
    {
     "data": {
      "text/plain": [
       "True"
      ]
     },
     "execution_count": 27,
     "metadata": {},
     "output_type": "execute_result"
    }
   ],
   "source": [
    "x.issubset([1, 2, 2, 3, 4, 4])"
   ]
  },
  {
   "cell_type": "markdown",
   "metadata": {
    "id": "zqwEGvJDgY2g",
    "pycharm": {
     "name": "#%% md\n"
    }
   },
   "source": [
    "# Dictionaries\n",
    "\n",
    "* Dictionaries are unordered collections of key/value pairs\n",
    "* Sometimes called look-up tables or hash tables \n",
    "* Compared to normal dictionaries, key $\\sim$ word and value $\\sim$ definition.\n",
    "* Created with dict function or by enclosing key/value pairs in {}\n",
    "* Keys and values can be any types of objects"
   ]
  },
  {
   "cell_type": "code",
   "execution_count": 28,
   "metadata": {
    "colab": {
     "base_uri": "https://localhost:8080/"
    },
    "id": "TEIEZxE2gY2h",
    "outputId": "e210c198-e441-4790-bd3f-3f7ab415585b",
    "pycharm": {
     "name": "#%%\n"
    }
   },
   "outputs": [
    {
     "data": {
      "text/plain": [
       "1"
      ]
     },
     "execution_count": 28,
     "metadata": {},
     "output_type": "execute_result"
    }
   ],
   "source": [
    "x = {'a': 1, 'b': 2}\n",
    "x['a']"
   ]
  },
  {
   "cell_type": "code",
   "execution_count": 29,
   "metadata": {
    "id": "WCSHwf4cgY2h",
    "pycharm": {
     "name": "#%%\n"
    }
   },
   "outputs": [],
   "source": [
    "x = dict(a=1, b=2)\n",
    "# x['a']\n",
    "# list(x.keys())\n",
    "# list(x.values())"
   ]
  },
  {
   "cell_type": "markdown",
   "metadata": {
    "id": "nUk_6EGLgY2m",
    "pycharm": {
     "name": "#%% md\n"
    }
   },
   "source": [
    "# Loops\n",
    "\n",
    "* A loop is a block of code that is executed repeatedly, for a given number of times (for loop) or until some condition is met (while loop).\n",
    "* Indentation is again crucial.  "
   ]
  },
  {
   "cell_type": "code",
   "execution_count": 30,
   "metadata": {
    "colab": {
     "base_uri": "https://localhost:8080/"
    },
    "id": "kPaptenlgY2m",
    "outputId": "a60676ad-960a-4c54-9afe-9c1be307ff0b",
    "pycharm": {
     "name": "#%%\n"
    }
   },
   "outputs": [
    {
     "name": "stdout",
     "output_type": "stream",
     "text": [
      "0\n",
      "1\n",
      "2\n",
      "3\n",
      "4\n"
     ]
    }
   ],
   "source": [
    "for i in range(5):\n",
    "    print(i)"
   ]
  },
  {
   "cell_type": "code",
   "execution_count": 31,
   "metadata": {
    "colab": {
     "base_uri": "https://localhost:8080/"
    },
    "id": "8rf8TKdNgY2m",
    "outputId": "53a15942-c536-493d-934f-973cbe68a741",
    "pycharm": {
     "name": "#%%\n"
    }
   },
   "outputs": [
    {
     "name": "stdout",
     "output_type": "stream",
     "text": [
      "a\n",
      "b\n",
      "c\n"
     ]
    }
   ],
   "source": [
    "for ltr in ['a', 'b', 'c']:\n",
    "    print(ltr)"
   ]
  },
  {
   "cell_type": "code",
   "execution_count": null,
   "metadata": {},
   "outputs": [],
   "source": [
    "for i, ltr in zip([1, 2, 3], ['a', 'b', 'c']):\n",
    "    print(i, ltr)"
   ]
  },
  {
   "cell_type": "markdown",
   "metadata": {},
   "source": [
    "# Enumerating lists"
   ]
  },
  {
   "cell_type": "code",
   "execution_count": 33,
   "metadata": {
    "colab": {
     "base_uri": "https://localhost:8080/"
    },
    "id": "7x6tsm5OgY2m",
    "outputId": "f4f0f566-0339-47a4-a106-16ffa407486e",
    "pycharm": {
     "name": "#%%\n"
    }
   },
   "outputs": [
    {
     "name": "stdout",
     "output_type": "stream",
     "text": [
      "a1\n",
      "b2\n",
      "c3\n"
     ]
    }
   ],
   "source": [
    "for i, ltr in enumerate(['a', 'b', 'c']):\n",
    "    print(i, ltr)"
   ]
  },
  {
   "cell_type": "markdown",
   "metadata": {},
   "source": [
    "# While loops\n",
    "\n",
    "* While loops are often used to iterate until something converges.\n",
    "* The following just mimics a for loop (not a good practice)."
   ]
  },
  {
   "cell_type": "code",
   "execution_count": 34,
   "metadata": {
    "colab": {
     "base_uri": "https://localhost:8080/"
    },
    "id": "mEBSSIwKgY2m",
    "outputId": "cd142cf3-d1b7-4b52-e817-3408205442fb",
    "pycharm": {
     "name": "#%%\n"
    }
   },
   "outputs": [
    {
     "name": "stdout",
     "output_type": "stream",
     "text": [
      "0\n",
      "1\n",
      "2\n"
     ]
    }
   ],
   "source": [
    "i = 0\n",
    "while i<3:\n",
    "    print(i)\n",
    "    i = i + 1"
   ]
  },
  {
   "cell_type": "markdown",
   "metadata": {
    "id": "DeI9oW7OgY2n",
    "pycharm": {
     "name": "#%% md\n"
    }
   },
   "source": [
    "# Conditional execution\n",
    "\n",
    "* An indented block following an if statement is executed only if the condition evaluates to True.\n",
    "* Often but not always there is an else with another indented block following the if block.\n",
    "* There can also be one or more elif (else if) blocks based on additional conditions."
   ]
  },
  {
   "cell_type": "code",
   "execution_count": 35,
   "metadata": {
    "colab": {
     "base_uri": "https://localhost:8080/",
     "height": 35
    },
    "id": "2heed1QcgY2n",
    "outputId": "501fbaba-56e1-4cae-df51-f8065f06141a",
    "pycharm": {
     "name": "#%%\n"
    }
   },
   "outputs": [
    {
     "data": {
      "text/plain": [
       "'medium'"
      ]
     },
     "execution_count": 35,
     "metadata": {},
     "output_type": "execute_result"
    }
   ],
   "source": [
    "def f(number):\n",
    "    if number < 10:\n",
    "        return 'small' \n",
    "    elif number < 100:\n",
    "        return 'medium' \n",
    "    else:\n",
    "        return 'large' \n",
    "\n",
    "f(20)"
   ]
  },
  {
   "cell_type": "code",
   "execution_count": 36,
   "metadata": {
    "colab": {
     "base_uri": "https://localhost:8080/",
     "height": 35
    },
    "id": "LiS-7WhbgY2n",
    "outputId": "ccf593cb-48f7-4b87-a54b-34fc99cb4a30",
    "pycharm": {
     "name": "#%%\n"
    }
   },
   "outputs": [
    {
     "data": {
      "text/plain": [
       "'medium'"
      ]
     },
     "execution_count": 36,
     "metadata": {},
     "output_type": "execute_result"
    }
   ],
   "source": [
    "def g(number):\n",
    "    return 'small' if number<10 else ('medium' if number<100 else 'large')\n",
    "\n",
    "g(20)"
   ]
  },
  {
   "cell_type": "markdown",
   "metadata": {},
   "source": [
    "# Default values for function arguments\n"
   ]
  },
  {
   "cell_type": "code",
   "execution_count": 37,
   "metadata": {},
   "outputs": [
    {
     "name": "stdout",
     "output_type": "stream",
     "text": [
      "6 6 8\n"
     ]
    }
   ],
   "source": [
    "def f(x, y=3):\n",
    "    return x*y\n",
    "\n",
    "print(f(2, 3), f(2), f(2, 4))"
   ]
  },
  {
   "cell_type": "code",
   "execution_count": 38,
   "metadata": {},
   "outputs": [],
   "source": [
    "# tips.head()\n",
    "# tips.head(3)\n",
    "# tips.head(n=3)\n",
    "# help(tips.head)"
   ]
  },
  {
   "cell_type": "markdown",
   "metadata": {},
   "source": [
    "# Local and global variables\n",
    "\n",
    "You can reuse variable names inside a function definition without affect variables with the same name outside the definition (variables are local to the function)."
   ]
  },
  {
   "cell_type": "code",
   "execution_count": 39,
   "metadata": {},
   "outputs": [
    {
     "name": "stdout",
     "output_type": "stream",
     "text": [
      "2 4\n"
     ]
    }
   ],
   "source": [
    "y = 2\n",
    "\n",
    "def f(x):\n",
    "    y = x + 1\n",
    "    return y\n",
    "\n",
    "z = f(3)\n",
    "print(y, z)"
   ]
  },
  {
   "cell_type": "code",
   "execution_count": 40,
   "metadata": {},
   "outputs": [
    {
     "name": "stdout",
     "output_type": "stream",
     "text": [
      "['a', 'b', 'c'] ['d']\n"
     ]
    }
   ],
   "source": [
    "lst = ['a', 'b', 'c']\n",
    "\n",
    "def f(x):\n",
    "    lst = [x]\n",
    "    return lst\n",
    "\n",
    "z = f('d')\n",
    "print(lst, z)"
   ]
  },
  {
   "cell_type": "markdown",
   "metadata": {},
   "source": [
    "Inside a function definition, you can use variables that are defined outside."
   ]
  },
  {
   "cell_type": "code",
   "execution_count": 41,
   "metadata": {},
   "outputs": [
    {
     "name": "stdout",
     "output_type": "stream",
     "text": [
      "2 5\n"
     ]
    }
   ],
   "source": [
    "y = 2\n",
    "\n",
    "def f(x):\n",
    "    return y+x\n",
    "\n",
    "z = f(3)\n",
    "print(y, z)"
   ]
  },
  {
   "cell_type": "code",
   "execution_count": 42,
   "metadata": {},
   "outputs": [
    {
     "name": "stdout",
     "output_type": "stream",
     "text": [
      "['a', 'b', 'c'] ['a', 'b', 'c', 'd']\n"
     ]
    }
   ],
   "source": [
    "lst = [\"a\", \"b\", \"c\"]\n",
    "\n",
    "def f(x): \n",
    "    return lst + [x]\n",
    "\n",
    "z = f('d')\n",
    "print(lst, z)"
   ]
  },
  {
   "cell_type": "markdown",
   "metadata": {},
   "source": [
    "Inside a function, you can change variables that are defined outside the function."
   ]
  },
  {
   "cell_type": "code",
   "execution_count": 43,
   "metadata": {},
   "outputs": [
    {
     "name": "stdout",
     "output_type": "stream",
     "text": [
      "['a', 'b', 'c', 'd'] ['a', 'b', 'c', 'd']\n"
     ]
    }
   ],
   "source": [
    "lst = ['a', 'b', 'c']\n",
    "\n",
    "def f(x):\n",
    "    lst.append(x)\n",
    "    return lst\n",
    "\n",
    "z = f('d')\n",
    "print(lst, z)"
   ]
  },
  {
   "cell_type": "code",
   "execution_count": 44,
   "metadata": {},
   "outputs": [
    {
     "name": "stdout",
     "output_type": "stream",
     "text": [
      "5 5\n"
     ]
    }
   ],
   "source": [
    "y = 2\n",
    "\n",
    "def f(x):\n",
    "    global y\n",
    "    y = y + x\n",
    "    return y\n",
    "\n",
    "z = f(3)\n",
    "print(y, z)"
   ]
  },
  {
   "cell_type": "markdown",
   "metadata": {},
   "source": [
    "# Installing libraries\n",
    "\n",
    "We need to import libraries (=packages) to do most things.  If the library is not installed on your machine, you need to install before importing (install on a machine, import into a session).  Use a terminal or from a Jupyter notebook code cell, you can execute, for example,\n",
    "\n",
    "    !pip install wrds"
   ]
  },
  {
   "cell_type": "markdown",
   "metadata": {},
   "source": [
    "# Importing libraries\n",
    "\n",
    "* Can import an entire library or just some objects from the library\n",
    "* Entire library:  \"import ...\" or \"import ... as\" \n",
    "* Some objects: \"from ... import ...\" or \"from ... import ... as ...\" \n",
    "\n",
    "Example:"
   ]
  },
  {
   "cell_type": "code",
   "execution_count": 45,
   "metadata": {},
   "outputs": [
    {
     "data": {
      "text/plain": [
       "2.0"
      ]
     },
     "execution_count": 45,
     "metadata": {},
     "output_type": "execute_result"
    }
   ],
   "source": [
    "from math import sqrt\n",
    "\n",
    "sqrt(4)"
   ]
  },
  {
   "cell_type": "code",
   "execution_count": 46,
   "metadata": {},
   "outputs": [
    {
     "data": {
      "text/plain": [
       "array([2., 3.])"
      ]
     },
     "execution_count": 46,
     "metadata": {},
     "output_type": "execute_result"
    }
   ],
   "source": [
    "import numpy as np\n",
    "\n",
    "np.sqrt([4, 9])"
   ]
  }
 ],
 "metadata": {
  "colab": {
   "include_colab_link": true,
   "name": "Python-Numpy-Pandas.ipynb",
   "provenance": []
  },
  "kernelspec": {
   "display_name": "Python 3 (ipykernel)",
   "language": "python",
   "name": "python3"
  },
  "language_info": {
   "codemirror_mode": {
    "name": "ipython",
    "version": 3
   },
   "file_extension": ".py",
   "mimetype": "text/x-python",
   "name": "python",
   "nbconvert_exporter": "python",
   "pygments_lexer": "ipython3",
   "version": "3.10.8"
  },
  "vscode": {
   "interpreter": {
    "hash": "a98f34b6005ae2330f135078450db511ef8910ecc790235ef0560aa88aa6ce12"
   }
  }
 },
 "nbformat": 4,
 "nbformat_minor": 4
}
