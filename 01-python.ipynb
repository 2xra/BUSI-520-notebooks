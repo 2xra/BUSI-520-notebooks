{
  "cells": [
    {
      "cell_type": "markdown",
      "metadata": {
        "colab_type": "text",
        "id": "view-in-github"
      },
      "source": [
        "<a href=\"https://colab.research.google.com/github/kerryback/2022-BUSI520/blob/main/Intro.ipynb\" target=\"_parent\"><img src=\"https://colab.research.google.com/assets/colab-badge.svg\" alt=\"Open In Colab\"/></a>"
      ]
    },
    {
      "cell_type": "markdown",
      "metadata": {
        "id": "fZLzdwKVgY2P",
        "pycharm": {
          "name": "#%% md\n"
        }
      },
      "source": [
        "### Code cells and markdown cells in Jupyter notebooks\n",
        "\n",
        "* Execute either with run icon or SHFT-ENTER\n",
        "* Can use latex in markdown cells\n",
        "* Can make bulleted lists with *, large font with # or ## or ###, much more\n",
        "* Double click a markdown cell to put it in edit mode and SHFT-ENTER to put it in viewing mode\n",
        "* In a code cell, everything on a line after a # is ignored by the python interpreter\n",
        "* Use # to add comments to a file for yourself or others to read\n",
        "* Can also have multi-line comments using triple-quoted strings (later)\n",
        "* If the last expression in a code cell is not assigned to a variable, its value will be printed below the cell."
      ]
    },
    {
      "cell_type": "markdown",
      "metadata": {
        "id": "nMrgr3uygY2Q",
        "pycharm": {
          "name": "#%% md\n"
        }
      },
      "source": [
        "### Jupyter notebooks vs .py scripts\n",
        "\n",
        "You can run python from a Jupyter notebook or by executing a script.  A script is just a text file with a sequence of python commands (a program).  The conventional file extension for a python script is .py.  \n",
        "\n",
        "Notebooks are interactive and are better for exploring data and developing code.  Notebooks can be confusing, because\n",
        "you can skip around and execute things in a different order than they appear in the file.  When your code is complete (until you have to revise your paper), it could be better to put in script form so it is clearer when you come back to it.  If I have something that takes hours or days to execute, I usually write it as a script and run it from a terminal window on the JGSB server using tmux."
      ]
    },
    {
      "cell_type": "markdown",
      "metadata": {
        "id": "pfG11O9agY2R",
        "pycharm": {
          "name": "#%% md\n"
        }
      },
      "source": [
        "### IDEs\n",
        "\n",
        "In addition to notebook vs .py, you have a choice of IDE (Integrated Development Environment).  It is possible to write python code in a text editor like Notebook and run scripts in a terminal window, but there are better choices.  Possibilities include\n",
        "\n",
        "* Jupyter Notebook or JupyterLab installed by Anaconda\n",
        "* stand-alone JupyterLab\n",
        "* PyCharm\n",
        "* VS Code (Visual Studio Code)\n",
        "* Spyder\n",
        "* JupyterHub on the JGSB server\n",
        "* Cloud servers including Colab and Paperspace Gradient\n",
        "\n",
        "PyCharm and VS Code can run either notebooks or scripts.  They have the best code completion and syntax highlighting.  The extra versatility means the learning curve for them is a little steeper.\n",
        "\n",
        "If you ever want to do deep learning (neural networks) you will probably want to use a cloud server that provides GPUs."
      ]
    },
    {
      "cell_type": "markdown",
      "metadata": {
        "collapsed": false,
        "id": "NraXRkmsgY2S",
        "pycharm": {
          "name": "#%% md\n"
        }
      },
      "source": [
        "### Modules\n",
        "\n",
        "Python consists of an interpreter and modules (or libraries or packages).  If you install from python.org, you get the interpreter and core modules.  If you install from Anaconda, you get the interpreter, core modules, and standard scientific modules.\n",
        "\n",
        "If you install from Anaconda, you by default work in a \"conda environment.\"  It is best to use the Anaconda Navigator or \"conda install\" in a terminal window (in the conda environment) to install new modules when possible.  Not all modules have been catalogued by conda.  For those, you need to use \"pip install\" in a terminal window (in the conda environment).\n",
        "\n",
        "We can issue operating system commands from inside a Jupyter notebook by prefacing them with !.  So, we can bypass using the terminal.  The following will install pandas-datareader.  It is already installed on Colab, and you can use conda install instead with Anaconda. \n",
        "\n",
        "New modules are created daily and published to PyPi for downloading with pip.  It is actually quite easy to create and publish your own modules.  There is no quality control, but there are millions of users of standard packages, and bugs are quickly reported.  Use Google and especially StackOverflow."
      ]
    },
    {
      "cell_type": "code",
      "execution_count": 72,
      "metadata": {
        "colab": {
          "base_uri": "https://localhost:8080/"
        },
        "id": "YD27nm8lgY2S",
        "outputId": "fbd943a6-9a34-4927-8a3b-573d09e56efd",
        "pycharm": {
          "name": "#%%\n"
        }
      },
      "outputs": [
        {
          "name": "stdout",
          "output_type": "stream",
          "text": [
            "Requirement already satisfied: pandas-datareader in c:\\users\\kerry\\appdata\\local\\programs\\python\\python310\\lib\\site-packages (0.10.0)\n",
            "Requirement already satisfied: pandas>=0.23 in c:\\users\\kerry\\appdata\\local\\programs\\python\\python310\\lib\\site-packages (from pandas-datareader) (1.4.3)\n",
            "Requirement already satisfied: lxml in c:\\users\\kerry\\appdata\\local\\programs\\python\\python310\\lib\\site-packages (from pandas-datareader) (4.9.1)\n",
            "Requirement already satisfied: requests>=2.19.0 in c:\\users\\kerry\\appdata\\local\\programs\\python\\python310\\lib\\site-packages (from pandas-datareader) (2.27.1)\n",
            "Requirement already satisfied: pytz>=2020.1 in c:\\users\\kerry\\appdata\\local\\programs\\python\\python310\\lib\\site-packages (from pandas>=0.23->pandas-datareader) (2022.1)\n",
            "Requirement already satisfied: python-dateutil>=2.8.1 in c:\\users\\kerry\\appdata\\local\\programs\\python\\python310\\lib\\site-packages (from pandas>=0.23->pandas-datareader) (2.8.2)\n",
            "Requirement already satisfied: numpy>=1.21.0 in c:\\users\\kerry\\appdata\\local\\programs\\python\\python310\\lib\\site-packages (from pandas>=0.23->pandas-datareader) (1.23.1)\n",
            "Requirement already satisfied: urllib3<1.27,>=1.21.1 in c:\\users\\kerry\\appdata\\local\\programs\\python\\python310\\lib\\site-packages (from requests>=2.19.0->pandas-datareader) (1.26.9)\n",
            "Requirement already satisfied: charset-normalizer~=2.0.0 in c:\\users\\kerry\\appdata\\local\\programs\\python\\python310\\lib\\site-packages (from requests>=2.19.0->pandas-datareader) (2.0.12)\n",
            "Requirement already satisfied: certifi>=2017.4.17 in c:\\users\\kerry\\appdata\\local\\programs\\python\\python310\\lib\\site-packages (from requests>=2.19.0->pandas-datareader) (2022.5.18.1)\n",
            "Requirement already satisfied: idna<4,>=2.5 in c:\\users\\kerry\\appdata\\local\\programs\\python\\python310\\lib\\site-packages (from requests>=2.19.0->pandas-datareader) (3.3)\n",
            "Requirement already satisfied: six>=1.5 in c:\\users\\kerry\\appdata\\local\\programs\\python\\python310\\lib\\site-packages (from python-dateutil>=2.8.1->pandas>=0.23->pandas-datareader) (1.16.0)\n"
          ]
        }
      ],
      "source": [
        "!pip install pandas-datareader"
      ]
    },
    {
      "cell_type": "markdown",
      "metadata": {
        "collapsed": false,
        "id": "ZP6pxPHAgY2T",
        "pycharm": {
          "name": "#%% md\n"
        }
      },
      "source": [
        "### Start by importing modules or things from modules\n",
        "\n",
        "For clarity, it is a good idea to import everything you need at the top of a notebook or script.  \n",
        "\n",
        "* \"import ...\" or \"import ... as\" provides access to everything in the module by prefixing with the module name or alias (e.g., np.whatever)\n",
        "* \"from ... import ...\" or \"from ... import ... as ...\" provides direct access to whatever is imported using its name without a prefix\n",
        "* The reason for the prefix style is to avoid having duplicate names in the workspace (only one would work)."
      ]
    },
    {
      "cell_type": "code",
      "execution_count": 73,
      "metadata": {
        "id": "GFIWu47XgY2U",
        "pycharm": {
          "name": "#%%\n"
        }
      },
      "outputs": [],
      "source": [
        "import numpy as np\n",
        "import pandas as pd\n",
        "from pandas_datareader import DataReader as pdr\n",
        "from pandas_datareader.famafrench import get_available_datasets as gad \n",
        "from seaborn import load_dataset\n",
        "from math import sqrt, exp, log\n",
        "from scipy.stats import norm"
      ]
    },
    {
      "cell_type": "markdown",
      "metadata": {
        "collapsed": false,
        "id": "SvFUnjYWgY2V",
        "pycharm": {
          "name": "#%% md\n"
        }
      },
      "source": [
        "### Assignment statements\n",
        "\n",
        "* a=b means \"evaluate b and assign the result to a variable named a\"\n",
        "* spaces around = are optional, and are optional in most other places as well (with one important exception we will discuss)\n",
        "* can use any name not reserved by python for a variable, must start with letter or underscore, cannot have spaces or some other characters\n",
        "* can have multiple assignments on a single line\n"
      ]
    },
    {
      "cell_type": "code",
      "execution_count": 74,
      "metadata": {
        "colab": {
          "base_uri": "https://localhost:8080/"
        },
        "id": "--UU076qgY2V",
        "outputId": "4b39adee-9e0f-4496-c4c2-0c18a30b28d7",
        "pycharm": {
          "name": "#%%\n"
        }
      },
      "outputs": [
        {
          "data": {
            "text/plain": [
              "4"
            ]
          },
          "execution_count": 74,
          "metadata": {},
          "output_type": "execute_result"
        }
      ],
      "source": [
        "x = 3\n",
        "x = x + 1\n",
        "x"
      ]
    },
    {
      "cell_type": "code",
      "execution_count": 75,
      "metadata": {
        "colab": {
          "base_uri": "https://localhost:8080/"
        },
        "id": "mGVXEfozgY2W",
        "outputId": "e8e373f3-22df-4d4e-ad34-82d49c792c8b",
        "pycharm": {
          "name": "#%%\n"
        }
      },
      "outputs": [
        {
          "data": {
            "text/plain": [
              "5"
            ]
          },
          "execution_count": 75,
          "metadata": {},
          "output_type": "execute_result"
        }
      ],
      "source": [
        "x, y, z = 3, 4, 5\n",
        "z"
      ]
    },
    {
      "cell_type": "markdown",
      "metadata": {
        "collapsed": false,
        "id": "ZBzwQhyGgY2W",
        "pycharm": {
          "name": "#%% md\n"
        }
      },
      "source": [
        "### Basic object types"
      ]
    },
    {
      "cell_type": "code",
      "execution_count": 76,
      "metadata": {
        "id": "TvHuqUD1gY2W",
        "pycharm": {
          "name": "#%%\n"
        }
      },
      "outputs": [],
      "source": [
        "# type(3)\n",
        "# type(2.718)\n",
        "# type('some text')\n",
        "# type(['a', 'b', 'c'])\n",
        "# type(('a', 'b', 'c'))\n",
        "# type({'a': 1, 'b': 2})\n",
        "# type(sqrt)\n",
        "# type(True)\n",
        "# type(False)\n",
        "# type(None)"
      ]
    },
    {
      "cell_type": "markdown",
      "metadata": {
        "collapsed": false,
        "id": "DHFYzh6DgY2X",
        "pycharm": {
          "name": "#%% md\n"
        }
      },
      "source": [
        "### Some basic functions"
      ]
    },
    {
      "cell_type": "code",
      "execution_count": 77,
      "metadata": {
        "id": "Q748BiZmgY2X",
        "pycharm": {
          "name": "#%%\n"
        }
      },
      "outputs": [],
      "source": [
        "# round(3.14, 1)\n",
        "# int(3.14)\n",
        "# int('3')\n",
        "# str(3)"
      ]
    },
    {
      "cell_type": "markdown",
      "metadata": {
        "collapsed": false,
        "id": "g1ENPyPNgY2X",
        "pycharm": {
          "name": "#%% md\n"
        }
      },
      "source": [
        "### Print statements\n"
      ]
    },
    {
      "cell_type": "code",
      "execution_count": 78,
      "metadata": {
        "colab": {
          "base_uri": "https://localhost:8080/"
        },
        "id": "OWIFiks_gY2X",
        "outputId": "28adbe91-b61f-4149-9edd-35c2f3382d10",
        "pycharm": {
          "name": "#%%\n"
        }
      },
      "outputs": [
        {
          "name": "stdout",
          "output_type": "stream",
          "text": [
            "3.14\n",
            "3.14 2.718\n",
            "x is 3.14 and y is 2.718\n"
          ]
        }
      ],
      "source": [
        "x = 3.14\n",
        "y = 2.718\n",
        "print(x)\n",
        "print(x, y)\n",
        "print(\"x is\", x, \"and y is\", y)\n"
      ]
    },
    {
      "cell_type": "markdown",
      "metadata": {
        "collapsed": false,
        "id": "9FdQ7FoagY2X",
        "pycharm": {
          "name": "#%% md\n"
        }
      },
      "source": [
        "### Working with lists\n",
        "\n",
        "* Counting starts from zero.  \n",
        "* Ranges int1:int2 start with int1 and go to but not including int2.\n",
        "* Consequently, the subset has int2 - int1 elements\n",
        "* Last item can be accessed as -1, next-to-last as -2, etc.\n",
        "* Can use range int1:int2:int3 to go from int1 to int2 stepping by int3\n",
        "* In range int1:int2:int3, int3 can be negative and int1>int2\n",
        "* Concatenate lists with +\n",
        "\n"
      ]
    },
    {
      "cell_type": "code",
      "execution_count": 79,
      "metadata": {
        "id": "CH7CusLHgY2Y",
        "pycharm": {
          "name": "#%%\n"
        }
      },
      "outputs": [],
      "source": [
        "x = ['a', 'b', 'c', 'd']\n",
        "y = ['m', 'n', 'o' 'p', 'q']\n",
        "\n",
        "# len(x)\n",
        "# x[0]\n",
        "# x[1]\n",
        "# x[:2]\n",
        "# x[0:2]\n",
        "# x[1:4]\n",
        "# x[1:4:2]\n",
        "# x[4:1:-1]\n",
        "# x[-1]\n",
        "# x[:-1]\n",
        "# x[-2]\n",
        "# x[-3:]\n",
        "# x[-3:-1]\n",
        "# x[1]='w'\n",
        "# x[1:3] = ['y','z']\n",
        "# x.append('u')\n",
        "# indx = x.index('a')\n",
        "# x.remove('a')\n",
        "# x.insert(indx, 's')\n",
        "# x.reverse()\n",
        "# x + y\n",
        "# 3 * x\n",
        "# 7 * [0]"
      ]
    },
    {
      "cell_type": "markdown",
      "metadata": {
        "collapsed": false,
        "id": "5qZ3sd5PgY2Y",
        "pycharm": {
          "name": "#%% md\n"
        }
      },
      "source": [
        "### Working with strings\n",
        "\n",
        "* Can use either single or double quotes\n",
        "* Concatenate with +\n",
        "* Strings are basically lists of characters, and many list operations work on strings"
      ]
    },
    {
      "cell_type": "code",
      "execution_count": 80,
      "metadata": {
        "id": "19sNh2DVgY2Y",
        "pycharm": {
          "name": "#%%\n"
        }
      },
      "outputs": [],
      "source": [
        "string1 = 'This is some text'\n",
        "string2 = \"This is some different text\"\n",
        "\n",
        "# string1[:4]\n",
        "# string1[-4:]\n",
        "# string1 + \". \" + string2 + \".\"\n",
        "# string1.split(\" \")\n",
        "# string1.split(\" \")[0] + \" \" + string1.split(\" \")[3]\n",
        "# string1.title()\n",
        "# string1.upper()\n",
        "\n"
      ]
    },
    {
      "cell_type": "markdown",
      "metadata": {
        "collapsed": false,
        "id": "UodcuhgGgY2Y",
        "pycharm": {
          "name": "#%% md\n"
        }
      },
      "source": [
        "### Logical conditions\n",
        "\n",
        "A single = is an assignment, so to test for equality we use =="
      ]
    },
    {
      "cell_type": "code",
      "execution_count": 81,
      "metadata": {
        "id": "CByJS5EhgY2Y",
        "pycharm": {
          "name": "#%%\n"
        }
      },
      "outputs": [],
      "source": [
        "# 3 == 3\n",
        "# 3 == 5\n",
        "# 3 != 5\n",
        "# not(3==5)\n",
        "# 3 > 5\n",
        "# (2<4) and (3>5)\n",
        "# (2<4) & (3>5)\n",
        "# (2<4) or (3>5)\n",
        "# (2<4) | (3>5)\n",
        "# 1 in [3, 4]\n",
        "# 1 not in [3, 4]\n",
        "# 1 * (3>5)\n",
        "# 1 * (2<4)\n"
      ]
    },
    {
      "cell_type": "markdown",
      "metadata": {
        "collapsed": false,
        "id": "Gf2Sfc4_gY2Z",
        "pycharm": {
          "name": "#%% md\n"
        }
      },
      "source": [
        "### Ternary operator\n",
        "\n",
        "\n"
      ]
    },
    {
      "cell_type": "code",
      "execution_count": 82,
      "metadata": {
        "id": "9e_mTS3TgY2Z",
        "pycharm": {
          "name": "#%%\n"
        }
      },
      "outputs": [],
      "source": [
        "# \"yes\" if 3>5 else \"no\"\n",
        "# 10 if 3>5 else 100\n",
        "# 10 if (2<4) or (3>5) else 100\n",
        "# 10 if 0 else 100\n",
        "# 10 if None else 100\n",
        "# 10 if 16 else 100"
      ]
    },
    {
      "cell_type": "markdown",
      "metadata": {
        "collapsed": false,
        "id": "caCncnuSgY2Z",
        "pycharm": {
          "name": "#%% md\n"
        }
      },
      "source": [
        "### List enumeration"
      ]
    },
    {
      "cell_type": "code",
      "execution_count": 83,
      "metadata": {
        "id": "pgLWf0yhgY2Z",
        "pycharm": {
          "name": "#%%\n"
        }
      },
      "outputs": [],
      "source": [
        "letters = ['a', 'b', 'c', 'd']\n",
        "# [x + '1' for x in letters]\n",
        "# [x + '1' for x in letters if not x=='c']\n"
      ]
    },
    {
      "cell_type": "markdown",
      "metadata": {
        "collapsed": false,
        "id": "ASwYtAzIgY2Z",
        "pycharm": {
          "name": "#%% md\n"
        }
      },
      "source": [
        "### Range objects"
      ]
    },
    {
      "cell_type": "code",
      "execution_count": 84,
      "metadata": {
        "id": "pfkxM5ewgY2Z",
        "pycharm": {
          "name": "#%%\n"
        }
      },
      "outputs": [],
      "source": [
        "# [i for i in range(6)]\n",
        "# [i for i in range(1,7)]\n",
        "# [i for i in range(2,8,2)]\n",
        "# [i for i in range(6,2,-1)]"
      ]
    },
    {
      "cell_type": "markdown",
      "metadata": {
        "collapsed": false,
        "id": "T1v2_91LgY2a",
        "pycharm": {
          "name": "#%% md\n"
        }
      },
      "source": [
        "### Assign by reference or by value\n",
        "\n",
        "\"By reference\" means the memory location is assigned to a variable.  Multiple variables can be assigned to the same location and changes to any of them will affect all of them.  Integers and floats are assigned by value.  Lists and other types of arrays are assigned by reference.\n",
        "\n",
        "Lists have a copy method that creates a copy at a new memory location."
      ]
    },
    {
      "cell_type": "code",
      "execution_count": 85,
      "metadata": {
        "colab": {
          "base_uri": "https://localhost:8080/"
        },
        "id": "xCMib5MPgY2a",
        "outputId": "f5a49964-b47a-4031-9e7e-5cee1b277cb3",
        "pycharm": {
          "name": "#%%\n"
        }
      },
      "outputs": [
        {
          "data": {
            "text/plain": [
              "3"
            ]
          },
          "execution_count": 85,
          "metadata": {},
          "output_type": "execute_result"
        }
      ],
      "source": [
        "x = 3\n",
        "y = x\n",
        "x = x + 1\n",
        "y"
      ]
    },
    {
      "cell_type": "code",
      "execution_count": 86,
      "metadata": {
        "colab": {
          "base_uri": "https://localhost:8080/"
        },
        "id": "xENe_qnhgY2a",
        "outputId": "23b9c56f-aa69-4b5e-8dce-c4998d3bb203",
        "pycharm": {
          "name": "#%%\n"
        }
      },
      "outputs": [
        {
          "data": {
            "text/plain": [
              "['a', 'b', 'c', 'd']"
            ]
          },
          "execution_count": 86,
          "metadata": {},
          "output_type": "execute_result"
        }
      ],
      "source": [
        "x = ['a', 'b', 'c']\n",
        "y = x\n",
        "x.append('d')\n",
        "y"
      ]
    },
    {
      "cell_type": "code",
      "execution_count": 87,
      "metadata": {
        "colab": {
          "base_uri": "https://localhost:8080/"
        },
        "id": "7nzrVWTZgY2a",
        "outputId": "c6edc1a1-e0fe-487b-b678-39691e566b2e",
        "pycharm": {
          "name": "#%%\n"
        }
      },
      "outputs": [
        {
          "data": {
            "text/plain": [
              "['a', 'b', 'c']"
            ]
          },
          "execution_count": 87,
          "metadata": {},
          "output_type": "execute_result"
        }
      ],
      "source": [
        "x = ['a', 'b', 'c']\n",
        "y = x.copy()\n",
        "x.append('d')\n",
        "y"
      ]
    },
    {
      "cell_type": "markdown",
      "metadata": {
        "collapsed": false,
        "id": "TE5JY_NcgY2d",
        "pycharm": {
          "name": "#%% md\n"
        }
      },
      "source": [
        "### Defining functions\n",
        "\n",
        "Why functions?  Modularized code is easier to test, maintain, and reuse.\n",
        "\n",
        "* The def keyword starts the function definition.\n",
        "* Arguments are enclosed in parentheses and followed by a colon.\n",
        "* The return keyword indicates the value returned by the function.\n",
        "* Functions can return numbers, lists, strings, ...\n",
        "* Indentation is crucial.  All lines within the function definition must be indented the same number of spaces, unless there is a reason the line must be indented further (more later) or it is within parentheses or braces.  A good IDE will prompt you to indent and tell you when you have indentation wrong.\n"
      ]
    },
    {
      "cell_type": "code",
      "execution_count": 100,
      "metadata": {
        "colab": {
          "base_uri": "https://localhost:8080/"
        },
        "id": "QrAn4DnCgY2d",
        "outputId": "d42ea099-1ac1-49db-ccff-48923976daa9",
        "pycharm": {
          "name": "#%%\n"
        }
      },
      "outputs": [
        {
          "data": {
            "text/plain": [
              "6"
            ]
          },
          "execution_count": 100,
          "metadata": {},
          "output_type": "execute_result"
        }
      ],
      "source": [
        "def double(x):\n",
        "    return 2*x\n",
        "\n",
        "double(3)"
      ]
    },
    {
      "cell_type": "markdown",
      "metadata": {
        "collapsed": false,
        "id": "CzA9WLAqgY2d",
        "pycharm": {
          "name": "#%% md\n"
        }
      },
      "source": [
        "### Passing arguments by name"
      ]
    },
    {
      "cell_type": "code",
      "execution_count": 101,
      "metadata": {
        "id": "j7a8Xf6BgY2e",
        "pycharm": {
          "name": "#%%\n"
        }
      },
      "outputs": [],
      "source": [
        "def exponentiate(base, exponent):\n",
        "    return base ** exponent\n",
        "\n",
        "# exponentiate(2, 5)\n",
        "# exponentiate(base=2, exponent=5)\n",
        "# exponentiate(exponent=5, base=2)\n",
        "# exponentiate(5, 2)"
      ]
    },
    {
      "cell_type": "markdown",
      "metadata": {
        "collapsed": false,
        "id": "LtLOOpV0gY2e",
        "pycharm": {
          "name": "#%% md\n"
        }
      },
      "source": [
        "### Returning tuples\n"
      ]
    },
    {
      "cell_type": "code",
      "execution_count": 102,
      "metadata": {
        "colab": {
          "base_uri": "https://localhost:8080/"
        },
        "id": "zU1FF2g6gY2e",
        "outputId": "334a91bb-816b-4786-c26b-abbafa0fdb2e",
        "pycharm": {
          "name": "#%%\n"
        }
      },
      "outputs": [
        {
          "data": {
            "text/plain": [
              "6"
            ]
          },
          "execution_count": 102,
          "metadata": {},
          "output_type": "execute_result"
        }
      ],
      "source": [
        "def f(x):\n",
        "    return 2*x, 3*x \n",
        "\n",
        "a, b = f(2)\n",
        "b"
      ]
    },
    {
      "cell_type": "markdown",
      "metadata": {
        "collapsed": false,
        "id": "_ZnNQzLSgY2g",
        "pycharm": {
          "name": "#%% md\n"
        }
      },
      "source": [
        "### Defining classes\n",
        "\n",
        "Why classes?  To store data so we don't have to input it repeatedly into functions.\n",
        "\n",
        "* Main takeaways: objects have attributes and methods\n",
        "* Attributes are data (in a general sense - not necessarily numbers) that are stored in the object\n",
        "* Methods are functions that operate on the data and possibly on other arguments\n",
        "* A class definition is initiated with the class keyword\n",
        "* The __init__ method is how an instance of the object is created.  It usually defines the attributes.\n",
        "* Note that the lines following the class keyword must be indented, and method definitions must be further indented.\n",
        "* In general, indentation is sequential.  Each class / function / for or while block / if-else block must be further indented.\n"
      ]
    },
    {
      "cell_type": "code",
      "execution_count": 103,
      "metadata": {
        "id": "AUVOUFcvgY2g",
        "pycharm": {
          "name": "#%%\n"
        }
      },
      "outputs": [],
      "source": [
        "class multiplier():\n",
        "    def __init__(self,x) :\n",
        "        self.factor = x\n",
        "    def multiply(self, y) :\n",
        "        return y * self.factor\n",
        "\n",
        "x = multiplier(3)\n",
        "# x.multiply(4)\n",
        "# x.factor"
      ]
    },
    {
      "cell_type": "markdown",
      "metadata": {
        "collapsed": false,
        "id": "sh3bu4GZgY2g",
        "pycharm": {
          "name": "#%% md\n"
        }
      },
      "source": [
        "### Sets\n",
        "\n",
        "Sets are unordered collections with no repeated items."
      ]
    },
    {
      "cell_type": "code",
      "execution_count": 104,
      "metadata": {
        "colab": {
          "base_uri": "https://localhost:8080/"
        },
        "id": "QysYvJJ7gY2g",
        "outputId": "6a3d1fc4-bd1a-41bb-dd27-3fc681e9b89c",
        "pycharm": {
          "name": "#%%\n"
        }
      },
      "outputs": [
        {
          "data": {
            "text/plain": [
              "{1, 2, 3}"
            ]
          },
          "execution_count": 104,
          "metadata": {},
          "output_type": "execute_result"
        }
      ],
      "source": [
        "x = set([1, 1, 2, 3])\n",
        "x"
      ]
    },
    {
      "cell_type": "code",
      "execution_count": 105,
      "metadata": {
        "colab": {
          "base_uri": "https://localhost:8080/"
        },
        "id": "Q45CPzrRgY2g",
        "outputId": "86bde8e3-111b-4d98-f040-d628c0285874",
        "pycharm": {
          "name": "#%%\n"
        }
      },
      "outputs": [
        {
          "data": {
            "text/plain": [
              "True"
            ]
          },
          "execution_count": 105,
          "metadata": {},
          "output_type": "execute_result"
        }
      ],
      "source": [
        "x.issubset([1, 2, 2, 3, 4, 4])"
      ]
    },
    {
      "cell_type": "markdown",
      "metadata": {
        "collapsed": false,
        "id": "zqwEGvJDgY2g",
        "pycharm": {
          "name": "#%% md\n"
        }
      },
      "source": [
        "### Dictionaries\n",
        "\n",
        "* Dictionaries are unordered collections of key/value pairs\n",
        "* Sometimes called look-up tables or hash tables \n",
        "* Compared to normal dictionaries, key $\\sim$ word and value $\\sim$ definition.\n",
        "* Created with dict function or by enclosing key/value pairs in {}\n",
        "* Keys and values can be any types of objects"
      ]
    },
    {
      "cell_type": "code",
      "execution_count": 106,
      "metadata": {
        "colab": {
          "base_uri": "https://localhost:8080/"
        },
        "id": "TEIEZxE2gY2h",
        "outputId": "e210c198-e441-4790-bd3f-3f7ab415585b",
        "pycharm": {
          "name": "#%%\n"
        }
      },
      "outputs": [
        {
          "data": {
            "text/plain": [
              "1"
            ]
          },
          "execution_count": 106,
          "metadata": {},
          "output_type": "execute_result"
        }
      ],
      "source": [
        "x = {'a': 1, 'b': 2}\n",
        "x['a']"
      ]
    },
    {
      "cell_type": "code",
      "execution_count": 107,
      "metadata": {
        "id": "WCSHwf4cgY2h",
        "pycharm": {
          "name": "#%%\n"
        }
      },
      "outputs": [],
      "source": [
        "x = dict(a=1, b=2)\n",
        "# x['a']\n",
        "# list(x.keys())\n",
        "# list(x.values())"
      ]
    },
    {
      "cell_type": "markdown",
      "metadata": {
        "collapsed": false,
        "id": "nUk_6EGLgY2m",
        "pycharm": {
          "name": "#%% md\n"
        }
      },
      "source": [
        "### Loops\n",
        "\n",
        "* A loop is a block of code that is executed repeatedly, for a given number of times (for loop) or until some condition is met (while loop).\n",
        "* It is not common to need a while loop.\n",
        "* On the other hand, zip and enumerate are often useful (especially zip) in for loops.\n",
        "* Indentation is again crucial.  "
      ]
    },
    {
      "cell_type": "code",
      "execution_count": 129,
      "metadata": {
        "colab": {
          "base_uri": "https://localhost:8080/"
        },
        "id": "kPaptenlgY2m",
        "outputId": "a60676ad-960a-4c54-9afe-9c1be307ff0b",
        "pycharm": {
          "name": "#%%\n"
        }
      },
      "outputs": [
        {
          "name": "stdout",
          "output_type": "stream",
          "text": [
            "0\n",
            "1\n",
            "2\n",
            "3\n",
            "4\n"
          ]
        }
      ],
      "source": [
        "for i in range(5):\n",
        "    print(i)"
      ]
    },
    {
      "cell_type": "code",
      "execution_count": 130,
      "metadata": {
        "colab": {
          "base_uri": "https://localhost:8080/"
        },
        "id": "8rf8TKdNgY2m",
        "outputId": "53a15942-c536-493d-934f-973cbe68a741",
        "pycharm": {
          "name": "#%%\n"
        }
      },
      "outputs": [
        {
          "name": "stdout",
          "output_type": "stream",
          "text": [
            "a\n",
            "b\n",
            "c\n"
          ]
        }
      ],
      "source": [
        "for ltr in ['a', 'b', 'c']:\n",
        "    print(ltr)"
      ]
    },
    {
      "cell_type": "code",
      "execution_count": 132,
      "metadata": {
        "colab": {
          "base_uri": "https://localhost:8080/"
        },
        "id": "RBCOPRItgY2m",
        "outputId": "d4114af8-a79e-4e8b-df1e-d56304a785ce",
        "pycharm": {
          "name": "#%%\n"
        }
      },
      "outputs": [
        {
          "name": "stdout",
          "output_type": "stream",
          "text": [
            "a1\n",
            "b2\n",
            "c3\n"
          ]
        }
      ],
      "source": [
        "lst1 = ['a', 'b', 'c']\n",
        "lst2 = ['1', '2', '3']\n",
        "for a, b in zip(lst1, lst2):\n",
        "    print(a+b)"
      ]
    },
    {
      "cell_type": "code",
      "execution_count": 133,
      "metadata": {
        "colab": {
          "base_uri": "https://localhost:8080/"
        },
        "id": "7x6tsm5OgY2m",
        "outputId": "f4f0f566-0339-47a4-a106-16ffa407486e",
        "pycharm": {
          "name": "#%%\n"
        }
      },
      "outputs": [
        {
          "name": "stdout",
          "output_type": "stream",
          "text": [
            "a1\n",
            "b2\n",
            "c3\n"
          ]
        }
      ],
      "source": [
        "for i, ltr in enumerate(lst1):\n",
        "    print(ltr+lst2[i])"
      ]
    },
    {
      "cell_type": "code",
      "execution_count": 134,
      "metadata": {
        "colab": {
          "base_uri": "https://localhost:8080/"
        },
        "id": "mEBSSIwKgY2m",
        "outputId": "cd142cf3-d1b7-4b52-e817-3408205442fb",
        "pycharm": {
          "name": "#%%\n"
        }
      },
      "outputs": [
        {
          "name": "stdout",
          "output_type": "stream",
          "text": [
            "0\n",
            "1\n",
            "2\n"
          ]
        }
      ],
      "source": [
        "i = 0\n",
        "while i<3:\n",
        "    print(i)\n",
        "    i = i + 1"
      ]
    },
    {
      "cell_type": "markdown",
      "metadata": {
        "collapsed": false,
        "id": "DeI9oW7OgY2n",
        "pycharm": {
          "name": "#%% md\n"
        }
      },
      "source": [
        "### Conditional execution\n",
        "\n",
        "* An indented block following an if statement is executed only if the condition evaluates to True.\n",
        "* Often but not always there is an else with another indented block following the if block.\n",
        "* There can also be one or more elif (else if) blocks based on additional conditions."
      ]
    },
    {
      "cell_type": "code",
      "execution_count": 135,
      "metadata": {
        "colab": {
          "base_uri": "https://localhost:8080/",
          "height": 35
        },
        "id": "2heed1QcgY2n",
        "outputId": "501fbaba-56e1-4cae-df51-f8065f06141a",
        "pycharm": {
          "name": "#%%\n"
        }
      },
      "outputs": [
        {
          "data": {
            "text/plain": [
              "'medium'"
            ]
          },
          "execution_count": 135,
          "metadata": {},
          "output_type": "execute_result"
        }
      ],
      "source": [
        "def f(number):\n",
        "    if number < 10:\n",
        "        return 'small' \n",
        "    elif number < 100:\n",
        "        return 'medium' \n",
        "    else:\n",
        "        return 'large' \n",
        "\n",
        "f(20)"
      ]
    },
    {
      "cell_type": "code",
      "execution_count": 136,
      "metadata": {
        "colab": {
          "base_uri": "https://localhost:8080/",
          "height": 35
        },
        "id": "LiS-7WhbgY2n",
        "outputId": "ccf593cb-48f7-4b87-a54b-34fc99cb4a30",
        "pycharm": {
          "name": "#%%\n"
        }
      },
      "outputs": [
        {
          "data": {
            "text/plain": [
              "'medium'"
            ]
          },
          "execution_count": 136,
          "metadata": {},
          "output_type": "execute_result"
        }
      ],
      "source": [
        "def g(number):\n",
        "    return 'small' if number<10 else ('medium' if number<100 else 'large')\n",
        "\n",
        "g(20)"
      ]
    },
    {
      "cell_type": "markdown",
      "metadata": {},
      "source": [
        "### Default values for function arguments\n"
      ]
    },
    {
      "cell_type": "code",
      "execution_count": 137,
      "metadata": {},
      "outputs": [
        {
          "name": "stdout",
          "output_type": "stream",
          "text": [
            "6 6 8\n"
          ]
        }
      ],
      "source": [
        "def f(x, y=3):\n",
        "    return x*y\n",
        "\n",
        "print(f(2, 3), f(2), f(2, 4))"
      ]
    },
    {
      "cell_type": "code",
      "execution_count": 138,
      "metadata": {},
      "outputs": [],
      "source": [
        "# tips.head()\n",
        "# tips.head(3)\n",
        "# tips.head(n=3)\n",
        "# help(tips.head)"
      ]
    },
    {
      "cell_type": "markdown",
      "metadata": {},
      "source": [
        "### Local and global variables\n",
        "\n",
        "You can reuse variable names inside a function definition without affect variables with the same name outside the definition (variables are local to the function)."
      ]
    },
    {
      "cell_type": "code",
      "execution_count": 139,
      "metadata": {},
      "outputs": [
        {
          "name": "stdout",
          "output_type": "stream",
          "text": [
            "2 4\n"
          ]
        }
      ],
      "source": [
        "y = 2\n",
        "\n",
        "def f(x):\n",
        "    y = x + 1\n",
        "    return y\n",
        "\n",
        "z = f(3)\n",
        "print(y, z)"
      ]
    },
    {
      "cell_type": "code",
      "execution_count": 140,
      "metadata": {},
      "outputs": [
        {
          "name": "stdout",
          "output_type": "stream",
          "text": [
            "['a', 'b', 'c'] ['d']\n"
          ]
        }
      ],
      "source": [
        "lst = ['a', 'b', 'c']\n",
        "\n",
        "def f(x):\n",
        "    lst = [x]\n",
        "    return lst\n",
        "\n",
        "z = f('d')\n",
        "print(lst, z)"
      ]
    },
    {
      "cell_type": "markdown",
      "metadata": {},
      "source": [
        "Inside a function definition, you can use variables that are defined outside."
      ]
    },
    {
      "cell_type": "code",
      "execution_count": 141,
      "metadata": {},
      "outputs": [
        {
          "name": "stdout",
          "output_type": "stream",
          "text": [
            "2 5\n"
          ]
        }
      ],
      "source": [
        "y = 2\n",
        "\n",
        "def f(x):\n",
        "    return y+x\n",
        "\n",
        "z = f(3)\n",
        "print(y, z)"
      ]
    },
    {
      "cell_type": "code",
      "execution_count": 142,
      "metadata": {},
      "outputs": [
        {
          "name": "stdout",
          "output_type": "stream",
          "text": [
            "['a', 'b', 'c'] ['a', 'b', 'c', 'd']\n"
          ]
        }
      ],
      "source": [
        "lst = [\"a\", \"b\", \"c\"]\n",
        "\n",
        "def f(x): \n",
        "    return lst + [x]\n",
        "\n",
        "z = f('d')\n",
        "print(lst, z)"
      ]
    },
    {
      "cell_type": "markdown",
      "metadata": {},
      "source": [
        "Inside a function, you can change variables that are defined outside the function."
      ]
    },
    {
      "cell_type": "code",
      "execution_count": 143,
      "metadata": {},
      "outputs": [
        {
          "name": "stdout",
          "output_type": "stream",
          "text": [
            "['a', 'b', 'c', 'd'] ['a', 'b', 'c', 'd']\n"
          ]
        }
      ],
      "source": [
        "lst = ['a', 'b', 'c']\n",
        "\n",
        "def f(x):\n",
        "    lst.append(x)\n",
        "    return lst\n",
        "\n",
        "z = f('d')\n",
        "print(lst, z)"
      ]
    },
    {
      "cell_type": "code",
      "execution_count": 144,
      "metadata": {},
      "outputs": [
        {
          "name": "stdout",
          "output_type": "stream",
          "text": [
            "5 5\n"
          ]
        }
      ],
      "source": [
        "y = 2\n",
        "\n",
        "def f(x):\n",
        "    global y\n",
        "    y = y + x\n",
        "    return y\n",
        "\n",
        "z = f(3)\n",
        "print(y, z)"
      ]
    }
  ],
  "metadata": {
    "colab": {
      "include_colab_link": true,
      "name": "Python-Numpy-Pandas.ipynb",
      "provenance": []
    },
    "kernelspec": {
      "display_name": "Python 3.10.3 64-bit",
      "language": "python",
      "name": "python3"
    },
    "language_info": {
      "codemirror_mode": {
        "name": "ipython",
        "version": 3
      },
      "file_extension": ".py",
      "mimetype": "text/x-python",
      "name": "python",
      "nbconvert_exporter": "python",
      "pygments_lexer": "ipython3",
      "version": "3.10.3"
    },
    "orig_nbformat": 4,
    "vscode": {
      "interpreter": {
        "hash": "a98f34b6005ae2330f135078450db511ef8910ecc790235ef0560aa88aa6ce12"
      }
    }
  },
  "nbformat": 4,
  "nbformat_minor": 0
}
