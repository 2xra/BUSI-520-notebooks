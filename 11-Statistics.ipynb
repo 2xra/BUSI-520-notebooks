{
 "cells": [
  {
   "cell_type": "markdown",
   "metadata": {
    "slideshow": {
     "slide_type": "slide"
    }
   },
   "source": [
    "# Statistics\n",
    "\n",
    "### BUSI 520 - Python for Business Research\n",
    "### Kerry Back, JGSB, Rice University"
   ]
  },
  {
   "cell_type": "markdown",
   "metadata": {
    "slideshow": {
     "slide_type": "slide"
    }
   },
   "source": [
    "* $t$ tests with scipy.stats\n",
    "* regressions with statsmodels formula API\n",
    "    * HAC std errors\n",
    "  * logit\n",
    "* regressions with linearmodels\n",
    "  * two-stage least squares\n",
    "  * seemingly unrelated regressions\n",
    "  * fixed effects and clustered std errors\n",
    "  * Fama-MacBeth\n",
    "* VARs with statsmodels\n",
    "* saving output\n",
    "  * to Excel\n",
    "  * to latex with pystout"
   ]
  },
  {
   "cell_type": "code",
   "execution_count": 1,
   "metadata": {
    "id": "yWCBy6XRWxde",
    "slideshow": {
     "slide_type": "slide"
    }
   },
   "outputs": [],
   "source": [
    "import numpy as np\n",
    "import pandas as pd\n",
    "import pandas_datareader as pdr\n",
    "\n",
    "from scipy.stats import ttest_1samp, ttest_ind \n",
    "import statsmodels.api as sm\n",
    "import statsmodels.formula.api as smf\n",
    "from linearmodels.panel import PanelOLS, FamaMacBeth\n",
    "from linearmodels.iv import IV2SLS\n",
    "from linearmodels.system import SUR\n",
    "from statsmodels.regression.rolling import RollingOLS\n",
    "from statsmodels.tsa.api import VAR\n",
    "from pystout import pystout\n",
    "import openpyxl"
   ]
  },
  {
   "cell_type": "markdown",
   "metadata": {
    "slideshow": {
     "slide_type": "slide"
    }
   },
   "source": [
    "## $t$ tests with scipy.stats"
   ]
  },
  {
   "cell_type": "code",
   "execution_count": 2,
   "metadata": {
    "slideshow": {
     "slide_type": "slide"
    }
   },
   "outputs": [],
   "source": [
    "# use result.statistic and result.pvalue to get t-stat and p-value\n",
    "np.random.seed(0)\n",
    "sampleA = np.random.normal(size=100)\n",
    "sampleB = np.random.normal(loc=0.1, scale=2, size=150)\n",
    "\n",
    "# test of H0: mean = 0\n",
    "result1 = ttest_1samp(sampleB, popmean=0)\n",
    "\n",
    "# test of H0: meanA = meanB assuming equal variances\n",
    "result2 = ttest_ind(sampleA, sampleB)\n",
    "\n",
    "# test 0f H0: meanA = meanB allowing unequal variances\n",
    "result3 = ttest_ind(sampleA, sampleB, equal_var=False)"
   ]
  },
  {
   "cell_type": "code",
   "execution_count": 3,
   "metadata": {},
   "outputs": [
    {
     "name": "stdout",
     "output_type": "stream",
     "text": [
      "0.7797531026452201 -0.3089595101195194 -0.3476985381026659\n",
      "0.4367730439163994 0.7576117212939927 0.7283785379267089\n"
     ]
    }
   ],
   "source": [
    "print(result1.statistic,\n",
    "result2.statistic,\n",
    "result3.statistic)\n",
    "print(result1.pvalue,\n",
    "result2.pvalue,\n",
    "result3.pvalue    \n",
    ")"
   ]
  },
  {
   "cell_type": "markdown",
   "metadata": {
    "id": "ht2gCfBpWxdf",
    "slideshow": {
     "slide_type": "slide"
    }
   },
   "source": [
    "## Regressions with statsmodels"
   ]
  },
  {
   "cell_type": "code",
   "execution_count": 4,
   "metadata": {
    "slideshow": {
     "slide_type": "slide"
    }
   },
   "outputs": [],
   "source": [
    "data = pd.read_csv(\"WAGE1_revised.csv\")"
   ]
  },
  {
   "cell_type": "code",
   "execution_count": 5,
   "metadata": {
    "id": "bp_PfZX9Wxdk",
    "slideshow": {
     "slide_type": "slide"
    }
   },
   "outputs": [],
   "source": [
    "# use result.summary() \n",
    "\n",
    "model1 = sm.OLS(endog=data.wage, exog=sm.add_constant(data.exper))\n",
    "result1 = model1.fit()\n",
    "\n",
    "model2 = smf.ols(\"wage ~ female\", data=data)\n",
    "result2 = model2.fit()\n",
    "\n",
    "# multivariate\n",
    "model3 = smf.ols(\"wage ~ female + educ\", data=data)\n",
    "result3 = model3.fit()\n",
    "\n",
    "# transformations of variables\n",
    "model4 = smf.ols(\"wage ~ female + educ + np.log(exper)\", data=data)\n",
    "result4 = model4.fit()"
   ]
  },
  {
   "cell_type": "code",
   "execution_count": 6,
   "metadata": {},
   "outputs": [
    {
     "name": "stdout",
     "output_type": "stream",
     "text": [
      "                            OLS Regression Results                            \n",
      "==============================================================================\n",
      "Dep. Variable:                   wage   R-squared:                       0.013\n",
      "Model:                            OLS   Adj. R-squared:                  0.011\n",
      "Method:                 Least Squares   F-statistic:                     6.766\n",
      "Date:                Wed, 20 Sep 2023   Prob (F-statistic):            0.00955\n",
      "Time:                        11:26:05   Log-Likelihood:                -1429.7\n",
      "No. Observations:                 526   AIC:                             2863.\n",
      "Df Residuals:                     524   BIC:                             2872.\n",
      "Df Model:                           1                                         \n",
      "Covariance Type:            nonrobust                                         \n",
      "==============================================================================\n",
      "                 coef    std err          t      P>|t|      [0.025      0.975]\n",
      "------------------------------------------------------------------------------\n",
      "const          5.3733      0.257     20.908      0.000       4.868       5.878\n",
      "exper          0.0307      0.012      2.601      0.010       0.008       0.054\n",
      "==============================================================================\n",
      "Omnibus:                      222.603   Durbin-Watson:                   1.808\n",
      "Prob(Omnibus):                  0.000   Jarque-Bera (JB):              851.542\n",
      "Skew:                           1.962   Prob(JB):                    1.23e-185\n",
      "Kurtosis:                       7.843   Cond. No.                         35.0\n",
      "==============================================================================\n",
      "\n",
      "Notes:\n",
      "[1] Standard Errors assume that the covariance matrix of the errors is correctly specified.                             OLS Regression Results                            \n",
      "==============================================================================\n",
      "Dep. Variable:                   wage   R-squared:                       0.116\n",
      "Model:                            OLS   Adj. R-squared:                  0.114\n",
      "Method:                 Least Squares   F-statistic:                     68.54\n",
      "Date:                Wed, 20 Sep 2023   Prob (F-statistic):           1.04e-15\n",
      "Time:                        11:26:05   Log-Likelihood:                -1400.7\n",
      "No. Observations:                 526   AIC:                             2805.\n",
      "Df Residuals:                     524   BIC:                             2814.\n",
      "Df Model:                           1                                         \n",
      "Covariance Type:            nonrobust                                         \n",
      "==============================================================================\n",
      "                 coef    std err          t      P>|t|      [0.025      0.975]\n",
      "------------------------------------------------------------------------------\n",
      "Intercept      7.0995      0.210     33.806      0.000       6.687       7.512\n",
      "female        -2.5118      0.303     -8.279      0.000      -3.108      -1.916\n",
      "==============================================================================\n",
      "Omnibus:                      223.488   Durbin-Watson:                   1.818\n",
      "Prob(Omnibus):                  0.000   Jarque-Bera (JB):              929.998\n",
      "Skew:                           1.928   Prob(JB):                    1.13e-202\n",
      "Kurtosis:                       8.250   Cond. No.                         2.57\n",
      "==============================================================================\n",
      "\n",
      "Notes:\n",
      "[1] Standard Errors assume that the covariance matrix of the errors is correctly specified.                             OLS Regression Results                            \n",
      "==============================================================================\n",
      "Dep. Variable:                   wage   R-squared:                       0.259\n",
      "Model:                            OLS   Adj. R-squared:                  0.256\n",
      "Method:                 Least Squares   F-statistic:                     91.32\n",
      "Date:                Wed, 20 Sep 2023   Prob (F-statistic):           9.66e-35\n",
      "Time:                        11:26:05   Log-Likelihood:                -1354.3\n",
      "No. Observations:                 526   AIC:                             2715.\n",
      "Df Residuals:                     523   BIC:                             2727.\n",
      "Df Model:                           2                                         \n",
      "Covariance Type:            nonrobust                                         \n",
      "==============================================================================\n",
      "                 coef    std err          t      P>|t|      [0.025      0.975]\n",
      "------------------------------------------------------------------------------\n",
      "Intercept      0.6228      0.673      0.926      0.355      -0.698       1.944\n",
      "female        -2.2734      0.279     -8.147      0.000      -2.822      -1.725\n",
      "educ           0.5065      0.050     10.051      0.000       0.407       0.605\n",
      "==============================================================================\n",
      "Omnibus:                      205.985   Durbin-Watson:                   1.830\n",
      "Prob(Omnibus):                  0.000   Jarque-Bera (JB):              819.498\n",
      "Skew:                           1.772   Prob(JB):                    1.12e-178\n",
      "Kurtosis:                       7.984   Cond. No.                         63.2\n",
      "==============================================================================\n",
      "\n",
      "Notes:\n",
      "[1] Standard Errors assume that the covariance matrix of the errors is correctly specified.                             OLS Regression Results                            \n",
      "==============================================================================\n",
      "Dep. Variable:                   wage   R-squared:                       0.339\n",
      "Model:                            OLS   Adj. R-squared:                  0.335\n",
      "Method:                 Least Squares   F-statistic:                     89.34\n",
      "Date:                Wed, 20 Sep 2023   Prob (F-statistic):           1.14e-46\n",
      "Time:                        11:26:05   Log-Likelihood:                -1324.1\n",
      "No. Observations:                 526   AIC:                             2656.\n",
      "Df Residuals:                     522   BIC:                             2673.\n",
      "Df Model:                           3                                         \n",
      "Covariance Type:            nonrobust                                         \n",
      "=================================================================================\n",
      "                    coef    std err          t      P>|t|      [0.025      0.975]\n",
      "---------------------------------------------------------------------------------\n",
      "Intercept        -2.8942      0.774     -3.741      0.000      -4.414      -1.374\n",
      "female           -2.1257      0.264     -8.041      0.000      -2.645      -1.606\n",
      "educ              0.5888      0.049     12.083      0.000       0.493       0.685\n",
      "np.log(exper)     1.0072      0.126      7.972      0.000       0.759       1.255\n",
      "==============================================================================\n",
      "Omnibus:                      198.075   Durbin-Watson:                   1.807\n",
      "Prob(Omnibus):                  0.000   Jarque-Bera (JB):              791.498\n",
      "Skew:                           1.691   Prob(JB):                    1.34e-172\n",
      "Kurtosis:                       7.967   Cond. No.                         78.1\n",
      "==============================================================================\n",
      "\n",
      "Notes:\n",
      "[1] Standard Errors assume that the covariance matrix of the errors is correctly specified.\n"
     ]
    }
   ],
   "source": [
    "print(result1.summary(),\n",
    "result2.summary(),\n",
    "result3.summary(),\n",
    "result4.summary())"
   ]
  },
  {
   "cell_type": "code",
   "execution_count": 7,
   "metadata": {
    "slideshow": {
     "slide_type": "slide"
    }
   },
   "outputs": [],
   "source": [
    "# interactions\n",
    "model5 = smf.ols(\"wage ~ female + educ + female*educ + np.log(exper)\", data=data)\n",
    "result5 = model5.fit()\n",
    "\n",
    "# dummy variables\n",
    "model6 = smf.ols(\n",
    "    \"wage ~ female + educ + female*educ + np.log(exper) + C(area)\", \n",
    "    data=data\n",
    ")\n",
    "result6 = model6.fit()\n",
    "\n",
    "# regression without an intercept\n",
    "model7 = smf.ols(\n",
    "    \"wage ~ female + educ + female*educ + np.log(exper) + C(area) - 1\", \n",
    "    data=data\n",
    ")\n",
    "result7 = model7.fit(cov_type=\"HC3\")"
   ]
  },
  {
   "cell_type": "code",
   "execution_count": 8,
   "metadata": {},
   "outputs": [
    {
     "name": "stdout",
     "output_type": "stream",
     "text": [
      "                            OLS Regression Results                            \n",
      "==============================================================================\n",
      "Dep. Variable:                   wage   R-squared:                       0.341\n",
      "Model:                            OLS   Adj. R-squared:                  0.336\n",
      "Method:                 Least Squares   F-statistic:                     67.37\n",
      "Date:                Wed, 20 Sep 2023   Prob (F-statistic):           6.15e-46\n",
      "Time:                        11:26:05   Log-Likelihood:                -1323.4\n",
      "No. Observations:                 526   AIC:                             2657.\n",
      "Df Residuals:                     521   BIC:                             2678.\n",
      "Df Model:                           4                                         \n",
      "Covariance Type:            nonrobust                                         \n",
      "=================================================================================\n",
      "                    coef    std err          t      P>|t|      [0.025      0.975]\n",
      "---------------------------------------------------------------------------------\n",
      "Intercept        -3.4584      0.919     -3.765      0.000      -5.263      -1.654\n",
      "female           -0.7307      1.253     -0.583      0.560      -3.192       1.731\n",
      "educ              0.6320      0.062     10.235      0.000       0.511       0.753\n",
      "female:educ      -0.1116      0.098     -1.139      0.255      -0.304       0.081\n",
      "np.log(exper)     1.0119      0.126      8.007      0.000       0.764       1.260\n",
      "==============================================================================\n",
      "Omnibus:                      198.968   Durbin-Watson:                   1.803\n",
      "Prob(Omnibus):                  0.000   Jarque-Bera (JB):              811.745\n",
      "Skew:                           1.691   Prob(JB):                    5.39e-177\n",
      "Kurtosis:                       8.060   Cond. No.                         157.\n",
      "==============================================================================\n",
      "\n",
      "Notes:\n",
      "[1] Standard Errors assume that the covariance matrix of the errors is correctly specified.                             OLS Regression Results                            \n",
      "==============================================================================\n",
      "Dep. Variable:                   wage   R-squared:                       0.358\n",
      "Model:                            OLS   Adj. R-squared:                  0.349\n",
      "Method:                 Least Squares   F-statistic:                     41.23\n",
      "Date:                Wed, 20 Sep 2023   Prob (F-statistic):           3.95e-46\n",
      "Time:                        11:26:05   Log-Likelihood:                -1316.6\n",
      "No. Observations:                 526   AIC:                             2649.\n",
      "Df Residuals:                     518   BIC:                             2683.\n",
      "Df Model:                           7                                         \n",
      "Covariance Type:            nonrobust                                         \n",
      "========================================================================================\n",
      "                           coef    std err          t      P>|t|      [0.025      0.975]\n",
      "----------------------------------------------------------------------------------------\n",
      "Intercept               -3.5264      0.947     -3.722      0.000      -5.388      -1.665\n",
      "C(area)[T.northeast]     0.6857      0.378      1.815      0.070      -0.056       1.428\n",
      "C(area)[T.south]        -0.1741      0.341     -0.510      0.610      -0.844       0.496\n",
      "C(area)[T.west]          1.0597      0.409      2.590      0.010       0.256       1.864\n",
      "female                  -1.0088      1.243     -0.812      0.417      -3.451       1.433\n",
      "educ                     0.6141      0.061      9.986      0.000       0.493       0.735\n",
      "female:educ             -0.0930      0.097     -0.957      0.339      -0.284       0.098\n",
      "np.log(exper)            1.0309      0.125      8.219      0.000       0.784       1.277\n",
      "==============================================================================\n",
      "Omnibus:                      194.999   Durbin-Watson:                   1.849\n",
      "Prob(Omnibus):                  0.000   Jarque-Bera (JB):              777.249\n",
      "Skew:                           1.662   Prob(JB):                    1.67e-169\n",
      "Kurtosis:                       7.941   Cond. No.                         158.\n",
      "==============================================================================\n",
      "\n",
      "Notes:\n",
      "[1] Standard Errors assume that the covariance matrix of the errors is correctly specified.                             OLS Regression Results                            \n",
      "==============================================================================\n",
      "Dep. Variable:                   wage   R-squared:                       0.358\n",
      "Model:                            OLS   Adj. R-squared:                  0.349\n",
      "Method:                 Least Squares   F-statistic:                       nan\n",
      "Date:                Wed, 20 Sep 2023   Prob (F-statistic):                nan\n",
      "Time:                        11:26:05   Log-Likelihood:                -1316.6\n",
      "No. Observations:                 526   AIC:                             2649.\n",
      "Df Residuals:                     518   BIC:                             2683.\n",
      "Df Model:                           7                                         \n",
      "Covariance Type:                  HC3                                         \n",
      "======================================================================================\n",
      "                         coef    std err          z      P>|z|      [0.025      0.975]\n",
      "--------------------------------------------------------------------------------------\n",
      "C(area)[northcen]     -3.5264      1.032     -3.416      0.001      -5.550      -1.503\n",
      "C(area)[northeast]    -2.8408      0.949     -2.995      0.003      -4.700      -0.981\n",
      "C(area)[south]        -3.7005      0.982     -3.769      0.000      -5.625      -1.776\n",
      "C(area)[west]         -2.4667      1.021     -2.416      0.016      -4.468      -0.466\n",
      "female                -1.0088      1.442     -0.700      0.484      -3.835       1.818\n",
      "educ                   0.6141      0.070      8.772      0.000       0.477       0.751\n",
      "female:educ           -0.0930      0.122     -0.765      0.444      -0.331       0.145\n",
      "np.log(exper)          1.0309      0.118      8.715      0.000       0.799       1.263\n",
      "==============================================================================\n",
      "Omnibus:                      194.999   Durbin-Watson:                   1.849\n",
      "Prob(Omnibus):                  0.000   Jarque-Bera (JB):              777.249\n",
      "Skew:                           1.662   Prob(JB):                    1.67e-169\n",
      "Kurtosis:                       7.941   Cond. No.                         227.\n",
      "==============================================================================\n",
      "\n",
      "Notes:\n",
      "[1] Standard Errors are heteroscedasticity robust (HC3)\n"
     ]
    }
   ],
   "source": [
    "print(result5.summary(),\n",
    "result6.summary(),\n",
    "    result7.summary()\n",
    ")"
   ]
  },
  {
   "cell_type": "markdown",
   "metadata": {
    "slideshow": {
     "slide_type": "slide"
    }
   },
   "source": [
    "## Regressions with linearmodels\n",
    "\n",
    "The linearmodels package was created by Kevin Sheppard.  Many of the following examples come from the linearmodels user guide https://bashtage.github.io/linearmodels/."
   ]
  },
  {
   "cell_type": "markdown",
   "metadata": {
    "slideshow": {
     "slide_type": "slide"
    }
   },
   "source": [
    "### Two Stage Least Squares"
   ]
  },
  {
   "cell_type": "code",
   "execution_count": 9,
   "metadata": {
    "slideshow": {
     "slide_type": "slide"
    }
   },
   "outputs": [],
   "source": [
    "# use result.summary \n",
    "\n",
    "from linearmodels.datasets import wage\n",
    "\n",
    "data = wage.load()\n",
    "data = data.dropna(subset=[\"educ\", \"wage\", \"sibs\", \"exper\"])\n",
    "\n",
    "model1 = IV2SLS.from_formula(\"np.log(wage) ~ exper + [educ ~ sibs]\", data=data)\n",
    "result1 = model1.fit(cov_type=\"robust\")\n"
   ]
  },
  {
   "cell_type": "markdown",
   "metadata": {
    "slideshow": {
     "slide_type": "slide"
    }
   },
   "source": [
    "### Seemingly Unrelated Regressions"
   ]
  },
  {
   "cell_type": "code",
   "execution_count": 10,
   "metadata": {
    "slideshow": {
     "slide_type": "slide"
    }
   },
   "outputs": [],
   "source": [
    "from linearmodels.datasets import fringe\n",
    "data = fringe.load()\n",
    "\n",
    "formula = \"\"\" \n",
    "    {hrbens ~ educ + exper + union + south + nrtheast + nrthcen + male}\n",
    "    {hrearn ~ educ + exper + nrtheast + married + male}\n",
    "    \"\"\"\n",
    "model2 = SUR.from_formula(formula, data=data)\n",
    "result2 = model2.fit(cov_type=\"robust\")"
   ]
  },
  {
   "cell_type": "markdown",
   "metadata": {
    "slideshow": {
     "slide_type": "slide"
    }
   },
   "source": [
    "### Panel Regressions with Fixed Effects and Clustered Standard Errors\n",
    "\n",
    "To use the formula version of linearmodels with fixed effects, create a multi-index for the dataframe with the outside (first) index being \"entity\" and the inside (second) index being \"time.\"  For other fixed effects, use the basic (non-formula) version of linearmodels."
   ]
  },
  {
   "cell_type": "code",
   "execution_count": 11,
   "metadata": {
    "slideshow": {
     "slide_type": "slide"
    }
   },
   "outputs": [],
   "source": [
    "from linearmodels.datasets import wage_panel\n",
    "data = wage_panel.load()\n",
    "data = data.set_index([\"nr\", \"year\"])"
   ]
  },
  {
   "cell_type": "code",
   "execution_count": 12,
   "metadata": {
    "slideshow": {
     "slide_type": "slide"
    }
   },
   "outputs": [],
   "source": [
    "# entity fixed effects\n",
    "model3 = PanelOLS.from_formula(\n",
    "    \"lwage ~ exper + EntityEffects\",\n",
    "    data=data,\n",
    ")\n",
    "result3 = model3.fit(cov_type=\"clustered\", cluster_entity=True)\n",
    "\n",
    "# time fixed effects\n",
    "model4 = PanelOLS.from_formula(\n",
    "    \"lwage ~ exper + married + black + TimeEffects\",\n",
    "    data=data,\n",
    ")\n",
    "result4 = model4.fit(cov_type=\"clustered\", cluster_time=True)\n",
    "\n",
    "# time and entity fixed effects\n",
    "model5 = PanelOLS.from_formula(\n",
    "    \"lwage ~ exper + EntityEffects + TimeEffects\",\n",
    "    data=data,\n",
    ")\n",
    "result5 = model5.fit(cov_type=\"clustered\", cluster_entity=True, cluster_time=True)"
   ]
  },
  {
   "cell_type": "markdown",
   "metadata": {
    "slideshow": {
     "slide_type": "slide"
    }
   },
   "source": [
    "### Fama-MacBeth\n",
    "\n",
    "Run cross-sectional regressions and then use $t$ tests for the means of the time series of cross-sectional coefficients."
   ]
  },
  {
   "cell_type": "code",
   "execution_count": 13,
   "metadata": {
    "slideshow": {
     "slide_type": "slide"
    }
   },
   "outputs": [],
   "source": [
    "# A small data set with acc=accruals and agr=asset growth, \n",
    "# monthly data since 2010, roughly 2,000 stocks per month.\n",
    "\n",
    "data = pd.read_csv(\"https://www.dropbox.com/s/012c6y4gxsxss6y/ghz.csv?dl=1\", parse_dates=[\"date\"])\n",
    "data = data.sort_values(by=['permno', 'date'])\n",
    "data = data.set_index([\"permno\", \"date\"])"
   ]
  },
  {
   "cell_type": "code",
   "execution_count": 14,
   "metadata": {
    "slideshow": {
     "slide_type": "slide"
    }
   },
   "outputs": [],
   "source": [
    "# winsorize and standardize cross sections\n",
    "\n",
    "data.agr = np.log(1+data.agr)\n",
    "\n",
    "def winsorize(ser):\n",
    "    return ser.clip(lower=ser.quantile(0.01), upper=ser.quantile(0.99))\n",
    "\n",
    "for char in [\"acc\", \"agr\"]:\n",
    "    data[char] = data.groupby(\"date\",group_keys=False)[char].apply(winsorize)\n",
    "\n",
    "    data[char] = data.groupby(\"date\",group_keys=False)[char].apply(lambda x: x / x.std())\n",
    "\n"
   ]
  },
  {
   "cell_type": "code",
   "execution_count": 15,
   "metadata": {
    "slideshow": {
     "slide_type": "slide"
    }
   },
   "outputs": [],
   "source": [
    "# run Fama-MacBeth\n",
    "\n",
    "model6 = FamaMacBeth.from_formula(\"ret ~ acc + agr + 1\", data=data)\n",
    "result6 = model6.fit(cov_type=\"kernel\", kernel=\"bartlett\", bandwidth=12)"
   ]
  },
  {
   "cell_type": "code",
   "execution_count": 16,
   "metadata": {},
   "outputs": [
    {
     "data": {
      "text/html": [
       "<table class=\"simpletable\">\n",
       "<caption>FamaMacBeth Estimation Summary</caption>\n",
       "<tr>\n",
       "  <th>Dep. Variable:</th>              <td>ret</td>           <th>  R-squared:         </th>    <td>3.855e-05</td> \n",
       "</tr>\n",
       "<tr>\n",
       "  <th>Estimator:</th>              <td>FamaMacBeth</td>       <th>  R-squared (Between):</th>    <td>-0.0175</td>  \n",
       "</tr>\n",
       "<tr>\n",
       "  <th>No. Observations:</th>         <td>282598</td>          <th>  R-squared (Within):</th>     <td>0.0001</td>   \n",
       "</tr>\n",
       "<tr>\n",
       "  <th>Date:</th>                <td>Wed, Sep 20 2023</td>     <th>  R-squared (Overall):</th>   <td>3.855e-05</td> \n",
       "</tr>\n",
       "<tr>\n",
       "  <th>Time:</th>                    <td>11:26:08</td>         <th>  Log-likelihood     </th>    <td>1.937e+05</td> \n",
       "</tr>\n",
       "<tr>\n",
       "  <th>Cov. Estimator:</th>   <td>Fama-MacBeth Kernel Cov</td> <th>                     </th>        <td></td>      \n",
       "</tr>\n",
       "<tr>\n",
       "  <th></th>                             <td></td>             <th>  F-statistic:       </th>     <td>5.4468</td>   \n",
       "</tr>\n",
       "<tr>\n",
       "  <th>Entities:</th>                  <td>3669</td>           <th>  P-value            </th>     <td>0.0043</td>   \n",
       "</tr>\n",
       "<tr>\n",
       "  <th>Avg Obs:</th>                  <td>77.023</td>          <th>  Distribution:      </th>   <td>F(2,282595)</td>\n",
       "</tr>\n",
       "<tr>\n",
       "  <th>Min Obs:</th>                  <td>1.0000</td>          <th>                     </th>        <td></td>      \n",
       "</tr>\n",
       "<tr>\n",
       "  <th>Max Obs:</th>                  <td>144.00</td>          <th>  F-statistic (robust):</th>   <td>0.8459</td>   \n",
       "</tr>\n",
       "<tr>\n",
       "  <th></th>                             <td></td>             <th>  P-value            </th>     <td>0.4292</td>   \n",
       "</tr>\n",
       "<tr>\n",
       "  <th>Time periods:</th>               <td>144</td>           <th>  Distribution:      </th>   <td>F(2,282595)</td>\n",
       "</tr>\n",
       "<tr>\n",
       "  <th>Avg Obs:</th>                  <td>1962.5</td>          <th>                     </th>        <td></td>      \n",
       "</tr>\n",
       "<tr>\n",
       "  <th>Min Obs:</th>                  <td>1885.0</td>          <th>                     </th>        <td></td>      \n",
       "</tr>\n",
       "<tr>\n",
       "  <th>Max Obs:</th>                  <td>2000.0</td>          <th>                     </th>        <td></td>      \n",
       "</tr>\n",
       "<tr>\n",
       "  <th></th>                             <td></td>             <th>                     </th>        <td></td>      \n",
       "</tr>\n",
       "</table>\n",
       "<table class=\"simpletable\">\n",
       "<caption>Parameter Estimates</caption>\n",
       "<tr>\n",
       "      <td></td>      <th>Parameter</th> <th>Std. Err.</th> <th>T-stat</th>  <th>P-value</th> <th>Lower CI</th> <th>Upper CI</th>\n",
       "</tr>\n",
       "<tr>\n",
       "  <th>acc</th>        <td>0.0002</td>    <td>0.0008</td>   <td>0.2365</td>  <td>0.8131</td>   <td>-0.0013</td>  <td>0.0017</td> \n",
       "</tr>\n",
       "<tr>\n",
       "  <th>agr</th>        <td>-0.0008</td>   <td>0.0006</td>   <td>-1.3001</td> <td>0.1936</td>   <td>-0.0019</td>  <td>0.0004</td> \n",
       "</tr>\n",
       "<tr>\n",
       "  <th>Intercept</th>  <td>0.0134</td>    <td>0.0036</td>   <td>3.7522</td>  <td>0.0002</td>   <td>0.0064</td>   <td>0.0203</td> \n",
       "</tr>\n",
       "</table>"
      ],
      "text/latex": [
       "\\begin{center}\n",
       "\\begin{tabular}{lclc}\n",
       "\\toprule\n",
       "\\textbf{Dep. Variable:}    &           ret           & \\textbf{  R-squared:         }   &    3.855e-05     \\\\\n",
       "\\textbf{Estimator:}        &       FamaMacBeth       & \\textbf{  R-squared (Between):}  &     -0.0175      \\\\\n",
       "\\textbf{No. Observations:} &          282598         & \\textbf{  R-squared (Within):}   &      0.0001      \\\\\n",
       "\\textbf{Date:}             &     Wed, Sep 20 2023    & \\textbf{  R-squared (Overall):}  &    3.855e-05     \\\\\n",
       "\\textbf{Time:}             &         11:26:08        & \\textbf{  Log-likelihood     }   &    1.937e+05     \\\\\n",
       "\\textbf{Cov. Estimator:}   & Fama-MacBeth Kernel Cov & \\textbf{                     }   &                  \\\\\n",
       "\\textbf{}                  &                         & \\textbf{  F-statistic:       }   &      5.4468      \\\\\n",
       "\\textbf{Entities:}         &           3669          & \\textbf{  P-value            }   &      0.0043      \\\\\n",
       "\\textbf{Avg Obs:}          &          77.023         & \\textbf{  Distribution:      }   &   F(2,282595)    \\\\\n",
       "\\textbf{Min Obs:}          &          1.0000         & \\textbf{                     }   &                  \\\\\n",
       "\\textbf{Max Obs:}          &          144.00         & \\textbf{  F-statistic (robust):} &      0.8459      \\\\\n",
       "\\textbf{}                  &                         & \\textbf{  P-value            }   &      0.4292      \\\\\n",
       "\\textbf{Time periods:}     &           144           & \\textbf{  Distribution:      }   &   F(2,282595)    \\\\\n",
       "\\textbf{Avg Obs:}          &          1962.5         & \\textbf{                     }   &                  \\\\\n",
       "\\textbf{Min Obs:}          &          1885.0         & \\textbf{                     }   &                  \\\\\n",
       "\\textbf{Max Obs:}          &          2000.0         & \\textbf{                     }   &                  \\\\\n",
       "\\textbf{}                  &                         & \\textbf{                     }   &                  \\\\\n",
       "\\bottomrule\n",
       "\\end{tabular}\n",
       "\\begin{tabular}{lcccccc}\n",
       "                   & \\textbf{Parameter} & \\textbf{Std. Err.} & \\textbf{T-stat} & \\textbf{P-value} & \\textbf{Lower CI} & \\textbf{Upper CI}  \\\\\n",
       "\\midrule\n",
       "\\textbf{acc}       &       0.0002       &       0.0008       &      0.2365     &      0.8131      &      -0.0013      &       0.0017       \\\\\n",
       "\\textbf{agr}       &      -0.0008       &       0.0006       &     -1.3001     &      0.1936      &      -0.0019      &       0.0004       \\\\\n",
       "\\textbf{Intercept} &       0.0134       &       0.0036       &      3.7522     &      0.0002      &       0.0064      &       0.0203       \\\\\n",
       "\\bottomrule\n",
       "\\end{tabular}\n",
       "%\\caption{FamaMacBeth Estimation Summary}\n",
       "\\end{center}"
      ],
      "text/plain": [
       "<class 'linearmodels.compat.statsmodels.Summary'>\n",
       "\"\"\"\n",
       "                            FamaMacBeth Estimation Summary                           \n",
       "=====================================================================================\n",
       "Dep. Variable:                         ret   R-squared:                     3.855e-05\n",
       "Estimator:                     FamaMacBeth   R-squared (Between):             -0.0175\n",
       "No. Observations:                   282598   R-squared (Within):               0.0001\n",
       "Date:                     Wed, Sep 20 2023   R-squared (Overall):           3.855e-05\n",
       "Time:                             11:26:08   Log-likelihood                 1.937e+05\n",
       "Cov. Estimator:    Fama-MacBeth Kernel Cov                                           \n",
       "                                             F-statistic:                      5.4468\n",
       "Entities:                             3669   P-value                           0.0043\n",
       "Avg Obs:                            77.023   Distribution:                F(2,282595)\n",
       "Min Obs:                            1.0000                                           \n",
       "Max Obs:                            144.00   F-statistic (robust):             0.8459\n",
       "                                             P-value                           0.4292\n",
       "Time periods:                          144   Distribution:                F(2,282595)\n",
       "Avg Obs:                            1962.5                                           \n",
       "Min Obs:                            1885.0                                           \n",
       "Max Obs:                            2000.0                                           \n",
       "                                                                                     \n",
       "                             Parameter Estimates                              \n",
       "==============================================================================\n",
       "            Parameter  Std. Err.     T-stat    P-value    Lower CI    Upper CI\n",
       "------------------------------------------------------------------------------\n",
       "acc            0.0002     0.0008     0.2365     0.8131     -0.0013      0.0017\n",
       "agr           -0.0008     0.0006    -1.3001     0.1936     -0.0019      0.0004\n",
       "Intercept      0.0134     0.0036     3.7522     0.0002      0.0064      0.0203\n",
       "==============================================================================\n",
       "\"\"\""
      ]
     },
     "execution_count": 16,
     "metadata": {},
     "output_type": "execute_result"
    }
   ],
   "source": [
    "result6.summary"
   ]
  },
  {
   "cell_type": "code",
   "execution_count": 17,
   "metadata": {
    "slideshow": {
     "slide_type": "slide"
    }
   },
   "outputs": [],
   "source": [
    "# Fama-MacBeth \"by hand\" \n",
    "\n",
    "# cross-sectional regression function\n",
    "def xreg(df):\n",
    "    model = smf.ols(\"ret ~ acc + agr\", data=df)\n",
    "    result = model.fit()\n",
    "    return result.params\n",
    "\n",
    "# apply to each cross-section to get time series of coefficients\n",
    "fm = data.groupby('date').apply(xreg)\n",
    "\n",
    "# run t-tests by OLS to get Newey-West standard errors\n",
    "model7a = smf.ols(\"acc ~ 1\", data=fm)\n",
    "result7a = model7a.fit(cov_type='HAC', cov_kwds={\"kernel\": \"bartlett\", \"maxlags\": 12})\n",
    "\n",
    "model7b = smf.ols(\"agr ~ 1\", data=fm)\n",
    "result7b = model7b.fit(cov_type='HAC', cov_kwds={\"kernel\": \"bartlett\", \"maxlags\": 12})"
   ]
  },
  {
   "cell_type": "markdown",
   "metadata": {
    "slideshow": {
     "slide_type": "slide"
    }
   },
   "source": [
    "## Rolling Window Betas\n",
    "\n",
    "For Fama-MacBeth, we run cross-sectional regressions at each date.  For this exercise, we will run time-series regressions for each entity (stock).  We'll run the time-series regressions over rolling windows. \n",
    "\n",
    "The time series regressions are for stock returns on Fama-French factors.  It is common to use 60 months as the window but to include all stock/months for which 24 past months were available in the prior 60 months.  We do that with window=60, min_nobs=24, and expanding=True.\n",
    "\n",
    "The RollingOLS function crashes if you specify a window size that is larger than the number of rows in the data frame.  So, we construct a function to \"pass\" if the number of rows is less than 24 and specify the window size as the smaller of 60 and the number of rows."
   ]
  },
  {
   "cell_type": "code",
   "execution_count": 18,
   "metadata": {
    "slideshow": {
     "slide_type": "slide"
    }
   },
   "outputs": [
    {
     "name": "stderr",
     "output_type": "stream",
     "text": [
      "C:\\Users\\rra3\\AppData\\Local\\Temp\\ipykernel_17144\\2429077064.py:1: FutureWarning: The argument 'date_parser' is deprecated and will be removed in a future version. Please use 'date_format' instead, or read your data in as 'object' dtype and then call 'to_datetime'.\n",
      "  ff = pdr.DataReader(\"F-F_Research_Data_Factors\", \"famafrench\", start=2000)[0] / 100\n",
      "C:\\Users\\rra3\\AppData\\Local\\Temp\\ipykernel_17144\\2429077064.py:1: FutureWarning: The argument 'date_parser' is deprecated and will be removed in a future version. Please use 'date_format' instead, or read your data in as 'object' dtype and then call 'to_datetime'.\n",
      "  ff = pdr.DataReader(\"F-F_Research_Data_Factors\", \"famafrench\", start=2000)[0] / 100\n"
     ]
    }
   ],
   "source": [
    "ff = pdr.DataReader(\"F-F_Research_Data_Factors\", \"famafrench\", start=2000)[0] / 100\n",
    "ff.index = ff.index.to_timestamp()\n",
    "data = data.merge(ff, left_on='date', right_index=True) \n",
    "data = data.rename(columns={\"Mkt-RF\": \"Mkt_RF\"})\n",
    "data[\"ret_RF\"] = data.ret - data.RF\n",
    "data = data.dropna(subset=[\"ret_RF\", \"Mkt_RF\", \"SMB\", \"HML\"])"
   ]
  },
  {
   "cell_type": "code",
   "execution_count": 19,
   "metadata": {},
   "outputs": [
    {
     "data": {
      "text/html": [
       "<div>\n",
       "<style scoped>\n",
       "    .dataframe tbody tr th:only-of-type {\n",
       "        vertical-align: middle;\n",
       "    }\n",
       "\n",
       "    .dataframe tbody tr th {\n",
       "        vertical-align: top;\n",
       "    }\n",
       "\n",
       "    .dataframe thead th {\n",
       "        text-align: right;\n",
       "    }\n",
       "</style>\n",
       "<table border=\"1\" class=\"dataframe\">\n",
       "  <thead>\n",
       "    <tr style=\"text-align: right;\">\n",
       "      <th></th>\n",
       "      <th></th>\n",
       "      <th>ret</th>\n",
       "      <th>acc</th>\n",
       "      <th>agr</th>\n",
       "      <th>Mkt_RF</th>\n",
       "      <th>SMB</th>\n",
       "      <th>HML</th>\n",
       "      <th>RF</th>\n",
       "      <th>ret_RF</th>\n",
       "    </tr>\n",
       "    <tr>\n",
       "      <th>permno</th>\n",
       "      <th>date</th>\n",
       "      <th></th>\n",
       "      <th></th>\n",
       "      <th></th>\n",
       "      <th></th>\n",
       "      <th></th>\n",
       "      <th></th>\n",
       "      <th></th>\n",
       "      <th></th>\n",
       "    </tr>\n",
       "  </thead>\n",
       "  <tbody>\n",
       "    <tr>\n",
       "      <th>10025.0</th>\n",
       "      <th>2012-10-01</th>\n",
       "      <td>0.055125</td>\n",
       "      <td>-0.447944</td>\n",
       "      <td>0.863546</td>\n",
       "      <td>-0.0176</td>\n",
       "      <td>-0.0115</td>\n",
       "      <td>0.0359</td>\n",
       "      <td>0.0001</td>\n",
       "      <td>0.055025</td>\n",
       "    </tr>\n",
       "    <tr>\n",
       "      <th>10026.0</th>\n",
       "      <th>2012-10-01</th>\n",
       "      <td>-0.001047</td>\n",
       "      <td>-0.758189</td>\n",
       "      <td>0.658168</td>\n",
       "      <td>-0.0176</td>\n",
       "      <td>-0.0115</td>\n",
       "      <td>0.0359</td>\n",
       "      <td>0.0001</td>\n",
       "      <td>-0.001147</td>\n",
       "    </tr>\n",
       "    <tr>\n",
       "      <th>10032.0</th>\n",
       "      <th>2012-10-01</th>\n",
       "      <td>-0.111588</td>\n",
       "      <td>-0.862389</td>\n",
       "      <td>0.055487</td>\n",
       "      <td>-0.0176</td>\n",
       "      <td>-0.0115</td>\n",
       "      <td>0.0359</td>\n",
       "      <td>0.0001</td>\n",
       "      <td>-0.111688</td>\n",
       "    </tr>\n",
       "    <tr>\n",
       "      <th>10051.0</th>\n",
       "      <th>2012-10-01</th>\n",
       "      <td>-0.111462</td>\n",
       "      <td>-0.095727</td>\n",
       "      <td>0.311587</td>\n",
       "      <td>-0.0176</td>\n",
       "      <td>-0.0115</td>\n",
       "      <td>0.0359</td>\n",
       "      <td>0.0001</td>\n",
       "      <td>-0.111562</td>\n",
       "    </tr>\n",
       "    <tr>\n",
       "      <th>10104.0</th>\n",
       "      <th>2012-10-01</th>\n",
       "      <td>-0.010172</td>\n",
       "      <td>-0.609888</td>\n",
       "      <td>0.903100</td>\n",
       "      <td>-0.0176</td>\n",
       "      <td>-0.0115</td>\n",
       "      <td>0.0359</td>\n",
       "      <td>0.0001</td>\n",
       "      <td>-0.010272</td>\n",
       "    </tr>\n",
       "    <tr>\n",
       "      <th>...</th>\n",
       "      <th>...</th>\n",
       "      <td>...</td>\n",
       "      <td>...</td>\n",
       "      <td>...</td>\n",
       "      <td>...</td>\n",
       "      <td>...</td>\n",
       "      <td>...</td>\n",
       "      <td>...</td>\n",
       "      <td>...</td>\n",
       "    </tr>\n",
       "    <tr>\n",
       "      <th>93374.0</th>\n",
       "      <th>2021-12-01</th>\n",
       "      <td>0.061472</td>\n",
       "      <td>-0.382007</td>\n",
       "      <td>0.435100</td>\n",
       "      <td>0.0310</td>\n",
       "      <td>-0.0167</td>\n",
       "      <td>0.0326</td>\n",
       "      <td>0.0001</td>\n",
       "      <td>0.061372</td>\n",
       "    </tr>\n",
       "    <tr>\n",
       "      <th>93397.0</th>\n",
       "      <th>2021-12-01</th>\n",
       "      <td>0.031122</td>\n",
       "      <td>-0.155105</td>\n",
       "      <td>-0.107664</td>\n",
       "      <td>0.0310</td>\n",
       "      <td>-0.0167</td>\n",
       "      <td>0.0326</td>\n",
       "      <td>0.0001</td>\n",
       "      <td>0.031022</td>\n",
       "    </tr>\n",
       "    <tr>\n",
       "      <th>93423.0</th>\n",
       "      <th>2021-12-01</th>\n",
       "      <td>0.164342</td>\n",
       "      <td>-0.983631</td>\n",
       "      <td>-0.160819</td>\n",
       "      <td>0.0310</td>\n",
       "      <td>-0.0167</td>\n",
       "      <td>0.0326</td>\n",
       "      <td>0.0001</td>\n",
       "      <td>0.164242</td>\n",
       "    </tr>\n",
       "    <tr>\n",
       "      <th>93426.0</th>\n",
       "      <th>2021-12-01</th>\n",
       "      <td>0.081270</td>\n",
       "      <td>-0.759802</td>\n",
       "      <td>0.337554</td>\n",
       "      <td>0.0310</td>\n",
       "      <td>-0.0167</td>\n",
       "      <td>0.0326</td>\n",
       "      <td>0.0001</td>\n",
       "      <td>0.081170</td>\n",
       "    </tr>\n",
       "    <tr>\n",
       "      <th>93436.0</th>\n",
       "      <th>2021-12-01</th>\n",
       "      <td>-0.076855</td>\n",
       "      <td>-1.445094</td>\n",
       "      <td>1.732952</td>\n",
       "      <td>0.0310</td>\n",
       "      <td>-0.0167</td>\n",
       "      <td>0.0326</td>\n",
       "      <td>0.0001</td>\n",
       "      <td>-0.076955</td>\n",
       "    </tr>\n",
       "  </tbody>\n",
       "</table>\n",
       "<p>282598 rows × 8 columns</p>\n",
       "</div>"
      ],
      "text/plain": [
       "                         ret       acc       agr  Mkt_RF     SMB     HML  \\\n",
       "permno  date                                                               \n",
       "10025.0 2012-10-01  0.055125 -0.447944  0.863546 -0.0176 -0.0115  0.0359   \n",
       "10026.0 2012-10-01 -0.001047 -0.758189  0.658168 -0.0176 -0.0115  0.0359   \n",
       "10032.0 2012-10-01 -0.111588 -0.862389  0.055487 -0.0176 -0.0115  0.0359   \n",
       "10051.0 2012-10-01 -0.111462 -0.095727  0.311587 -0.0176 -0.0115  0.0359   \n",
       "10104.0 2012-10-01 -0.010172 -0.609888  0.903100 -0.0176 -0.0115  0.0359   \n",
       "...                      ...       ...       ...     ...     ...     ...   \n",
       "93374.0 2021-12-01  0.061472 -0.382007  0.435100  0.0310 -0.0167  0.0326   \n",
       "93397.0 2021-12-01  0.031122 -0.155105 -0.107664  0.0310 -0.0167  0.0326   \n",
       "93423.0 2021-12-01  0.164342 -0.983631 -0.160819  0.0310 -0.0167  0.0326   \n",
       "93426.0 2021-12-01  0.081270 -0.759802  0.337554  0.0310 -0.0167  0.0326   \n",
       "93436.0 2021-12-01 -0.076855 -1.445094  1.732952  0.0310 -0.0167  0.0326   \n",
       "\n",
       "                        RF    ret_RF  \n",
       "permno  date                          \n",
       "10025.0 2012-10-01  0.0001  0.055025  \n",
       "10026.0 2012-10-01  0.0001 -0.001147  \n",
       "10032.0 2012-10-01  0.0001 -0.111688  \n",
       "10051.0 2012-10-01  0.0001 -0.111562  \n",
       "10104.0 2012-10-01  0.0001 -0.010272  \n",
       "...                    ...       ...  \n",
       "93374.0 2021-12-01  0.0001  0.061372  \n",
       "93397.0 2021-12-01  0.0001  0.031022  \n",
       "93423.0 2021-12-01  0.0001  0.164242  \n",
       "93426.0 2021-12-01  0.0001  0.081170  \n",
       "93436.0 2021-12-01  0.0001 -0.076955  \n",
       "\n",
       "[282598 rows x 8 columns]"
      ]
     },
     "execution_count": 19,
     "metadata": {},
     "output_type": "execute_result"
    }
   ],
   "source": [
    "data"
   ]
  },
  {
   "cell_type": "code",
   "execution_count": 20,
   "metadata": {
    "slideshow": {
     "slide_type": "slide"
    }
   },
   "outputs": [],
   "source": [
    "def rolling_betas(df):\n",
    "    n = df.shape[0]\n",
    "    if n >= 24:\n",
    "        data = df.set_index(\"date\") \n",
    "        model = RollingOLS.from_formula(\n",
    "            \"ret_RF ~ Mkt_RF + SMB + HML\",\n",
    "            window=min(n, 60),\n",
    "            min_nobs=24,\n",
    "            expanding=True,\n",
    "            data=data\n",
    "        )\n",
    "        result = model.fit()\n",
    "        return result.params[['Mkt_RF', 'SMB', 'HML']].dropna()\n",
    "    else:\n",
    "        pass\n",
    "    \n",
    "betas = data.reset_index().groupby(\"permno\").apply(rolling_betas)"
   ]
  },
  {
   "cell_type": "code",
   "execution_count": null,
   "metadata": {},
   "outputs": [],
   "source": []
  },
  {
   "cell_type": "code",
   "execution_count": 21,
   "metadata": {},
   "outputs": [
    {
     "data": {
      "text/html": [
       "<div>\n",
       "<style scoped>\n",
       "    .dataframe tbody tr th:only-of-type {\n",
       "        vertical-align: middle;\n",
       "    }\n",
       "\n",
       "    .dataframe tbody tr th {\n",
       "        vertical-align: top;\n",
       "    }\n",
       "\n",
       "    .dataframe thead th {\n",
       "        text-align: right;\n",
       "    }\n",
       "</style>\n",
       "<table border=\"1\" class=\"dataframe\">\n",
       "  <thead>\n",
       "    <tr style=\"text-align: right;\">\n",
       "      <th></th>\n",
       "      <th></th>\n",
       "      <th>Mkt_RF</th>\n",
       "      <th>SMB</th>\n",
       "      <th>HML</th>\n",
       "    </tr>\n",
       "    <tr>\n",
       "      <th>permno</th>\n",
       "      <th>date</th>\n",
       "      <th></th>\n",
       "      <th></th>\n",
       "      <th></th>\n",
       "    </tr>\n",
       "  </thead>\n",
       "  <tbody>\n",
       "    <tr>\n",
       "      <th rowspan=\"5\" valign=\"top\">10026.0</th>\n",
       "      <th>2010-01-01</th>\n",
       "      <td>0.278995</td>\n",
       "      <td>-0.115467</td>\n",
       "      <td>0.099882</td>\n",
       "    </tr>\n",
       "    <tr>\n",
       "      <th>2010-02-01</th>\n",
       "      <td>0.272986</td>\n",
       "      <td>-0.114337</td>\n",
       "      <td>0.088774</td>\n",
       "    </tr>\n",
       "    <tr>\n",
       "      <th>2010-03-01</th>\n",
       "      <td>0.238124</td>\n",
       "      <td>-0.104464</td>\n",
       "      <td>0.083597</td>\n",
       "    </tr>\n",
       "    <tr>\n",
       "      <th>2010-04-01</th>\n",
       "      <td>0.171944</td>\n",
       "      <td>0.105564</td>\n",
       "      <td>0.107068</td>\n",
       "    </tr>\n",
       "    <tr>\n",
       "      <th>2010-05-01</th>\n",
       "      <td>0.335833</td>\n",
       "      <td>0.011720</td>\n",
       "      <td>0.157090</td>\n",
       "    </tr>\n",
       "    <tr>\n",
       "      <th>...</th>\n",
       "      <th>...</th>\n",
       "      <td>...</td>\n",
       "      <td>...</td>\n",
       "      <td>...</td>\n",
       "    </tr>\n",
       "    <tr>\n",
       "      <th rowspan=\"5\" valign=\"top\">93436.0</th>\n",
       "      <th>2021-08-01</th>\n",
       "      <td>2.173161</td>\n",
       "      <td>0.095906</td>\n",
       "      <td>-1.054570</td>\n",
       "    </tr>\n",
       "    <tr>\n",
       "      <th>2021-09-01</th>\n",
       "      <td>2.081935</td>\n",
       "      <td>0.078325</td>\n",
       "      <td>-0.902165</td>\n",
       "    </tr>\n",
       "    <tr>\n",
       "      <th>2021-10-01</th>\n",
       "      <td>2.185842</td>\n",
       "      <td>-0.219507</td>\n",
       "      <td>-0.842312</td>\n",
       "    </tr>\n",
       "    <tr>\n",
       "      <th>2021-11-01</th>\n",
       "      <td>2.184353</td>\n",
       "      <td>-0.228243</td>\n",
       "      <td>-0.854086</td>\n",
       "    </tr>\n",
       "    <tr>\n",
       "      <th>2021-12-01</th>\n",
       "      <td>2.170503</td>\n",
       "      <td>-0.141162</td>\n",
       "      <td>-0.958775</td>\n",
       "    </tr>\n",
       "  </tbody>\n",
       "</table>\n",
       "<p>209244 rows × 3 columns</p>\n",
       "</div>"
      ],
      "text/plain": [
       "                      Mkt_RF       SMB       HML\n",
       "permno  date                                    \n",
       "10026.0 2010-01-01  0.278995 -0.115467  0.099882\n",
       "        2010-02-01  0.272986 -0.114337  0.088774\n",
       "        2010-03-01  0.238124 -0.104464  0.083597\n",
       "        2010-04-01  0.171944  0.105564  0.107068\n",
       "        2010-05-01  0.335833  0.011720  0.157090\n",
       "...                      ...       ...       ...\n",
       "93436.0 2021-08-01  2.173161  0.095906 -1.054570\n",
       "        2021-09-01  2.081935  0.078325 -0.902165\n",
       "        2021-10-01  2.185842 -0.219507 -0.842312\n",
       "        2021-11-01  2.184353 -0.228243 -0.854086\n",
       "        2021-12-01  2.170503 -0.141162 -0.958775\n",
       "\n",
       "[209244 rows x 3 columns]"
      ]
     },
     "execution_count": 21,
     "metadata": {},
     "output_type": "execute_result"
    }
   ],
   "source": [
    "betas"
   ]
  },
  {
   "cell_type": "markdown",
   "metadata": {
    "slideshow": {
     "slide_type": "slide"
    }
   },
   "source": [
    "## Vector Auto-Regressions"
   ]
  },
  {
   "cell_type": "code",
   "execution_count": 22,
   "metadata": {
    "slideshow": {
     "slide_type": "slide"
    }
   },
   "outputs": [],
   "source": [
    "model = VAR(ff)\n",
    "result = model.fit()"
   ]
  },
  {
   "cell_type": "code",
   "execution_count": 23,
   "metadata": {},
   "outputs": [
    {
     "data": {
      "text/plain": [
       "  Summary of Regression Results   \n",
       "==================================\n",
       "Model:                         VAR\n",
       "Method:                        OLS\n",
       "Date:           Wed, 20, Sep, 2023\n",
       "Time:                     11:26:34\n",
       "--------------------------------------------------------------------\n",
       "No. of Equations:         4.00000    BIC:                   -36.0535\n",
       "Nobs:                     282.000    HQIC:                  -36.2082\n",
       "Log likelihood:           3539.40    FPE:                1.69821e-16\n",
       "AIC:                     -36.3118    Det(Omega_mle):     1.58292e-16\n",
       "--------------------------------------------------------------------\n",
       "Results for equation Mkt-RF\n",
       "============================================================================\n",
       "               coefficient       std. error           t-stat            prob\n",
       "----------------------------------------------------------------------------\n",
       "const             0.010492         0.003670            2.859           0.004\n",
       "L1.Mkt-RF         0.006275         0.061990            0.101           0.919\n",
       "L1.SMB            0.026587         0.089927            0.296           0.768\n",
       "L1.HML           -0.096272         0.079400           -1.212           0.225\n",
       "L1.RF            -3.655322         1.847679           -1.978           0.048\n",
       "============================================================================\n",
       "\n",
       "Results for equation SMB\n",
       "============================================================================\n",
       "               coefficient       std. error           t-stat            prob\n",
       "----------------------------------------------------------------------------\n",
       "const             0.002758         0.002551            1.081           0.280\n",
       "L1.Mkt-RF         0.037870         0.043093            0.879           0.380\n",
       "L1.SMB           -0.119841         0.062515           -1.917           0.055\n",
       "L1.HML            0.019604         0.055196            0.355           0.722\n",
       "L1.RF            -0.795235         1.284452           -0.619           0.536\n",
       "============================================================================\n",
       "\n",
       "Results for equation HML\n",
       "============================================================================\n",
       "               coefficient       std. error           t-stat            prob\n",
       "----------------------------------------------------------------------------\n",
       "const            -0.001577         0.002782           -0.567           0.571\n",
       "L1.Mkt-RF         0.071450         0.047004            1.520           0.128\n",
       "L1.SMB            0.070346         0.068188            1.032           0.302\n",
       "L1.HML            0.141439         0.060205            2.349           0.019\n",
       "L1.RF             2.115161         1.401009            1.510           0.131\n",
       "============================================================================\n",
       "\n",
       "Results for equation RF\n",
       "============================================================================\n",
       "               coefficient       std. error           t-stat            prob\n",
       "----------------------------------------------------------------------------\n",
       "const             0.000011         0.000021            0.510           0.610\n",
       "L1.Mkt-RF         0.000593         0.000355            1.670           0.095\n",
       "L1.SMB            0.000868         0.000515            1.687           0.092\n",
       "L1.HML            0.000830         0.000454            1.825           0.068\n",
       "L1.RF             0.987959         0.010575           93.423           0.000\n",
       "============================================================================\n",
       "\n",
       "Correlation matrix of residuals\n",
       "            Mkt-RF       SMB       HML        RF\n",
       "Mkt-RF    1.000000  0.278724 -0.010040  0.016722\n",
       "SMB       0.278724  1.000000 -0.181699 -0.116092\n",
       "HML      -0.010040 -0.181699  1.000000  0.016268\n",
       "RF        0.016722 -0.116092  0.016268  1.000000\n",
       "\n"
      ]
     },
     "execution_count": 23,
     "metadata": {},
     "output_type": "execute_result"
    }
   ],
   "source": [
    "result.summary()"
   ]
  },
  {
   "cell_type": "markdown",
   "metadata": {
    "slideshow": {
     "slide_type": "slide"
    }
   },
   "source": [
    "## Saving Results"
   ]
  },
  {
   "cell_type": "code",
   "execution_count": 24,
   "metadata": {
    "slideshow": {
     "slide_type": "slide"
    }
   },
   "outputs": [],
   "source": [
    "data = pd.read_csv(\"WAGE1_revised.csv\")\n",
    "\n",
    "# transformations of variables\n",
    "model1 = smf.ols(\"wage ~ female\", data=data)\n",
    "result1 = model1.fit()\n",
    "\n",
    "# multivariate\n",
    "model2 = smf.ols(\"wage ~ female + educ + female*educ\", data=data)\n",
    "result2 = model2.fit()\n",
    "\n",
    "# saving to Excel\n",
    "pd.DataFrame(result2.summary().tables[1]).to_excel(\"excelfile.xlsx\")\n"
   ]
  },
  {
   "cell_type": "code",
   "execution_count": 25,
   "metadata": {},
   "outputs": [
    {
     "data": {
      "text/html": [
       "<table class=\"simpletable\">\n",
       "<tr>\n",
       "       <td></td>          <th>coef</th>     <th>std err</th>      <th>t</th>      <th>P>|t|</th>  <th>[0.025</th>    <th>0.975]</th>  \n",
       "</tr>\n",
       "<tr>\n",
       "  <th>Intercept</th>   <td>    0.2005</td> <td>    0.844</td> <td>    0.238</td> <td> 0.812</td> <td>   -1.457</td> <td>    1.858</td>\n",
       "</tr>\n",
       "<tr>\n",
       "  <th>female</th>      <td>   -1.1985</td> <td>    1.325</td> <td>   -0.905</td> <td> 0.366</td> <td>   -3.802</td> <td>    1.405</td>\n",
       "</tr>\n",
       "<tr>\n",
       "  <th>educ</th>        <td>    0.5395</td> <td>    0.064</td> <td>    8.400</td> <td> 0.000</td> <td>    0.413</td> <td>    0.666</td>\n",
       "</tr>\n",
       "<tr>\n",
       "  <th>female:educ</th> <td>   -0.0860</td> <td>    0.104</td> <td>   -0.830</td> <td> 0.407</td> <td>   -0.290</td> <td>    0.118</td>\n",
       "</tr>\n",
       "</table>"
      ],
      "text/latex": [
       "\\begin{center}\n",
       "\\begin{tabular}{lcccccc}\n",
       "\\toprule\n",
       "                     & \\textbf{coef} & \\textbf{std err} & \\textbf{t} & \\textbf{P$> |$t$|$} & \\textbf{[0.025} & \\textbf{0.975]}  \\\\\n",
       "\\midrule\n",
       "\\textbf{Intercept}   &       0.2005  &        0.844     &     0.238  &         0.812        &       -1.457    &        1.858     \\\\\n",
       "\\textbf{female}      &      -1.1985  &        1.325     &    -0.905  &         0.366        &       -3.802    &        1.405     \\\\\n",
       "\\textbf{educ}        &       0.5395  &        0.064     &     8.400  &         0.000        &        0.413    &        0.666     \\\\\n",
       "\\textbf{female:educ} &      -0.0860  &        0.104     &    -0.830  &         0.407        &       -0.290    &        0.118     \\\\\n",
       "\\bottomrule\n",
       "\\end{tabular}\n",
       "\\end{center}"
      ],
      "text/plain": [
       "<class 'statsmodels.iolib.table.SimpleTable'>"
      ]
     },
     "execution_count": 25,
     "metadata": {},
     "output_type": "execute_result"
    }
   ],
   "source": [
    "result2.summary().tables[1]"
   ]
  },
  {
   "cell_type": "code",
   "execution_count": 26,
   "metadata": {},
   "outputs": [
    {
     "data": {
      "text/plain": [
       "'2.0.3'"
      ]
     },
     "execution_count": 26,
     "metadata": {},
     "output_type": "execute_result"
    }
   ],
   "source": [
    "pd.__version__\n"
   ]
  },
  {
   "cell_type": "code",
   "execution_count": 27,
   "metadata": {
    "slideshow": {
     "slide_type": "slide"
    }
   },
   "outputs": [
    {
     "ename": "AttributeError",
     "evalue": "'DataFrame' object has no attribute 'append'",
     "output_type": "error",
     "traceback": [
      "\u001b[1;31m---------------------------------------------------------------------------\u001b[0m",
      "\u001b[1;31mAttributeError\u001b[0m                            Traceback (most recent call last)",
      "\u001b[1;32m~\\AppData\\Local\\Temp\\ipykernel_17144\\112035626.py\u001b[0m in \u001b[0;36m?\u001b[1;34m()\u001b[0m\n\u001b[0;32m      1\u001b[0m \u001b[1;31m# saving to tex\u001b[0m\u001b[1;33m\u001b[0m\u001b[1;33m\u001b[0m\u001b[0m\n\u001b[0;32m      2\u001b[0m \u001b[1;33m\u001b[0m\u001b[0m\n\u001b[1;32m----> 3\u001b[1;33m pystout(\n\u001b[0m\u001b[0;32m      4\u001b[0m     \u001b[0mmodels\u001b[0m\u001b[1;33m=\u001b[0m\u001b[1;33m[\u001b[0m\u001b[0mresult1\u001b[0m\u001b[1;33m,\u001b[0m \u001b[0mresult2\u001b[0m\u001b[1;33m]\u001b[0m\u001b[1;33m,\u001b[0m\u001b[1;33m\u001b[0m\u001b[1;33m\u001b[0m\u001b[0m\n\u001b[0;32m      5\u001b[0m     \u001b[0mfile\u001b[0m\u001b[1;33m=\u001b[0m\u001b[1;34m\"texfile.tex\"\u001b[0m\u001b[1;33m,\u001b[0m\u001b[1;33m\u001b[0m\u001b[1;33m\u001b[0m\u001b[0m\n\u001b[0;32m      6\u001b[0m     \u001b[0mendog_names\u001b[0m \u001b[1;33m=\u001b[0m \u001b[1;33m[\u001b[0m\u001b[1;34m\"wage\"\u001b[0m\u001b[1;33m,\u001b[0m \u001b[1;34m\"wage\"\u001b[0m\u001b[1;33m]\u001b[0m\u001b[1;33m,\u001b[0m\u001b[1;33m\u001b[0m\u001b[1;33m\u001b[0m\u001b[0m\n",
      "\u001b[1;32m~\\AppData\\Local\\Packages\\PythonSoftwareFoundation.Python.3.10_qbz5n2kfra8p0\\LocalCache\\local-packages\\Python310\\site-packages\\pystout\\pystout.py\u001b[0m in \u001b[0;36m?\u001b[1;34m(models, file, exogvars, endog_names, stars, varlabels, digits, scientific_notation, mgroups, addnotes, addrows, title, label, tableopts, modstat, footnotesize)\u001b[0m\n\u001b[0;32m    373\u001b[0m         \u001b[1;32mfor\u001b[0m \u001b[0mkey\u001b[0m\u001b[1;33m,\u001b[0m\u001b[0mvalue\u001b[0m \u001b[1;32min\u001b[0m \u001b[0mmodstat\u001b[0m\u001b[1;33m.\u001b[0m\u001b[0mitems\u001b[0m\u001b[1;33m(\u001b[0m\u001b[1;33m)\u001b[0m\u001b[1;33m:\u001b[0m\u001b[1;33m\u001b[0m\u001b[1;33m\u001b[0m\u001b[0m\n\u001b[0;32m    374\u001b[0m             \u001b[0mr\u001b[0m \u001b[1;33m=\u001b[0m \u001b[1;33m[\u001b[0m\u001b[1;33m]\u001b[0m\u001b[1;33m\u001b[0m\u001b[1;33m\u001b[0m\u001b[0m\n\u001b[0;32m    375\u001b[0m             \u001b[1;32mfor\u001b[0m \u001b[0mm\u001b[0m \u001b[1;32min\u001b[0m \u001b[0mmodels\u001b[0m\u001b[1;33m:\u001b[0m\u001b[1;33m\u001b[0m\u001b[1;33m\u001b[0m\u001b[0m\n\u001b[0;32m    376\u001b[0m                 \u001b[0mr\u001b[0m\u001b[1;33m.\u001b[0m\u001b[0mappend\u001b[0m\u001b[1;33m(\u001b[0m\u001b[0mtrygetstat\u001b[0m\u001b[1;33m(\u001b[0m\u001b[0mkey\u001b[0m\u001b[1;33m,\u001b[0m\u001b[0mm\u001b[0m\u001b[1;33m)\u001b[0m\u001b[1;33m)\u001b[0m\u001b[1;33m\u001b[0m\u001b[1;33m\u001b[0m\u001b[0m\n\u001b[1;32m--> 377\u001b[1;33m             \u001b[0moptions\u001b[0m \u001b[1;33m=\u001b[0m \u001b[0moptions\u001b[0m\u001b[1;33m.\u001b[0m\u001b[0mappend\u001b[0m\u001b[1;33m(\u001b[0m\u001b[0mpd\u001b[0m\u001b[1;33m.\u001b[0m\u001b[0mDataFrame\u001b[0m\u001b[1;33m(\u001b[0m\u001b[1;33m[\u001b[0m\u001b[0mr\u001b[0m\u001b[1;33m]\u001b[0m\u001b[1;33m,\u001b[0m\u001b[0mindex\u001b[0m\u001b[1;33m=\u001b[0m\u001b[1;33m[\u001b[0m\u001b[0mvalue\u001b[0m\u001b[1;33m]\u001b[0m\u001b[1;33m)\u001b[0m\u001b[1;33m)\u001b[0m\u001b[1;33m\u001b[0m\u001b[1;33m\u001b[0m\u001b[0m\n\u001b[0m\u001b[0;32m    378\u001b[0m     \u001b[1;32melse\u001b[0m\u001b[1;33m:\u001b[0m\u001b[1;33m\u001b[0m\u001b[1;33m\u001b[0m\u001b[0m\n\u001b[0;32m    379\u001b[0m         \u001b[0moptions\u001b[0m \u001b[1;33m=\u001b[0m \u001b[0mpd\u001b[0m\u001b[1;33m.\u001b[0m\u001b[0mDataFrame\u001b[0m\u001b[1;33m(\u001b[0m\u001b[1;33m)\u001b[0m\u001b[1;33m\u001b[0m\u001b[1;33m\u001b[0m\u001b[0m\n\u001b[0;32m    380\u001b[0m \u001b[1;33m\u001b[0m\u001b[0m\n",
      "\u001b[1;32m~\\AppData\\Local\\Packages\\PythonSoftwareFoundation.Python.3.10_qbz5n2kfra8p0\\LocalCache\\local-packages\\Python310\\site-packages\\pandas\\core\\generic.py\u001b[0m in \u001b[0;36m?\u001b[1;34m(self, name)\u001b[0m\n\u001b[0;32m   5985\u001b[0m             \u001b[1;32mand\u001b[0m \u001b[0mname\u001b[0m \u001b[1;32mnot\u001b[0m \u001b[1;32min\u001b[0m \u001b[0mself\u001b[0m\u001b[1;33m.\u001b[0m\u001b[0m_accessors\u001b[0m\u001b[1;33m\u001b[0m\u001b[1;33m\u001b[0m\u001b[0m\n\u001b[0;32m   5986\u001b[0m             \u001b[1;32mand\u001b[0m \u001b[0mself\u001b[0m\u001b[1;33m.\u001b[0m\u001b[0m_info_axis\u001b[0m\u001b[1;33m.\u001b[0m\u001b[0m_can_hold_identifiers_and_holds_name\u001b[0m\u001b[1;33m(\u001b[0m\u001b[0mname\u001b[0m\u001b[1;33m)\u001b[0m\u001b[1;33m\u001b[0m\u001b[1;33m\u001b[0m\u001b[0m\n\u001b[0;32m   5987\u001b[0m         ):\n\u001b[0;32m   5988\u001b[0m             \u001b[1;32mreturn\u001b[0m \u001b[0mself\u001b[0m\u001b[1;33m[\u001b[0m\u001b[0mname\u001b[0m\u001b[1;33m]\u001b[0m\u001b[1;33m\u001b[0m\u001b[1;33m\u001b[0m\u001b[0m\n\u001b[1;32m-> 5989\u001b[1;33m         \u001b[1;32mreturn\u001b[0m \u001b[0mobject\u001b[0m\u001b[1;33m.\u001b[0m\u001b[0m__getattribute__\u001b[0m\u001b[1;33m(\u001b[0m\u001b[0mself\u001b[0m\u001b[1;33m,\u001b[0m \u001b[0mname\u001b[0m\u001b[1;33m)\u001b[0m\u001b[1;33m\u001b[0m\u001b[1;33m\u001b[0m\u001b[0m\n\u001b[0m",
      "\u001b[1;31mAttributeError\u001b[0m: 'DataFrame' object has no attribute 'append'"
     ]
    }
   ],
   "source": [
    "# saving to tex\n",
    "\n",
    "pystout(\n",
    "    models=[result1, result2], \n",
    "    file=\"texfile.tex\",\n",
    "    endog_names = [\"wage\", \"wage\"],\n",
    "    exogvars=[\n",
    "        'female', \n",
    "        'educ', \n",
    "        'female:educ', \n",
    "        ],\n",
    "    stars={0.1: \"*\", 0.05: \"**\", 0.01: \"***\"},\n",
    "    addnotes=[\"$^*p<0.1$, $^{**}p<0.05$, $^{***}p<0.01$\"],\n",
    "    modstat={\"nobs\": \"Obs\", \"rsquared_adj\": \"Adj $R^2$\"},\n",
    "    title=\"Wage Equation\",\n",
    "    label=\"tab:wage\"\n",
    "\n",
    ")"
   ]
  }
 ],
 "metadata": {
  "colab": {
   "include_colab_link": true,
   "provenance": []
  },
  "kernelspec": {
   "display_name": "Python 3 (ipykernel)",
   "language": "python",
   "name": "python3"
  },
  "language_info": {
   "codemirror_mode": {
    "name": "ipython",
    "version": 3
   },
   "file_extension": ".py",
   "mimetype": "text/x-python",
   "name": "python",
   "nbconvert_exporter": "python",
   "pygments_lexer": "ipython3",
   "version": "3.10.11"
  },
  "vscode": {
   "interpreter": {
    "hash": "e9c182eb2c6b77cc7a6e636d1b5173df89a0a80b42c041014ee844b6f22ab6ab"
   }
  }
 },
 "nbformat": 4,
 "nbformat_minor": 4
}
