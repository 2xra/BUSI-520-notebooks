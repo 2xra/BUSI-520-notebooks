{
 "cells": [
  {
   "cell_type": "code",
   "execution_count": 8,
   "metadata": {},
   "outputs": [
    {
     "name": "stdout",
     "output_type": "stream",
     "text": [
      "2 5\n"
     ]
    }
   ],
   "source": [
    "import numpy as np\n",
    "\n",
    "payoffs = np.array([[(5,2),(0,0)],[(0,0),(2,5)]])\n",
    "\n",
    "def checker(a1,a2,carr):\n",
    "    utils1 = carr[a1][a2][0]\n",
    "    utils2 = carr[a1][a2][1]\n",
    "    for elem in carr[a1]:\n",
    "        if utils2 < elem[1]:\n",
    "            print(\"not pure bc player 2\")\n",
    "    for elem in carr:\n",
    "        if utils1 < elem[a2][0]:\n",
    "            print('not pure bc player 1')\n",
    "\n",
    "    print(utils1,utils2)\n",
    "checker(1,1,payoffs)\n",
    "\n",
    "\n",
    "    "
   ]
  }
 ],
 "metadata": {
  "kernelspec": {
   "display_name": "Python 3",
   "language": "python",
   "name": "python3"
  },
  "language_info": {
   "codemirror_mode": {
    "name": "ipython",
    "version": 3
   },
   "file_extension": ".py",
   "mimetype": "text/x-python",
   "name": "python",
   "nbconvert_exporter": "python",
   "pygments_lexer": "ipython3",
   "version": "3.10.11"
  },
  "orig_nbformat": 4
 },
 "nbformat": 4,
 "nbformat_minor": 2
}
