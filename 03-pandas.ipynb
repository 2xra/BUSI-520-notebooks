{
  "cells": [
    {
      "cell_type": "markdown",
      "metadata": {
        "collapsed": false,
        "id": "r395QIVagY2h",
        "pycharm": {
          "name": "#%% md\n"
        }
      },
      "source": [
        "### Pandas\n",
        "\n",
        "* Pandas was created and is maintained by Wes McKinney, formerly of AQR.\n",
        "* .loc extracts rows using row labels (index).  In this case, the labels are just 0, 1, 2, ...\n",
        "* .iloc extracts rows using the index location.  It works like extracting items from a list, starting at 0.\n",
        "* Because the row labels here are just 0, 1, 2, ... .loc and .iloc work almost the same.  The only difference is that .iloc works like extracting items from a list, so it goes up to but not including the last number.  .loc uses the row labels including the last label."
      ]
    },
    {
      "cell_type": "code",
      "execution_count": 108,
      "metadata": {
        "id": "YiFFpHUFgY2h",
        "pycharm": {
          "name": "#%%\n"
        }
      },
      "outputs": [],
      "source": [
        "tips = load_dataset(\"tips\")\n",
        "# tips.info()\n",
        "# tips.describe()\n",
        "# tips.dtypes\n",
        "# tips.head()\n",
        "# tips.tail()\n",
        "# tips.columns\n",
        "# tips.index\n",
        "# tips.day.unique()\n",
        "# tips.loc[0]\n",
        "# tips.loc[3:6]\n",
        "# tips.iloc[0]\n",
        "# tips.iloc[3:6]\n",
        "# tips.iloc[3:10:2]\n",
        "# tips.iloc[-1]\n",
        "# tips.iloc[-4:]\n",
        "# tips['tip']\n",
        "# tips.tip\n",
        "# tips[['total_bill', 'tip]]\n",
        "# tips[['total_bill', 'tip']].loc[3:7]\n",
        "# tips.loc[3:7][['total_bill', 'tip']]\n",
        "# tips.to_dict()\n",
        "# tips.to_dict('records')\n",
        "# tips[['total_bill', 'tip']].to_numpy()"
      ]
    },
    {
      "cell_type": "code",
      "execution_count": 109,
      "metadata": {
        "colab": {
          "base_uri": "https://localhost:8080/",
          "height": 143
        },
        "id": "FGW3HfrMgY2h",
        "outputId": "6ecde394-e88e-4b04-e784-1f863154671c",
        "pycharm": {
          "name": "#%%\n"
        }
      },
      "outputs": [
        {
          "data": {
            "text/html": [
              "<div>\n",
              "<style scoped>\n",
              "    .dataframe tbody tr th:only-of-type {\n",
              "        vertical-align: middle;\n",
              "    }\n",
              "\n",
              "    .dataframe tbody tr th {\n",
              "        vertical-align: top;\n",
              "    }\n",
              "\n",
              "    .dataframe thead th {\n",
              "        text-align: right;\n",
              "    }\n",
              "</style>\n",
              "<table border=\"1\" class=\"dataframe\">\n",
              "  <thead>\n",
              "    <tr style=\"text-align: right;\">\n",
              "      <th></th>\n",
              "      <th>new_total_bill</th>\n",
              "      <th>new_tip</th>\n",
              "      <th>new_sex</th>\n",
              "      <th>new_smoker</th>\n",
              "      <th>new_day</th>\n",
              "      <th>new_time</th>\n",
              "      <th>new_size</th>\n",
              "    </tr>\n",
              "  </thead>\n",
              "  <tbody>\n",
              "    <tr>\n",
              "      <th>0</th>\n",
              "      <td>16.99</td>\n",
              "      <td>1.01</td>\n",
              "      <td>Female</td>\n",
              "      <td>No</td>\n",
              "      <td>Sun</td>\n",
              "      <td>Dinner</td>\n",
              "      <td>2</td>\n",
              "    </tr>\n",
              "    <tr>\n",
              "      <th>1</th>\n",
              "      <td>10.34</td>\n",
              "      <td>1.66</td>\n",
              "      <td>Male</td>\n",
              "      <td>No</td>\n",
              "      <td>Sun</td>\n",
              "      <td>Dinner</td>\n",
              "      <td>3</td>\n",
              "    </tr>\n",
              "    <tr>\n",
              "      <th>2</th>\n",
              "      <td>21.01</td>\n",
              "      <td>3.50</td>\n",
              "      <td>Male</td>\n",
              "      <td>No</td>\n",
              "      <td>Sun</td>\n",
              "      <td>Dinner</td>\n",
              "      <td>3</td>\n",
              "    </tr>\n",
              "  </tbody>\n",
              "</table>\n",
              "</div>"
            ],
            "text/plain": [
              "   new_total_bill  new_tip new_sex new_smoker new_day new_time  new_size\n",
              "0           16.99     1.01  Female         No     Sun   Dinner         2\n",
              "1           10.34     1.66    Male         No     Sun   Dinner         3\n",
              "2           21.01     3.50    Male         No     Sun   Dinner         3"
            ]
          },
          "execution_count": 109,
          "metadata": {},
          "output_type": "execute_result"
        }
      ],
      "source": [
        "tips2 = tips.copy()\n",
        "tips2.columns = ['new_' + c for c in tips2.columns]\n",
        "tips2.head(3)"
      ]
    },
    {
      "cell_type": "code",
      "execution_count": 110,
      "metadata": {
        "colab": {
          "base_uri": "https://localhost:8080/",
          "height": 143
        },
        "id": "Y__tmtqbgY2h",
        "outputId": "b03c8087-691d-42ab-c89d-f0cd554661ad",
        "pycharm": {
          "name": "#%%\n"
        }
      },
      "outputs": [
        {
          "data": {
            "text/html": [
              "<div>\n",
              "<style scoped>\n",
              "    .dataframe tbody tr th:only-of-type {\n",
              "        vertical-align: middle;\n",
              "    }\n",
              "\n",
              "    .dataframe tbody tr th {\n",
              "        vertical-align: top;\n",
              "    }\n",
              "\n",
              "    .dataframe thead th {\n",
              "        text-align: right;\n",
              "    }\n",
              "</style>\n",
              "<table border=\"1\" class=\"dataframe\">\n",
              "  <thead>\n",
              "    <tr style=\"text-align: right;\">\n",
              "      <th></th>\n",
              "      <th>new_total_bill</th>\n",
              "      <th>new_tip</th>\n",
              "      <th>new_sex</th>\n",
              "      <th>new_new_smoker</th>\n",
              "      <th>new_day</th>\n",
              "      <th>new_time</th>\n",
              "      <th>new_size</th>\n",
              "    </tr>\n",
              "  </thead>\n",
              "  <tbody>\n",
              "    <tr>\n",
              "      <th>0</th>\n",
              "      <td>16.99</td>\n",
              "      <td>1.01</td>\n",
              "      <td>Female</td>\n",
              "      <td>No</td>\n",
              "      <td>Sun</td>\n",
              "      <td>Dinner</td>\n",
              "      <td>2</td>\n",
              "    </tr>\n",
              "    <tr>\n",
              "      <th>1</th>\n",
              "      <td>10.34</td>\n",
              "      <td>1.66</td>\n",
              "      <td>Male</td>\n",
              "      <td>No</td>\n",
              "      <td>Sun</td>\n",
              "      <td>Dinner</td>\n",
              "      <td>3</td>\n",
              "    </tr>\n",
              "    <tr>\n",
              "      <th>2</th>\n",
              "      <td>21.01</td>\n",
              "      <td>3.50</td>\n",
              "      <td>Male</td>\n",
              "      <td>No</td>\n",
              "      <td>Sun</td>\n",
              "      <td>Dinner</td>\n",
              "      <td>3</td>\n",
              "    </tr>\n",
              "  </tbody>\n",
              "</table>\n",
              "</div>"
            ],
            "text/plain": [
              "   new_total_bill  new_tip new_sex new_new_smoker new_day new_time  new_size\n",
              "0           16.99     1.01  Female             No     Sun   Dinner         2\n",
              "1           10.34     1.66    Male             No     Sun   Dinner         3\n",
              "2           21.01     3.50    Male             No     Sun   Dinner         3"
            ]
          },
          "execution_count": 110,
          "metadata": {},
          "output_type": "execute_result"
        }
      ],
      "source": [
        "tips2 = tips2.rename(columns={'new_smoker': 'new_new_smoker'})\n",
        "tips2.head(3)"
      ]
    },
    {
      "cell_type": "markdown",
      "metadata": {
        "collapsed": false,
        "id": "mH_ZhgGLgY2h",
        "pycharm": {
          "name": "#%% md\n"
        }
      },
      "source": [
        "### Sorting"
      ]
    },
    {
      "cell_type": "code",
      "execution_count": 111,
      "metadata": {
        "colab": {
          "base_uri": "https://localhost:8080/",
          "height": 206
        },
        "id": "1DJojc6-gY2i",
        "outputId": "43d535da-fe3d-48d5-edb6-7dab4f6687e5",
        "pycharm": {
          "name": "#%%\n"
        }
      },
      "outputs": [
        {
          "data": {
            "text/html": [
              "<div>\n",
              "<style scoped>\n",
              "    .dataframe tbody tr th:only-of-type {\n",
              "        vertical-align: middle;\n",
              "    }\n",
              "\n",
              "    .dataframe tbody tr th {\n",
              "        vertical-align: top;\n",
              "    }\n",
              "\n",
              "    .dataframe thead th {\n",
              "        text-align: right;\n",
              "    }\n",
              "</style>\n",
              "<table border=\"1\" class=\"dataframe\">\n",
              "  <thead>\n",
              "    <tr style=\"text-align: right;\">\n",
              "      <th></th>\n",
              "      <th>total_bill</th>\n",
              "      <th>tip</th>\n",
              "      <th>sex</th>\n",
              "      <th>smoker</th>\n",
              "      <th>day</th>\n",
              "      <th>time</th>\n",
              "      <th>size</th>\n",
              "    </tr>\n",
              "  </thead>\n",
              "  <tbody>\n",
              "    <tr>\n",
              "      <th>172</th>\n",
              "      <td>7.25</td>\n",
              "      <td>5.15</td>\n",
              "      <td>Male</td>\n",
              "      <td>Yes</td>\n",
              "      <td>Sun</td>\n",
              "      <td>Dinner</td>\n",
              "      <td>2</td>\n",
              "    </tr>\n",
              "    <tr>\n",
              "      <th>149</th>\n",
              "      <td>7.51</td>\n",
              "      <td>2.00</td>\n",
              "      <td>Male</td>\n",
              "      <td>No</td>\n",
              "      <td>Thur</td>\n",
              "      <td>Lunch</td>\n",
              "      <td>2</td>\n",
              "    </tr>\n",
              "    <tr>\n",
              "      <th>195</th>\n",
              "      <td>7.56</td>\n",
              "      <td>1.44</td>\n",
              "      <td>Male</td>\n",
              "      <td>No</td>\n",
              "      <td>Thur</td>\n",
              "      <td>Lunch</td>\n",
              "      <td>2</td>\n",
              "    </tr>\n",
              "    <tr>\n",
              "      <th>218</th>\n",
              "      <td>7.74</td>\n",
              "      <td>1.44</td>\n",
              "      <td>Male</td>\n",
              "      <td>Yes</td>\n",
              "      <td>Sat</td>\n",
              "      <td>Dinner</td>\n",
              "      <td>2</td>\n",
              "    </tr>\n",
              "    <tr>\n",
              "      <th>126</th>\n",
              "      <td>8.52</td>\n",
              "      <td>1.48</td>\n",
              "      <td>Male</td>\n",
              "      <td>No</td>\n",
              "      <td>Thur</td>\n",
              "      <td>Lunch</td>\n",
              "      <td>2</td>\n",
              "    </tr>\n",
              "  </tbody>\n",
              "</table>\n",
              "</div>"
            ],
            "text/plain": [
              "     total_bill   tip   sex smoker   day    time  size\n",
              "172        7.25  5.15  Male    Yes   Sun  Dinner     2\n",
              "149        7.51  2.00  Male     No  Thur   Lunch     2\n",
              "195        7.56  1.44  Male     No  Thur   Lunch     2\n",
              "218        7.74  1.44  Male    Yes   Sat  Dinner     2\n",
              "126        8.52  1.48  Male     No  Thur   Lunch     2"
            ]
          },
          "execution_count": 111,
          "metadata": {},
          "output_type": "execute_result"
        }
      ],
      "source": [
        "tips = tips.sort_values(by=['sex', 'total_bill'])\n",
        "tips.head()"
      ]
    },
    {
      "cell_type": "markdown",
      "metadata": {
        "collapsed": false,
        "id": "6kUCoyhNgY2i",
        "pycharm": {
          "name": "#%% md\n"
        }
      },
      "source": [
        "### Inserting columns\n",
        "\n",
        "We can add new rows and columns.  More often, we want to add new columns.  Operations on columns are element-wise as with numpy."
      ]
    },
    {
      "cell_type": "code",
      "execution_count": 112,
      "metadata": {
        "colab": {
          "base_uri": "https://localhost:8080/",
          "height": 143
        },
        "id": "ri3qJ5lWgY2i",
        "outputId": "0ad5d220-85c0-4a59-f1f0-a3f727977aa3",
        "pycharm": {
          "name": "#%%\n"
        }
      },
      "outputs": [
        {
          "data": {
            "text/html": [
              "<div>\n",
              "<style scoped>\n",
              "    .dataframe tbody tr th:only-of-type {\n",
              "        vertical-align: middle;\n",
              "    }\n",
              "\n",
              "    .dataframe tbody tr th {\n",
              "        vertical-align: top;\n",
              "    }\n",
              "\n",
              "    .dataframe thead th {\n",
              "        text-align: right;\n",
              "    }\n",
              "</style>\n",
              "<table border=\"1\" class=\"dataframe\">\n",
              "  <thead>\n",
              "    <tr style=\"text-align: right;\">\n",
              "      <th></th>\n",
              "      <th>total_bill</th>\n",
              "      <th>tip</th>\n",
              "      <th>sex</th>\n",
              "      <th>smoker</th>\n",
              "      <th>day</th>\n",
              "      <th>time</th>\n",
              "      <th>size</th>\n",
              "      <th>pct</th>\n",
              "      <th>day_type</th>\n",
              "    </tr>\n",
              "  </thead>\n",
              "  <tbody>\n",
              "    <tr>\n",
              "      <th>172</th>\n",
              "      <td>7.25</td>\n",
              "      <td>5.15</td>\n",
              "      <td>Male</td>\n",
              "      <td>Yes</td>\n",
              "      <td>Sun</td>\n",
              "      <td>Dinner</td>\n",
              "      <td>2</td>\n",
              "      <td>0.710345</td>\n",
              "      <td>Weekend</td>\n",
              "    </tr>\n",
              "    <tr>\n",
              "      <th>149</th>\n",
              "      <td>7.51</td>\n",
              "      <td>2.00</td>\n",
              "      <td>Male</td>\n",
              "      <td>No</td>\n",
              "      <td>Thur</td>\n",
              "      <td>Lunch</td>\n",
              "      <td>2</td>\n",
              "      <td>0.266312</td>\n",
              "      <td>Weekday</td>\n",
              "    </tr>\n",
              "    <tr>\n",
              "      <th>195</th>\n",
              "      <td>7.56</td>\n",
              "      <td>1.44</td>\n",
              "      <td>Male</td>\n",
              "      <td>No</td>\n",
              "      <td>Thur</td>\n",
              "      <td>Lunch</td>\n",
              "      <td>2</td>\n",
              "      <td>0.190476</td>\n",
              "      <td>Weekday</td>\n",
              "    </tr>\n",
              "  </tbody>\n",
              "</table>\n",
              "</div>"
            ],
            "text/plain": [
              "     total_bill   tip   sex smoker   day    time  size       pct day_type\n",
              "172        7.25  5.15  Male    Yes   Sun  Dinner     2  0.710345  Weekend\n",
              "149        7.51  2.00  Male     No  Thur   Lunch     2  0.266312  Weekday\n",
              "195        7.56  1.44  Male     No  Thur   Lunch     2  0.190476  Weekday"
            ]
          },
          "execution_count": 112,
          "metadata": {},
          "output_type": "execute_result"
        }
      ],
      "source": [
        "tips['pct'] = tips.tip / tips.total_bill\n",
        "tips['day_type'] = tips.day.map(lambda x: 'Weekend' if x in ['Sat', 'Sun'] else 'Weekday')\n",
        "tips.head(3)"
      ]
    },
    {
      "cell_type": "markdown",
      "metadata": {
        "collapsed": false,
        "id": "L96oX4sNgY2i",
        "pycharm": {
          "name": "#%% md\n"
        }
      },
      "source": [
        "### Filtering"
      ]
    },
    {
      "cell_type": "code",
      "execution_count": 113,
      "metadata": {
        "id": "JqAD2stEgY2i",
        "pycharm": {
          "name": "#%%\n"
        }
      },
      "outputs": [],
      "source": [
        "# tips[tips.sex==\"Male\"].head()\n",
        "# tips[(tips.sex==\"Male\") & (tips.pct>0.2)].head()\n",
        "# tips[(tips.sex==\"Male\") | (tips.pct>0.2)].head()\n"
      ]
    },
    {
      "cell_type": "markdown",
      "metadata": {
        "collapsed": false,
        "id": "OFifsWNogY2i",
        "pycharm": {
          "name": "#%% md\n"
        }
      },
      "source": [
        "### Aggregating\n",
        "\n",
        "There are built-in methods and you can create your own with apply.  Often it is more convenient to define a new function with the \"lambda\" method instead of \"def ...\" but \"def\" is useful for longer functions."
      ]
    },
    {
      "cell_type": "code",
      "execution_count": 114,
      "metadata": {
        "colab": {
          "base_uri": "https://localhost:8080/"
        },
        "id": "3HkuMr9pgY2i",
        "outputId": "6fe45a80-d701-4494-9543-4e0f49768c27",
        "pycharm": {
          "name": "#%%\n"
        }
      },
      "outputs": [
        {
          "data": {
            "text/plain": [
              "total_bill    114780.4443\n",
              "tip             2658.6932\n",
              "dtype: float64"
            ]
          },
          "execution_count": 114,
          "metadata": {},
          "output_type": "execute_result"
        }
      ],
      "source": [
        "tips2 = tips[['total_bill', 'tip']]\n",
        "\n",
        "# tips2.sum()\n",
        "# tips[['total_bill\", 'tip']].sum()\n",
        "# tips.total_bill.sum()\n",
        "# tips['total_bill'].sum()\n",
        "# tips2.mean()\n",
        "# tips2.std()\n",
        "# tips2.corr()\n",
        "# tips2.cov()\n",
        "# tips2.median()\n",
        "# tips2.quantile([0.25, 0.5, 0.75])\n",
        "# tips2.sum(axis=1)\n",
        "tips2.apply(lambda x: (x**2).sum())\n",
        "# def sumsquares(x):\n",
        "#     return (x**2).sum()\n",
        "# tips2.apply(sumsquares)\n"
      ]
    },
    {
      "cell_type": "markdown",
      "metadata": {
        "collapsed": false,
        "id": "zmpOcA5FgY2j",
        "pycharm": {
          "name": "#%% md\n"
        }
      },
      "source": [
        "### Aggregating by groups\n",
        "\n",
        "In empirical asset pricing, we are constantly either grouping by stock and doing something to each time series of stock data, or we are grouping by date and doing something to each cross-section.  "
      ]
    },
    {
      "cell_type": "code",
      "execution_count": 115,
      "metadata": {
        "colab": {
          "base_uri": "https://localhost:8080/",
          "height": 206
        },
        "id": "nz0Ybtc3gY2j",
        "outputId": "8fcb6715-b329-4bd5-fc8b-e942404f9546"
      },
      "outputs": [
        {
          "data": {
            "text/html": [
              "<div>\n",
              "<style scoped>\n",
              "    .dataframe tbody tr th:only-of-type {\n",
              "        vertical-align: middle;\n",
              "    }\n",
              "\n",
              "    .dataframe tbody tr th {\n",
              "        vertical-align: top;\n",
              "    }\n",
              "\n",
              "    .dataframe thead th {\n",
              "        text-align: right;\n",
              "    }\n",
              "</style>\n",
              "<table border=\"1\" class=\"dataframe\">\n",
              "  <thead>\n",
              "    <tr style=\"text-align: right;\">\n",
              "      <th></th>\n",
              "      <th>total_bill</th>\n",
              "      <th>tip</th>\n",
              "      <th>sex</th>\n",
              "      <th>smoker</th>\n",
              "      <th>day</th>\n",
              "      <th>time</th>\n",
              "      <th>size</th>\n",
              "      <th>pct</th>\n",
              "      <th>day_type</th>\n",
              "    </tr>\n",
              "  </thead>\n",
              "  <tbody>\n",
              "    <tr>\n",
              "      <th>172</th>\n",
              "      <td>7.25</td>\n",
              "      <td>5.15</td>\n",
              "      <td>Male</td>\n",
              "      <td>Yes</td>\n",
              "      <td>Sun</td>\n",
              "      <td>Dinner</td>\n",
              "      <td>2</td>\n",
              "      <td>0.710345</td>\n",
              "      <td>Weekend</td>\n",
              "    </tr>\n",
              "    <tr>\n",
              "      <th>149</th>\n",
              "      <td>7.51</td>\n",
              "      <td>2.00</td>\n",
              "      <td>Male</td>\n",
              "      <td>No</td>\n",
              "      <td>Thur</td>\n",
              "      <td>Lunch</td>\n",
              "      <td>2</td>\n",
              "      <td>0.266312</td>\n",
              "      <td>Weekday</td>\n",
              "    </tr>\n",
              "    <tr>\n",
              "      <th>195</th>\n",
              "      <td>7.56</td>\n",
              "      <td>1.44</td>\n",
              "      <td>Male</td>\n",
              "      <td>No</td>\n",
              "      <td>Thur</td>\n",
              "      <td>Lunch</td>\n",
              "      <td>2</td>\n",
              "      <td>0.190476</td>\n",
              "      <td>Weekday</td>\n",
              "    </tr>\n",
              "    <tr>\n",
              "      <th>218</th>\n",
              "      <td>7.74</td>\n",
              "      <td>1.44</td>\n",
              "      <td>Male</td>\n",
              "      <td>Yes</td>\n",
              "      <td>Sat</td>\n",
              "      <td>Dinner</td>\n",
              "      <td>2</td>\n",
              "      <td>0.186047</td>\n",
              "      <td>Weekend</td>\n",
              "    </tr>\n",
              "    <tr>\n",
              "      <th>126</th>\n",
              "      <td>8.52</td>\n",
              "      <td>1.48</td>\n",
              "      <td>Male</td>\n",
              "      <td>No</td>\n",
              "      <td>Thur</td>\n",
              "      <td>Lunch</td>\n",
              "      <td>2</td>\n",
              "      <td>0.173709</td>\n",
              "      <td>Weekday</td>\n",
              "    </tr>\n",
              "  </tbody>\n",
              "</table>\n",
              "</div>"
            ],
            "text/plain": [
              "     total_bill   tip   sex smoker   day    time  size       pct day_type\n",
              "172        7.25  5.15  Male    Yes   Sun  Dinner     2  0.710345  Weekend\n",
              "149        7.51  2.00  Male     No  Thur   Lunch     2  0.266312  Weekday\n",
              "195        7.56  1.44  Male     No  Thur   Lunch     2  0.190476  Weekday\n",
              "218        7.74  1.44  Male    Yes   Sat  Dinner     2  0.186047  Weekend\n",
              "126        8.52  1.48  Male     No  Thur   Lunch     2  0.173709  Weekday"
            ]
          },
          "execution_count": 115,
          "metadata": {},
          "output_type": "execute_result"
        }
      ],
      "source": [
        "tips.head()"
      ]
    },
    {
      "cell_type": "code",
      "execution_count": 116,
      "metadata": {
        "id": "5J6ChxnYgY2j",
        "pycharm": {
          "name": "#%%\n"
        }
      },
      "outputs": [],
      "source": [
        "# tips.groupby('sex').total_bill.mean()\n",
        "# tips.groupby(['sex', 'time']).total_bill.mean()\n",
        "# tips.groupby(['sex']).total_bill.apply(lambda x: (x**2).sum())"
      ]
    },
    {
      "cell_type": "markdown",
      "metadata": {
        "id": "i-FlaPiTgY2j"
      },
      "source": [
        "### Transform\n",
        "\n",
        "When we aggregate, we get a lower-dimensional object - for example, just one number for each column.  With transform, we get an object of the same dimension we started with, which is useful when we want to paste it into the original object.  This new object will repeat the aggregate in order to be of the same dimension as the original.  This is useful, for example, if we want to include a group mean as a characteristic in a model."
      ]
    },
    {
      "cell_type": "code",
      "execution_count": 117,
      "metadata": {
        "colab": {
          "base_uri": "https://localhost:8080/",
          "height": 206
        },
        "id": "fvV-sgylgY2j",
        "outputId": "060aee7f-bd62-4824-edaa-c46ab55f7339"
      },
      "outputs": [
        {
          "data": {
            "text/html": [
              "<div>\n",
              "<style scoped>\n",
              "    .dataframe tbody tr th:only-of-type {\n",
              "        vertical-align: middle;\n",
              "    }\n",
              "\n",
              "    .dataframe tbody tr th {\n",
              "        vertical-align: top;\n",
              "    }\n",
              "\n",
              "    .dataframe thead th {\n",
              "        text-align: right;\n",
              "    }\n",
              "</style>\n",
              "<table border=\"1\" class=\"dataframe\">\n",
              "  <thead>\n",
              "    <tr style=\"text-align: right;\">\n",
              "      <th></th>\n",
              "      <th>total_bill</th>\n",
              "      <th>tip</th>\n",
              "      <th>sex</th>\n",
              "      <th>smoker</th>\n",
              "      <th>day</th>\n",
              "      <th>time</th>\n",
              "      <th>size</th>\n",
              "      <th>pct</th>\n",
              "      <th>day_type</th>\n",
              "      <th>total_by_sex</th>\n",
              "    </tr>\n",
              "  </thead>\n",
              "  <tbody>\n",
              "    <tr>\n",
              "      <th>172</th>\n",
              "      <td>7.25</td>\n",
              "      <td>5.15</td>\n",
              "      <td>Male</td>\n",
              "      <td>Yes</td>\n",
              "      <td>Sun</td>\n",
              "      <td>Dinner</td>\n",
              "      <td>2</td>\n",
              "      <td>0.710345</td>\n",
              "      <td>Weekend</td>\n",
              "      <td>20.744076</td>\n",
              "    </tr>\n",
              "    <tr>\n",
              "      <th>149</th>\n",
              "      <td>7.51</td>\n",
              "      <td>2.00</td>\n",
              "      <td>Male</td>\n",
              "      <td>No</td>\n",
              "      <td>Thur</td>\n",
              "      <td>Lunch</td>\n",
              "      <td>2</td>\n",
              "      <td>0.266312</td>\n",
              "      <td>Weekday</td>\n",
              "      <td>20.744076</td>\n",
              "    </tr>\n",
              "    <tr>\n",
              "      <th>195</th>\n",
              "      <td>7.56</td>\n",
              "      <td>1.44</td>\n",
              "      <td>Male</td>\n",
              "      <td>No</td>\n",
              "      <td>Thur</td>\n",
              "      <td>Lunch</td>\n",
              "      <td>2</td>\n",
              "      <td>0.190476</td>\n",
              "      <td>Weekday</td>\n",
              "      <td>20.744076</td>\n",
              "    </tr>\n",
              "    <tr>\n",
              "      <th>218</th>\n",
              "      <td>7.74</td>\n",
              "      <td>1.44</td>\n",
              "      <td>Male</td>\n",
              "      <td>Yes</td>\n",
              "      <td>Sat</td>\n",
              "      <td>Dinner</td>\n",
              "      <td>2</td>\n",
              "      <td>0.186047</td>\n",
              "      <td>Weekend</td>\n",
              "      <td>20.744076</td>\n",
              "    </tr>\n",
              "    <tr>\n",
              "      <th>126</th>\n",
              "      <td>8.52</td>\n",
              "      <td>1.48</td>\n",
              "      <td>Male</td>\n",
              "      <td>No</td>\n",
              "      <td>Thur</td>\n",
              "      <td>Lunch</td>\n",
              "      <td>2</td>\n",
              "      <td>0.173709</td>\n",
              "      <td>Weekday</td>\n",
              "      <td>20.744076</td>\n",
              "    </tr>\n",
              "  </tbody>\n",
              "</table>\n",
              "</div>"
            ],
            "text/plain": [
              "     total_bill   tip   sex smoker   day    time  size       pct day_type  \\\n",
              "172        7.25  5.15  Male    Yes   Sun  Dinner     2  0.710345  Weekend   \n",
              "149        7.51  2.00  Male     No  Thur   Lunch     2  0.266312  Weekday   \n",
              "195        7.56  1.44  Male     No  Thur   Lunch     2  0.190476  Weekday   \n",
              "218        7.74  1.44  Male    Yes   Sat  Dinner     2  0.186047  Weekend   \n",
              "126        8.52  1.48  Male     No  Thur   Lunch     2  0.173709  Weekday   \n",
              "\n",
              "     total_by_sex  \n",
              "172     20.744076  \n",
              "149     20.744076  \n",
              "195     20.744076  \n",
              "218     20.744076  \n",
              "126     20.744076  "
            ]
          },
          "execution_count": 117,
          "metadata": {},
          "output_type": "execute_result"
        }
      ],
      "source": [
        "tips['total_by_sex'] = tips.groupby('sex').total_bill.transform(lambda x: x.mean())\n",
        "tips.head()"
      ]
    },
    {
      "cell_type": "markdown",
      "metadata": {
        "id": "wGUgCrK5gY2j"
      },
      "source": [
        "### Demeaning by group\n",
        "\n",
        "If we want to demean by group, we can use apply instead of transform, because demeaning is not an aggregation."
      ]
    },
    {
      "cell_type": "code",
      "execution_count": 118,
      "metadata": {
        "colab": {
          "base_uri": "https://localhost:8080/",
          "height": 206
        },
        "id": "nm-JRU_EgY2j",
        "outputId": "5699e75d-b773-41ea-de83-6681784222ab"
      },
      "outputs": [
        {
          "data": {
            "text/html": [
              "<div>\n",
              "<style scoped>\n",
              "    .dataframe tbody tr th:only-of-type {\n",
              "        vertical-align: middle;\n",
              "    }\n",
              "\n",
              "    .dataframe tbody tr th {\n",
              "        vertical-align: top;\n",
              "    }\n",
              "\n",
              "    .dataframe thead th {\n",
              "        text-align: right;\n",
              "    }\n",
              "</style>\n",
              "<table border=\"1\" class=\"dataframe\">\n",
              "  <thead>\n",
              "    <tr style=\"text-align: right;\">\n",
              "      <th></th>\n",
              "      <th>total_bill</th>\n",
              "      <th>tip</th>\n",
              "      <th>sex</th>\n",
              "      <th>smoker</th>\n",
              "      <th>day</th>\n",
              "      <th>time</th>\n",
              "      <th>size</th>\n",
              "      <th>pct</th>\n",
              "      <th>day_type</th>\n",
              "      <th>total_by_sex</th>\n",
              "      <th>total_dev_from_mean_by_sex</th>\n",
              "    </tr>\n",
              "  </thead>\n",
              "  <tbody>\n",
              "    <tr>\n",
              "      <th>172</th>\n",
              "      <td>7.25</td>\n",
              "      <td>5.15</td>\n",
              "      <td>Male</td>\n",
              "      <td>Yes</td>\n",
              "      <td>Sun</td>\n",
              "      <td>Dinner</td>\n",
              "      <td>2</td>\n",
              "      <td>0.710345</td>\n",
              "      <td>Weekend</td>\n",
              "      <td>20.744076</td>\n",
              "      <td>-13.494076</td>\n",
              "    </tr>\n",
              "    <tr>\n",
              "      <th>149</th>\n",
              "      <td>7.51</td>\n",
              "      <td>2.00</td>\n",
              "      <td>Male</td>\n",
              "      <td>No</td>\n",
              "      <td>Thur</td>\n",
              "      <td>Lunch</td>\n",
              "      <td>2</td>\n",
              "      <td>0.266312</td>\n",
              "      <td>Weekday</td>\n",
              "      <td>20.744076</td>\n",
              "      <td>-13.234076</td>\n",
              "    </tr>\n",
              "    <tr>\n",
              "      <th>195</th>\n",
              "      <td>7.56</td>\n",
              "      <td>1.44</td>\n",
              "      <td>Male</td>\n",
              "      <td>No</td>\n",
              "      <td>Thur</td>\n",
              "      <td>Lunch</td>\n",
              "      <td>2</td>\n",
              "      <td>0.190476</td>\n",
              "      <td>Weekday</td>\n",
              "      <td>20.744076</td>\n",
              "      <td>-13.184076</td>\n",
              "    </tr>\n",
              "    <tr>\n",
              "      <th>218</th>\n",
              "      <td>7.74</td>\n",
              "      <td>1.44</td>\n",
              "      <td>Male</td>\n",
              "      <td>Yes</td>\n",
              "      <td>Sat</td>\n",
              "      <td>Dinner</td>\n",
              "      <td>2</td>\n",
              "      <td>0.186047</td>\n",
              "      <td>Weekend</td>\n",
              "      <td>20.744076</td>\n",
              "      <td>-13.004076</td>\n",
              "    </tr>\n",
              "    <tr>\n",
              "      <th>126</th>\n",
              "      <td>8.52</td>\n",
              "      <td>1.48</td>\n",
              "      <td>Male</td>\n",
              "      <td>No</td>\n",
              "      <td>Thur</td>\n",
              "      <td>Lunch</td>\n",
              "      <td>2</td>\n",
              "      <td>0.173709</td>\n",
              "      <td>Weekday</td>\n",
              "      <td>20.744076</td>\n",
              "      <td>-12.224076</td>\n",
              "    </tr>\n",
              "  </tbody>\n",
              "</table>\n",
              "</div>"
            ],
            "text/plain": [
              "     total_bill   tip   sex smoker   day    time  size       pct day_type  \\\n",
              "172        7.25  5.15  Male    Yes   Sun  Dinner     2  0.710345  Weekend   \n",
              "149        7.51  2.00  Male     No  Thur   Lunch     2  0.266312  Weekday   \n",
              "195        7.56  1.44  Male     No  Thur   Lunch     2  0.190476  Weekday   \n",
              "218        7.74  1.44  Male    Yes   Sat  Dinner     2  0.186047  Weekend   \n",
              "126        8.52  1.48  Male     No  Thur   Lunch     2  0.173709  Weekday   \n",
              "\n",
              "     total_by_sex  total_dev_from_mean_by_sex  \n",
              "172     20.744076                  -13.494076  \n",
              "149     20.744076                  -13.234076  \n",
              "195     20.744076                  -13.184076  \n",
              "218     20.744076                  -13.004076  \n",
              "126     20.744076                  -12.224076  "
            ]
          },
          "execution_count": 118,
          "metadata": {},
          "output_type": "execute_result"
        }
      ],
      "source": [
        "tips['total_dev_from_mean_by_sex'] = tips.groupby('sex').total_bill.apply(lambda x: x - x.mean())\n",
        "tips.head()"
      ]
    },
    {
      "cell_type": "markdown",
      "metadata": {
        "collapsed": false,
        "id": "KH6im94lgY2j",
        "pycharm": {
          "name": "#%% md\n"
        }
      },
      "source": [
        "### Index and reset index"
      ]
    },
    {
      "cell_type": "code",
      "execution_count": 119,
      "metadata": {
        "id": "qGAINXY3gY2j",
        "pycharm": {
          "name": "#%%\n"
        }
      },
      "outputs": [],
      "source": [
        "avgs = tips.groupby(['sex', 'time']).total_bill.mean()\n",
        "# avgs\n",
        "# avgs.loc[('Male', 'Dinner')]\n",
        "# avgs.index\n",
        "# avgs.reset_index()\n",
        "# avgs.reset_index().set_index(['sex', 'time])"
      ]
    },
    {
      "cell_type": "markdown",
      "metadata": {
        "collapsed": false,
        "id": "GzNKvxaBgY2k",
        "pycharm": {
          "name": "#%% md\n"
        }
      },
      "source": [
        "### Wide versus long form"
      ]
    },
    {
      "cell_type": "code",
      "execution_count": 120,
      "metadata": {
        "id": "7XBcxA8dgY2k",
        "pycharm": {
          "name": "#%%\n"
        }
      },
      "outputs": [],
      "source": [
        "# avgs.unstack()\n",
        "# avgs.unstack().stack()"
      ]
    },
    {
      "cell_type": "markdown",
      "metadata": {
        "collapsed": false,
        "id": "TkoPLoJwgY2k",
        "pycharm": {
          "name": "#%% md\n"
        }
      },
      "source": [
        "### Dataframes versus series\n",
        "\n",
        "* Pandas provides two classes: DataFrame and Series.  \n",
        "* A series is like a one column dataframe but not quite.  There are occasionally dataframe methods that are not available for a series.  \n",
        "* We can convert a series to a dataframe with pd.DataFrame."
      ]
    },
    {
      "cell_type": "code",
      "execution_count": 121,
      "metadata": {
        "id": "3-dFY-X2gY2k",
        "pycharm": {
          "name": "#%%\n"
        }
      },
      "outputs": [],
      "source": [
        "# type(tips)\n",
        "# type(tips.tip)\n",
        "# type(avgs)\n",
        "# type(avgs.unstack())\n",
        "# type(pd.DataFrame(tips.tip))"
      ]
    },
    {
      "cell_type": "markdown",
      "metadata": {
        "collapsed": false,
        "id": "o4vsMlIPgY2k",
        "pycharm": {
          "name": "#%% md\n"
        }
      },
      "source": [
        "### Pandas data reader"
      ]
    },
    {
      "cell_type": "code",
      "execution_count": 122,
      "metadata": {
        "id": "SVsPGE2ugY2k",
        "pycharm": {
          "name": "#%%\n"
        }
      },
      "outputs": [],
      "source": [
        "treasury10 = pdr('DGS10', 'fred', start=1980)\n",
        "treasury30 = pdr('DGS30', 'fred', start=1980)\n",
        "both = pdr(['DGS10', 'DGS30'], 'fred', start=1980)\n",
        "\n",
        "# treasury10.head()\n",
        "# treasury30.head()\n",
        "# both.head()\n",
        "# treasury10.index\n",
        "# type(treasury10)\n",
        "# np.log(1+both/100)"
      ]
    },
    {
      "cell_type": "markdown",
      "metadata": {
        "collapsed": false,
        "id": "EeIiHcMngY2k",
        "pycharm": {
          "name": "#%% md\n"
        }
      },
      "source": [
        "### Merging dataframes\n",
        "\n",
        "* Merge, join, and concatenate are different methods for combining dataframes.  \n",
        "* Merge provides the finest control."
      ]
    },
    {
      "cell_type": "code",
      "execution_count": 123,
      "metadata": {
        "colab": {
          "base_uri": "https://localhost:8080/"
        },
        "id": "NTbQq_lkgY2k",
        "outputId": "039ff416-6735-483d-c7b1-7279c367b571",
        "pycharm": {
          "name": "#%%\n"
        }
      },
      "outputs": [
        {
          "data": {
            "text/plain": [
              "[True, True, True, True]"
            ]
          },
          "execution_count": 123,
          "metadata": {},
          "output_type": "execute_result"
        }
      ],
      "source": [
        "both1 = treasury10.merge(treasury30, left_index=True, right_index=True)\n",
        "both2 = treasury10.merge(treasury30, on='DATE')\n",
        "both3 = treasury10.join(treasury30)\n",
        "both4 = pd.concat((treasury10, treasury30), axis=1)\n",
        "[both.equals(b) for b in [both1, both2, both3, both4]]\n"
      ]
    },
    {
      "cell_type": "markdown",
      "metadata": {
        "collapsed": false,
        "id": "2kEuzke8gY2l",
        "pycharm": {
          "name": "#%% md\n"
        }
      },
      "source": [
        "### Missing data\n",
        "\n",
        "* Missing values are recorded as NaN (not a number).  \n",
        "* We can drop them or fill them.  \n",
        "* We can fill with a specific value or fill from the previous entry or the next entry."
      ]
    },
    {
      "cell_type": "code",
      "execution_count": 124,
      "metadata": {
        "id": "vbnSyvJqgY2l",
        "pycharm": {
          "name": "#%%\n"
        }
      },
      "outputs": [],
      "source": [
        "# both.isna()\n",
        "# both.dropna()\n",
        "# both.dropna(subset=['DGS10'])\n",
        "# both.fillna(0)\n",
        "# both.bfill()\n",
        "# both.ffill()"
      ]
    },
    {
      "cell_type": "markdown",
      "metadata": {
        "collapsed": false,
        "id": "wYhsa-pugY2l",
        "pycharm": {
          "name": "#%% md\n"
        }
      },
      "source": [
        "### Working with time series\n",
        "\n"
      ]
    },
    {
      "cell_type": "code",
      "execution_count": 125,
      "metadata": {
        "id": "bDMQgxsogY2l",
        "pycharm": {
          "name": "#%%\n"
        }
      },
      "outputs": [],
      "source": [
        "# both.shift().head()\n",
        "# both.shift(2).head()\n",
        "# both.shift(-1).head()\n",
        "# both.diff().head()\n",
        "# both.diff(2).head()\n",
        "# both.pct_change()\n",
        "# both.rolling(5).mean()\n",
        "# both.rolling(5).std()\n",
        "# both.resample('M').last()\n",
        "# both.resample('MS').first()\n",
        "# both.resample('M').mean()"
      ]
    },
    {
      "cell_type": "markdown",
      "metadata": {
        "id": "opgcwRSFgY2l"
      },
      "source": [
        "The datetime format is a standard format.  When pdr gets daily data, it returns dates in the datetime format.  The datetime module contains functions for working with datetime objects.  Pandas implements some of them.  strftime will format datetime objects in many different ways.  Its inverse is strptime, which converts dates in different string formats into datetime objects."
      ]
    },
    {
      "cell_type": "code",
      "execution_count": 126,
      "metadata": {
        "id": "LEQnxm14gY2l"
      },
      "outputs": [],
      "source": [
        "# both.index.dtype\n",
        "# [x.year for x in both.index]\n",
        "# both.index.map(lambda x: x.month)\n",
        "# both.index.astype(str)\n",
        "# both.index.strftime(\"%b %d, %Y\")\n",
        "# both.resample('M').last().index.to_period('M')"
      ]
    },
    {
      "cell_type": "markdown",
      "metadata": {
        "id": "L8ADHhrWgY2l"
      },
      "source": [
        "### Upsampling\n",
        "\n",
        "We can map a time series into a higher frequency index with reindex.  This creates NaN's for the new dates.  We might want to fill those NaN's by inserting the most recent valid value with ffill (forward filling the time series).  Downsampling is done with resample as shown above."
      ]
    },
    {
      "cell_type": "code",
      "execution_count": 127,
      "metadata": {
        "colab": {
          "base_uri": "https://localhost:8080/",
          "height": 206
        },
        "id": "HwE4qEs-gY2l",
        "outputId": "7f8f693d-f5cd-43e7-b9b6-f2db31c573cc"
      },
      "outputs": [
        {
          "data": {
            "text/html": [
              "<div>\n",
              "<style scoped>\n",
              "    .dataframe tbody tr th:only-of-type {\n",
              "        vertical-align: middle;\n",
              "    }\n",
              "\n",
              "    .dataframe tbody tr th {\n",
              "        vertical-align: top;\n",
              "    }\n",
              "\n",
              "    .dataframe thead th {\n",
              "        text-align: right;\n",
              "    }\n",
              "</style>\n",
              "<table border=\"1\" class=\"dataframe\">\n",
              "  <thead>\n",
              "    <tr style=\"text-align: right;\">\n",
              "      <th></th>\n",
              "      <th>DGS10</th>\n",
              "      <th>DGS30</th>\n",
              "    </tr>\n",
              "  </thead>\n",
              "  <tbody>\n",
              "    <tr>\n",
              "      <th>1980-01-01</th>\n",
              "      <td>10.5</td>\n",
              "      <td>10.23</td>\n",
              "    </tr>\n",
              "    <tr>\n",
              "      <th>1980-01-02</th>\n",
              "      <td>10.5</td>\n",
              "      <td>10.23</td>\n",
              "    </tr>\n",
              "    <tr>\n",
              "      <th>1980-01-03</th>\n",
              "      <td>10.5</td>\n",
              "      <td>10.23</td>\n",
              "    </tr>\n",
              "    <tr>\n",
              "      <th>1980-01-04</th>\n",
              "      <td>10.5</td>\n",
              "      <td>10.23</td>\n",
              "    </tr>\n",
              "    <tr>\n",
              "      <th>1980-01-05</th>\n",
              "      <td>10.5</td>\n",
              "      <td>10.23</td>\n",
              "    </tr>\n",
              "  </tbody>\n",
              "</table>\n",
              "</div>"
            ],
            "text/plain": [
              "            DGS10  DGS30\n",
              "1980-01-01   10.5  10.23\n",
              "1980-01-02   10.5  10.23\n",
              "1980-01-03   10.5  10.23\n",
              "1980-01-04   10.5  10.23\n",
              "1980-01-05   10.5  10.23"
            ]
          },
          "execution_count": 127,
          "metadata": {},
          "output_type": "execute_result"
        }
      ],
      "source": [
        "monthly = both.resample('MS').first()\n",
        "min_date = monthly.index.min()\n",
        "max_date = monthly.index.max()\n",
        "new_index = pd.date_range(start=min_date, end=max_date, freq=\"D\")\n",
        "monthly = monthly.reindex(new_index).ffill()\n",
        "monthly.head()"
      ]
    },
    {
      "cell_type": "markdown",
      "metadata": {
        "collapsed": false,
        "id": "aSujbs1xgY2m",
        "pycharm": {
          "name": "#%% md\n"
        }
      },
      "source": [
        "### Saving and reading dataframes\n",
        "\n",
        "* To save or read in Colab, you need to \"mount\" your Google Drive.  Click on the file icon in the left toolbar and then click the Google drive icon.\n",
        "* pandas has read_csv, read_stata, read_sas, and read_excel functions."
      ]
    },
    {
      "cell_type": "code",
      "execution_count": 128,
      "metadata": {
        "id": "UKqKxR3ngY2m",
        "pycharm": {
          "name": "#%%\n"
        }
      },
      "outputs": [],
      "source": [
        "both.to_csv('filename.csv')\n",
        "newboth = pd.read_csv('filename.csv', parse_dates=['DATE'])"
      ]
    }
  ],
  "metadata": {
    "colab": {
      "include_colab_link": true,
      "name": "Python-Numpy-Pandas.ipynb",
      "provenance": []
    },
    "kernelspec": {
      "display_name": "Python 3.10.3 64-bit",
      "language": "python",
      "name": "python3"
    },
    "language_info": {
      "codemirror_mode": {
        "name": "ipython",
        "version": 3
      },
      "file_extension": ".py",
      "mimetype": "text/x-python",
      "name": "python",
      "nbconvert_exporter": "python",
      "pygments_lexer": "ipython3",
      "version": "3.10.3"
    },
    "orig_nbformat": 4,
    "vscode": {
      "interpreter": {
        "hash": "a98f34b6005ae2330f135078450db511ef8910ecc790235ef0560aa88aa6ce12"
      }
    }
  },
  "nbformat": 4,
  "nbformat_minor": 0
}
